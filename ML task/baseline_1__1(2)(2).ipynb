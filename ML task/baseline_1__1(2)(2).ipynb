{
  "nbformat": 4,
  "nbformat_minor": 0,
  "metadata": {
    "kernelspec": {
      "display_name": "Python 3",
      "language": "python",
      "name": "python3"
    },
    "language_info": {
      "codemirror_mode": {
        "name": "ipython",
        "version": 3
      },
      "file_extension": ".py",
      "mimetype": "text/x-python",
      "name": "python",
      "nbconvert_exporter": "python",
      "pygments_lexer": "ipython3",
      "version": "3.7.4"
    },
    "colab": {
      "name": "baseline_1__1.ipynb",
      "provenance": [],
      "collapsed_sections": []
    },
    "widgets": {
      "application/vnd.jupyter.widget-state+json": {
        "d8931b5456854a8aaef6a9b94c72d566": {
          "model_module": "catboost-widget",
          "model_name": "CatboostWidgetModel",
          "model_module_version": "^1.0.0",
          "state": {
            "_view_name": "CatboostWidgetView",
            "_dom_classes": [],
            "_model_name": "CatboostWidgetModel",
            "data": {
              "catboost_info": {
                "content": {
                  "data": {
                    "meta": {
                      "name": "experiment",
                      "parameters": "",
                      "test_metrics": [
                        {
                          "best_value": "Max",
                          "name": "AUC"
                        },
                        {
                          "best_value": "Min",
                          "name": "Logloss"
                        }
                      ],
                      "learn_sets": [
                        "learn"
                      ],
                      "launch_mode": "Train",
                      "learn_metrics": [
                        {
                          "best_value": "Min",
                          "name": "Logloss"
                        }
                      ],
                      "iteration_count": 1000,
                      "test_sets": [
                        "test"
                      ]
                    },
                    "iterations": [
                      {
                        "test": [
                          0.7998270911,
                          0.6710279323
                        ],
                        "passed_time": 0.06500358194,
                        "iteration": 0,
                        "remaining_time": 64.93857835,
                        "learn": [
                          0.6658727549
                        ]
                      },
                      {
                        "test": [
                          0.8321960457,
                          0.6473421361
                        ],
                        "passed_time": 0.07267031962,
                        "iteration": 1,
                        "remaining_time": 36.26248949,
                        "learn": [
                          0.6433380583
                        ]
                      },
                      {
                        "test": [
                          0.8331305771,
                          0.625355992
                        ],
                        "passed_time": 0.08466441528,
                        "iteration": 2,
                        "remaining_time": 28.13680734,
                        "learn": [
                          0.622043635
                        ]
                      },
                      {
                        "test": [
                          0.8397597802,
                          0.6041339063
                        ],
                        "passed_time": 0.09865077719,
                        "iteration": 3,
                        "remaining_time": 24.56404352,
                        "learn": [
                          0.6016877674
                        ]
                      },
                      {
                        "test": [
                          0.8408116425,
                          0.5878556071
                        ],
                        "passed_time": 0.1141813767,
                        "iteration": 4,
                        "remaining_time": 22.72209396,
                        "learn": [
                          0.5840213929
                        ]
                      },
                      {
                        "test": [
                          0.8411636356,
                          0.5705533879
                        ],
                        "passed_time": 0.1273087851,
                        "iteration": 5,
                        "remaining_time": 21.09082207,
                        "learn": [
                          0.5669386033
                        ]
                      },
                      {
                        "test": [
                          0.8417801381,
                          0.5556588553
                        ],
                        "passed_time": 0.1403658093,
                        "iteration": 6,
                        "remaining_time": 19.91189266,
                        "learn": [
                          0.5522234328
                        ]
                      },
                      {
                        "test": [
                          0.8424738321,
                          0.5431593836
                        ],
                        "passed_time": 0.1545185101,
                        "iteration": 7,
                        "remaining_time": 19.16029525,
                        "learn": [
                          0.5392623589
                        ]
                      },
                      {
                        "test": [
                          0.8441782197,
                          0.5300706894
                        ],
                        "passed_time": 0.1655558955,
                        "iteration": 8,
                        "remaining_time": 18.2295436,
                        "learn": [
                          0.5265807537
                        ]
                      },
                      {
                        "test": [
                          0.8438931258,
                          0.5191259636
                        ],
                        "passed_time": 0.1840186881,
                        "iteration": 9,
                        "remaining_time": 18.21785012,
                        "learn": [
                          0.5159613428
                        ]
                      },
                      {
                        "test": [
                          0.8440351581,
                          0.5095713001
                        ],
                        "passed_time": 0.2022105332,
                        "iteration": 10,
                        "remaining_time": 18.18056522,
                        "learn": [
                          0.5069959885
                        ]
                      },
                      {
                        "test": [
                          0.8448585338,
                          0.5013798728
                        ],
                        "passed_time": 0.2196219697,
                        "iteration": 11,
                        "remaining_time": 18.08220884,
                        "learn": [
                          0.4986921938
                        ]
                      },
                      {
                        "test": [
                          0.8456911724,
                          0.4930509138
                        ],
                        "passed_time": 0.2339578022,
                        "iteration": 12,
                        "remaining_time": 17.76279621,
                        "learn": [
                          0.4906358838
                        ]
                      },
                      {
                        "test": [
                          0.845998909,
                          0.4858847716
                        ],
                        "passed_time": 0.2489672113,
                        "iteration": 13,
                        "remaining_time": 17.53440503,
                        "learn": [
                          0.4832547954
                        ]
                      },
                      {
                        "test": [
                          0.8461913731,
                          0.48045074
                        ],
                        "passed_time": 0.2632934905,
                        "iteration": 14,
                        "remaining_time": 17.28960588,
                        "learn": [
                          0.4771662498
                        ]
                      },
                      {
                        "test": [
                          0.8457632178,
                          0.474894053
                        ],
                        "passed_time": 0.2754285452,
                        "iteration": 15,
                        "remaining_time": 16.93885553,
                        "learn": [
                          0.4714638938
                        ]
                      },
                      {
                        "test": [
                          0.8453093319,
                          0.4699673175
                        ],
                        "passed_time": 0.2883887935,
                        "iteration": 16,
                        "remaining_time": 16.67565788,
                        "learn": [
                          0.4661063967
                        ]
                      },
                      {
                        "test": [
                          0.8452897768,
                          0.4653009854
                        ],
                        "passed_time": 0.3037676856,
                        "iteration": 17,
                        "remaining_time": 16.57221485,
                        "learn": [
                          0.4607817577
                        ]
                      },
                      {
                        "test": [
                          0.8456500036,
                          0.4609893719
                        ],
                        "passed_time": 0.3175446502,
                        "iteration": 18,
                        "remaining_time": 16.39533167,
                        "learn": [
                          0.4555973772
                        ]
                      },
                      {
                        "test": [
                          0.8454956207,
                          0.4572642867
                        ],
                        "passed_time": 0.331947715,
                        "iteration": 19,
                        "remaining_time": 16.26543804,
                        "learn": [
                          0.4515241074
                        ]
                      },
                      {
                        "test": [
                          0.8454791532,
                          0.4545184938
                        ],
                        "passed_time": 0.339532037,
                        "iteration": 20,
                        "remaining_time": 15.8286602,
                        "learn": [
                          0.4485835205
                        ]
                      },
                      {
                        "test": [
                          0.8457611593,
                          0.4519191287
                        ],
                        "passed_time": 0.3453571784,
                        "iteration": 21,
                        "remaining_time": 15.35269639,
                        "learn": [
                          0.4462520065
                        ]
                      },
                      {
                        "test": [
                          0.8458620228,
                          0.4487761557
                        ],
                        "passed_time": 0.3616013922,
                        "iteration": 22,
                        "remaining_time": 15.36019827,
                        "learn": [
                          0.4429923964
                        ]
                      },
                      {
                        "test": [
                          0.8464342689,
                          0.4462127056
                        ],
                        "passed_time": 0.376718712,
                        "iteration": 23,
                        "remaining_time": 15.31989429,
                        "learn": [
                          0.4399102978
                        ]
                      },
                      {
                        "test": [
                          0.8470950278,
                          0.4434417183
                        ],
                        "passed_time": 0.3888375861,
                        "iteration": 24,
                        "remaining_time": 15.16466586,
                        "learn": [
                          0.4370195248
                        ]
                      },
                      {
                        "test": [
                          0.8478340075,
                          0.4418309657
                        ],
                        "passed_time": 0.4015138662,
                        "iteration": 25,
                        "remaining_time": 15.04132714,
                        "learn": [
                          0.4354550735
                        ]
                      },
                      {
                        "test": [
                          0.8482179064,
                          0.4397608696
                        ],
                        "passed_time": 0.4151232628,
                        "iteration": 26,
                        "remaining_time": 14.9598124,
                        "learn": [
                          0.4327885099
                        ]
                      },
                      {
                        "test": [
                          0.8492121324,
                          0.4374809272
                        ],
                        "passed_time": 0.4236092218,
                        "iteration": 27,
                        "remaining_time": 14.70529156,
                        "learn": [
                          0.4309622519
                        ]
                      },
                      {
                        "test": [
                          0.8496433754,
                          0.4358891024
                        ],
                        "passed_time": 0.4353296522,
                        "iteration": 28,
                        "remaining_time": 14.57603766,
                        "learn": [
                          0.4289567447
                        ]
                      },
                      {
                        "test": [
                          0.849734976,
                          0.434131364
                        ],
                        "passed_time": 0.4508788377,
                        "iteration": 29,
                        "remaining_time": 14.57841575,
                        "learn": [
                          0.4267460643
                        ]
                      },
                      {
                        "test": [
                          0.8501837157,
                          0.4322743556
                        ],
                        "passed_time": 0.4626859957,
                        "iteration": 30,
                        "remaining_time": 14.4626687,
                        "learn": [
                          0.424515862
                        ]
                      },
                      {
                        "test": [
                          0.8503267772,
                          0.430788201
                        ],
                        "passed_time": 0.4774597822,
                        "iteration": 31,
                        "remaining_time": 14.44315841,
                        "learn": [
                          0.4225691781
                        ]
                      },
                      {
                        "test": [
                          0.8505686438,
                          0.4293375529
                        ],
                        "passed_time": 0.490826752,
                        "iteration": 32,
                        "remaining_time": 14.38271119,
                        "learn": [
                          0.4208963179
                        ]
                      },
                      {
                        "test": [
                          0.8506900917,
                          0.4282970386
                        ],
                        "passed_time": 0.50433874,
                        "iteration": 33,
                        "remaining_time": 14.32915361,
                        "learn": [
                          0.4186274095
                        ]
                      },
                      {
                        "test": [
                          0.8506983255,
                          0.4273199649
                        ],
                        "passed_time": 0.5147115328,
                        "iteration": 34,
                        "remaining_time": 14.19133226,
                        "learn": [
                          0.4176560242
                        ]
                      },
                      {
                        "test": [
                          0.8511738249,
                          0.4259271362
                        ],
                        "passed_time": 0.5251956526,
                        "iteration": 35,
                        "remaining_time": 14.06357248,
                        "learn": [
                          0.4161616088
                        ]
                      },
                      {
                        "test": [
                          0.851169708,
                          0.4248994615
                        ],
                        "passed_time": 0.5378692042,
                        "iteration": 36,
                        "remaining_time": 13.99913631,
                        "learn": [
                          0.4147909408
                        ]
                      },
                      {
                        "test": [
                          0.850935046,
                          0.4246134484
                        ],
                        "passed_time": 0.5537265853,
                        "iteration": 37,
                        "remaining_time": 14.01802566,
                        "learn": [
                          0.4137157344
                        ]
                      },
                      {
                        "test": [
                          0.8510709029,
                          0.4241604589
                        ],
                        "passed_time": 0.5646376377,
                        "iteration": 38,
                        "remaining_time": 13.91325051,
                        "learn": [
                          0.4130767068
                        ]
                      },
                      {
                        "test": [
                          0.8511305977,
                          0.4238268706
                        ],
                        "passed_time": 0.5687969287,
                        "iteration": 39,
                        "remaining_time": 13.65112629,
                        "learn": [
                          0.4127966824
                        ]
                      },
                      {
                        "test": [
                          0.8512314612,
                          0.4232595945
                        ],
                        "passed_time": 0.5830343688,
                        "iteration": 40,
                        "remaining_time": 13.63731609,
                        "learn": [
                          0.411847184
                        ]
                      },
                      {
                        "test": [
                          0.8510153251,
                          0.4231439291
                        ],
                        "passed_time": 0.5908434424,
                        "iteration": 41,
                        "remaining_time": 13.47685757,
                        "learn": [
                          0.4115513145
                        ]
                      },
                      {
                        "test": [
                          0.8511326561,
                          0.4222883036
                        ],
                        "passed_time": 0.6047190278,
                        "iteration": 42,
                        "remaining_time": 13.45851418,
                        "learn": [
                          0.4099294424
                        ]
                      },
                      {
                        "test": [
                          0.8511913216,
                          0.4216021008
                        ],
                        "passed_time": 0.6178692692,
                        "iteration": 43,
                        "remaining_time": 13.42461412,
                        "learn": [
                          0.4085543989
                        ]
                      },
                      {
                        "test": [
                          0.8512613085,
                          0.421032693
                        ],
                        "passed_time": 0.6319739568,
                        "iteration": 44,
                        "remaining_time": 13.41189175,
                        "learn": [
                          0.4075521025
                        ]
                      },
                      {
                        "test": [
                          0.8512654254,
                          0.4205812084
                        ],
                        "passed_time": 0.6438886717,
                        "iteration": 45,
                        "remaining_time": 13.35369115,
                        "learn": [
                          0.40666686
                        ]
                      },
                      {
                        "test": [
                          0.8511295684,
                          0.4202427455
                        ],
                        "passed_time": 0.656973448,
                        "iteration": 46,
                        "remaining_time": 13.32118502,
                        "learn": [
                          0.405867102
                        ]
                      },
                      {
                        "test": [
                          0.8508897603,
                          0.4198156156
                        ],
                        "passed_time": 0.6692074854,
                        "iteration": 47,
                        "remaining_time": 13.27261513,
                        "learn": [
                          0.404958341
                        ]
                      },
                      {
                        "test": [
                          0.8507847799,
                          0.4193199661
                        ],
                        "passed_time": 0.6829950132,
                        "iteration": 48,
                        "remaining_time": 13.25567873,
                        "learn": [
                          0.4038289685
                        ]
                      },
                      {
                        "test": [
                          0.8508177149,
                          0.4187360774
                        ],
                        "passed_time": 0.6968816038,
                        "iteration": 49,
                        "remaining_time": 13.24075047,
                        "learn": [
                          0.4024991029
                        ]
                      },
                      {
                        "test": [
                          0.8509268122,
                          0.4185047987
                        ],
                        "passed_time": 0.7085840203,
                        "iteration": 50,
                        "remaining_time": 13.1852203,
                        "learn": [
                          0.40182119
                        ]
                      },
                      {
                        "test": [
                          0.8511501528,
                          0.4182098731
                        ],
                        "passed_time": 0.7221835387,
                        "iteration": 51,
                        "remaining_time": 13.16596144,
                        "learn": [
                          0.4013258987
                        ]
                      },
                      {
                        "test": [
                          0.8511007503,
                          0.4178012205
                        ],
                        "passed_time": 0.7342921322,
                        "iteration": 52,
                        "remaining_time": 13.1202764,
                        "learn": [
                          0.4001228229
                        ]
                      },
                      {
                        "test": [
                          0.8510966334,
                          0.4177862001
                        ],
                        "passed_time": 0.7387122347,
                        "iteration": 53,
                        "remaining_time": 12.94114396,
                        "learn": [
                          0.3999747953
                        ]
                      },
                      {
                        "test": [
                          0.8512654254,
                          0.4173982037
                        ],
                        "passed_time": 0.7527151699,
                        "iteration": 54,
                        "remaining_time": 12.93301519,
                        "learn": [
                          0.3993252668
                        ]
                      },
                      {
                        "test": [
                          0.8510822243,
                          0.4171253951
                        ],
                        "passed_time": 0.7657972716,
                        "iteration": 55,
                        "remaining_time": 12.90915401,
                        "learn": [
                          0.3986915798
                        ]
                      },
                      {
                        "test": [
                          0.8512283735,
                          0.4168674066
                        ],
                        "passed_time": 0.7786627531,
                        "iteration": 56,
                        "remaining_time": 12.8820873,
                        "learn": [
                          0.3981728745
                        ]
                      },
                      {
                        "test": [
                          0.8511213347,
                          0.416533851
                        ],
                        "passed_time": 0.7923400058,
                        "iteration": 57,
                        "remaining_time": 12.86869458,
                        "learn": [
                          0.3974858961
                        ]
                      },
                      {
                        "test": [
                          0.8511378022,
                          0.4163770456
                        ],
                        "passed_time": 0.8043297101,
                        "iteration": 58,
                        "remaining_time": 12.82837724,
                        "learn": [
                          0.3970531253
                        ]
                      },
                      {
                        "test": [
                          0.8513662889,
                          0.415883072
                        ],
                        "passed_time": 0.8174985471,
                        "iteration": 59,
                        "remaining_time": 12.80747724,
                        "learn": [
                          0.3964152861
                        ]
                      },
                      {
                        "test": [
                          0.8513127695,
                          0.4158070224
                        ],
                        "passed_time": 0.8314339681,
                        "iteration": 60,
                        "remaining_time": 12.79863108,
                        "learn": [
                          0.3957798333
                        ]
                      },
                      {
                        "test": [
                          0.8512592501,
                          0.4156405527
                        ],
                        "passed_time": 0.843935393,
                        "iteration": 61,
                        "remaining_time": 12.76792578,
                        "learn": [
                          0.3951586135
                        ]
                      },
                      {
                        "test": [
                          0.8514795031,
                          0.4155020574
                        ],
                        "passed_time": 0.8562532553,
                        "iteration": 62,
                        "remaining_time": 12.73506826,
                        "learn": [
                          0.394685508
                        ]
                      },
                      {
                        "test": [
                          0.8516235938,
                          0.4153042368
                        ],
                        "passed_time": 0.8697001772,
                        "iteration": 63,
                        "remaining_time": 12.71936509,
                        "learn": [
                          0.3941737841
                        ]
                      },
                      {
                        "test": [
                          0.8515350809,
                          0.4153627217
                        ],
                        "passed_time": 0.8742450409,
                        "iteration": 64,
                        "remaining_time": 12.57567866,
                        "learn": [
                          0.3941249861
                        ]
                      },
                      {
                        "test": [
                          0.8516359445,
                          0.4151069834
                        ],
                        "passed_time": 0.8853667966,
                        "iteration": 65,
                        "remaining_time": 12.52928164,
                        "learn": [
                          0.393800173
                        ]
                      },
                      {
                        "test": [
                          0.8516359445,
                          0.4148483568
                        ],
                        "passed_time": 0.8988716563,
                        "iteration": 66,
                        "remaining_time": 12.51712321,
                        "learn": [
                          0.3931227033
                        ]
                      },
                      {
                        "test": [
                          0.851498029,
                          0.4148764962
                        ],
                        "passed_time": 0.9125842607,
                        "iteration": 67,
                        "remaining_time": 12.50777251,
                        "learn": [
                          0.3925761025
                        ]
                      },
                      {
                        "test": [
                          0.8515330225,
                          0.4147832074
                        ],
                        "passed_time": 0.9188519826,
                        "iteration": 68,
                        "remaining_time": 12.39784342,
                        "learn": [
                          0.3924390859
                        ]
                      },
                      {
                        "test": [
                          0.8512736592,
                          0.4148215086
                        ],
                        "passed_time": 0.9317556131,
                        "iteration": 69,
                        "remaining_time": 12.37903886,
                        "learn": [
                          0.3918628117
                        ]
                      },
                      {
                        "test": [
                          0.8512530748,
                          0.4147755816
                        ],
                        "passed_time": 0.9401545121,
                        "iteration": 70,
                        "remaining_time": 12.30145833,
                        "learn": [
                          0.3917672011
                        ]
                      },
                      {
                        "test": [
                          0.8512551332,
                          0.4147981625
                        ],
                        "passed_time": 0.9460904314,
                        "iteration": 71,
                        "remaining_time": 12.19405445,
                        "learn": [
                          0.3917022498
                        ]
                      },
                      {
                        "test": [
                          0.8512366073,
                          0.4147247813
                        ],
                        "passed_time": 0.9564746503,
                        "iteration": 72,
                        "remaining_time": 12.14591782,
                        "learn": [
                          0.3916010766
                        ]
                      },
                      {
                        "test": [
                          0.8512613085,
                          0.4145683276
                        ],
                        "passed_time": 0.9698789932,
                        "iteration": 73,
                        "remaining_time": 12.13659389,
                        "learn": [
                          0.3913042082
                        ]
                      },
                      {
                        "test": [
                          0.8512180813,
                          0.4145034425
                        ],
                        "passed_time": 0.983177061,
                        "iteration": 74,
                        "remaining_time": 12.12585042,
                        "learn": [
                          0.3908803948
                        ]
                      },
                      {
                        "test": [
                          0.851211906,
                          0.4143642127
                        ],
                        "passed_time": 1.009477842,
                        "iteration": 75,
                        "remaining_time": 12.27312534,
                        "learn": [
                          0.3906620955
                        ]
                      },
                      {
                        "test": [
                          0.8511769125,
                          0.4141866517
                        ],
                        "passed_time": 1.021885413,
                        "iteration": 76,
                        "remaining_time": 12.24935371,
                        "learn": [
                          0.3898733553
                        ]
                      },
                      {
                        "test": [
                          0.8511501528,
                          0.41410297
                        ],
                        "passed_time": 1.037268487,
                        "iteration": 77,
                        "remaining_time": 12.26104545,
                        "learn": [
                          0.3892112519
                        ]
                      },
                      {
                        "test": [
                          0.8510966334,
                          0.4141194497
                        ],
                        "passed_time": 1.044802095,
                        "iteration": 78,
                        "remaining_time": 12.18054088,
                        "learn": [
                          0.3891403362
                        ]
                      },
                      {
                        "test": [
                          0.85112751,
                          0.4140742407
                        ],
                        "passed_time": 1.053481053,
                        "iteration": 79,
                        "remaining_time": 12.11503211,
                        "learn": [
                          0.3890977675
                        ]
                      },
                      {
                        "test": [
                          0.8511151594,
                          0.413919267
                        ],
                        "passed_time": 1.068399443,
                        "iteration": 80,
                        "remaining_time": 12.12171713,
                        "learn": [
                          0.3886728154
                        ]
                      },
                      {
                        "test": [
                          0.8511522113,
                          0.4138660953
                        ],
                        "passed_time": 1.074428333,
                        "iteration": 81,
                        "remaining_time": 12.02835621,
                        "learn": [
                          0.3886347142
                        ]
                      },
                      {
                        "test": [
                          0.8510657568,
                          0.4139190907
                        ],
                        "passed_time": 1.08206859,
                        "iteration": 82,
                        "remaining_time": 11.95490238,
                        "learn": [
                          0.3884862941
                        ]
                      },
                      {
                        "test": [
                          0.851010179,
                          0.4138793546
                        ],
                        "passed_time": 1.09244677,
                        "iteration": 83,
                        "remaining_time": 11.91287192,
                        "learn": [
                          0.3883872876
                        ]
                      },
                      {
                        "test": [
                          0.8510595815,
                          0.4138014781
                        ],
                        "passed_time": 1.098437731,
                        "iteration": 84,
                        "remaining_time": 11.8243591,
                        "learn": [
                          0.3882967394
                        ]
                      },
                      {
                        "test": [
                          0.8509401921,
                          0.4138267925
                        ],
                        "passed_time": 1.109853275,
                        "iteration": 85,
                        "remaining_time": 11.79541737,
                        "learn": [
                          0.3880120604
                        ]
                      },
                      {
                        "test": [
                          0.8507302313,
                          0.4138219595
                        ],
                        "passed_time": 1.122387445,
                        "iteration": 86,
                        "remaining_time": 11.77861767,
                        "learn": [
                          0.3877996551
                        ]
                      },
                      {
                        "test": [
                          0.8507940429,
                          0.4138248452
                        ],
                        "passed_time": 1.130300277,
                        "iteration": 87,
                        "remaining_time": 11.71402105,
                        "learn": [
                          0.3876814882
                        ]
                      },
                      {
                        "test": [
                          0.8507322897,
                          0.4138337004
                        ],
                        "passed_time": 1.14277844,
                        "iteration": 88,
                        "remaining_time": 11.69742875,
                        "learn": [
                          0.3872635501
                        ]
                      },
                      {
                        "test": [
                          0.8507425819,
                          0.4138038818
                        ],
                        "passed_time": 1.151625607,
                        "iteration": 89,
                        "remaining_time": 11.64421447,
                        "learn": [
                          0.3871087812
                        ]
                      },
                      {
                        "test": [
                          0.8507178806,
                          0.4138178128
                        ],
                        "passed_time": 1.164963903,
                        "iteration": 90,
                        "remaining_time": 11.63683723,
                        "learn": [
                          0.3869249023
                        ]
                      },
                      {
                        "test": [
                          0.8507714,
                          0.4136269617
                        ],
                        "passed_time": 1.179057016,
                        "iteration": 91,
                        "remaining_time": 11.63678011,
                        "learn": [
                          0.3865916276
                        ]
                      },
                      {
                        "test": [
                          0.8507755169,
                          0.4135856587
                        ],
                        "passed_time": 1.196689358,
                        "iteration": 92,
                        "remaining_time": 11.67093814,
                        "learn": [
                          0.3864006937
                        ]
                      },
                      {
                        "test": [
                          0.8508022766,
                          0.4134833851
                        ],
                        "passed_time": 1.210738488,
                        "iteration": 93,
                        "remaining_time": 11.66945819,
                        "learn": [
                          0.3859565023
                        ]
                      },
                      {
                        "test": [
                          0.8508434454,
                          0.4133938862
                        ],
                        "passed_time": 1.221975046,
                        "iteration": 94,
                        "remaining_time": 11.64092017,
                        "learn": [
                          0.3856952558
                        ]
                      },
                      {
                        "test": [
                          0.8509175492,
                          0.4132804097
                        ],
                        "passed_time": 1.226363535,
                        "iteration": 95,
                        "remaining_time": 11.54825662,
                        "learn": [
                          0.3856014273
                        ]
                      },
                      {
                        "test": [
                          0.8509401921,
                          0.4132185946
                        ],
                        "passed_time": 1.238709362,
                        "iteration": 96,
                        "remaining_time": 11.53149025,
                        "learn": [
                          0.3855329649
                        ]
                      },
                      {
                        "test": [
                          0.8510513478,
                          0.413249875
                        ],
                        "passed_time": 1.246971874,
                        "iteration": 97,
                        "remaining_time": 11.47723092,
                        "learn": [
                          0.3853288029
                        ]
                      },
                      {
                        "test": [
                          0.85106164,
                          0.4132030679
                        ],
                        "passed_time": 1.262544048,
                        "iteration": 98,
                        "remaining_time": 11.49042613,
                        "learn": [
                          0.3852079558
                        ]
                      },
                      {
                        "test": [
                          0.8509082862,
                          0.413250195
                        ],
                        "passed_time": 1.269792551,
                        "iteration": 99,
                        "remaining_time": 11.42813296,
                        "learn": [
                          0.3851400066
                        ]
                      },
                      {
                        "test": [
                          0.851052377,
                          0.413124432
                        ],
                        "passed_time": 1.28477422,
                        "iteration": 100,
                        "remaining_time": 11.43576261,
                        "learn": [
                          0.3848734217
                        ]
                      },
                      {
                        "test": [
                          0.8510297342,
                          0.4130769576
                        ],
                        "passed_time": 1.292091968,
                        "iteration": 101,
                        "remaining_time": 11.37547635,
                        "learn": [
                          0.3848330681
                        ]
                      },
                      {
                        "test": [
                          0.8510276757,
                          0.4130537358
                        ],
                        "passed_time": 1.298024637,
                        "iteration": 102,
                        "remaining_time": 11.3041563,
                        "learn": [
                          0.3848125696
                        ]
                      },
                      {
                        "test": [
                          0.8505871697,
                          0.4133077775
                        ],
                        "passed_time": 1.310827563,
                        "iteration": 103,
                        "remaining_time": 11.29328362,
                        "learn": [
                          0.3841960798
                        ]
                      },
                      {
                        "test": [
                          0.8507580202,
                          0.4131714076
                        ],
                        "passed_time": 1.323239923,
                        "iteration": 104,
                        "remaining_time": 11.27904506,
                        "learn": [
                          0.3840439219
                        ]
                      },
                      {
                        "test": [
                          0.8507641955,
                          0.4131158977
                        ],
                        "passed_time": 1.335986718,
                        "iteration": 105,
                        "remaining_time": 11.26766157,
                        "learn": [
                          0.383808778
                        ]
                      },
                      {
                        "test": [
                          0.8510667861,
                          0.4130349812
                        ],
                        "passed_time": 1.348375408,
                        "iteration": 106,
                        "remaining_time": 11.25326392,
                        "learn": [
                          0.3834027539
                        ]
                      },
                      {
                        "test": [
                          0.8509226953,
                          0.4131155107
                        ],
                        "passed_time": 1.362355698,
                        "iteration": 107,
                        "remaining_time": 11.25204891,
                        "learn": [
                          0.3831251119
                        ]
                      },
                      {
                        "test": [
                          0.8507641955,
                          0.4132607239
                        ],
                        "passed_time": 1.376516153,
                        "iteration": 108,
                        "remaining_time": 11.25207241,
                        "learn": [
                          0.382838533
                        ]
                      },
                      {
                        "test": [
                          0.850714793,
                          0.4133213141
                        ],
                        "passed_time": 1.38382746,
                        "iteration": 109,
                        "remaining_time": 11.19642217,
                        "learn": [
                          0.3827722903
                        ]
                      },
                      {
                        "test": [
                          0.8506036373,
                          0.4132934339
                        ],
                        "passed_time": 1.396090943,
                        "iteration": 110,
                        "remaining_time": 11.18130494,
                        "learn": [
                          0.3826099424
                        ]
                      },
                      {
                        "test": [
                          0.8505809944,
                          0.4132678545
                        ],
                        "passed_time": 1.407283641,
                        "iteration": 111,
                        "remaining_time": 11.15774887,
                        "learn": [
                          0.3825440211
                        ]
                      },
                      {
                        "test": [
                          0.8504780725,
                          0.4133283533
                        ],
                        "passed_time": 1.420901209,
                        "iteration": 112,
                        "remaining_time": 11.15344577,
                        "learn": [
                          0.3824318138
                        ]
                      },
                      {
                        "test": [
                          0.8504780725,
                          0.4133282351
                        ],
                        "passed_time": 1.425144121,
                        "iteration": 113,
                        "remaining_time": 11.0761201,
                        "learn": [
                          0.382418215
                        ]
                      },
                      {
                        "test": [
                          0.8503216311,
                          0.4133657237
                        ],
                        "passed_time": 1.438121705,
                        "iteration": 114,
                        "remaining_time": 11.06728443,
                        "learn": [
                          0.382132205
                        ]
                      },
                      {
                        "test": [
                          0.8502639948,
                          0.413403313
                        ],
                        "passed_time": 1.444495349,
                        "iteration": 115,
                        "remaining_time": 11.00805077,
                        "learn": [
                          0.3820658683
                        ]
                      },
                      {
                        "test": [
                          0.8502619364,
                          0.4134414318
                        ],
                        "passed_time": 1.457269841,
                        "iteration": 116,
                        "remaining_time": 10.99802795,
                        "learn": [
                          0.3816903332
                        ]
                      },
                      {
                        "test": [
                          0.8503483908,
                          0.4133763737
                        ],
                        "passed_time": 1.472296819,
                        "iteration": 117,
                        "remaining_time": 11.00479487,
                        "learn": [
                          0.3814344701
                        ]
                      },
                      {
                        "test": [
                          0.8504513128,
                          0.4133903085
                        ],
                        "passed_time": 1.487465495,
                        "iteration": 118,
                        "remaining_time": 11.01224455,
                        "learn": [
                          0.3812159671
                        ]
                      },
                      {
                        "test": [
                          0.8504924816,
                          0.4133583581
                        ],
                        "passed_time": 1.505427934,
                        "iteration": 119,
                        "remaining_time": 11.03980485,
                        "learn": [
                          0.3809751922
                        ]
                      },
                      {
                        "test": [
                          0.8504924816,
                          0.4133583947
                        ],
                        "passed_time": 1.511852649,
                        "iteration": 120,
                        "remaining_time": 10.98279734,
                        "learn": [
                          0.3809604004
                        ]
                      },
                      {
                        "test": [
                          0.8503319233,
                          0.4134508838
                        ],
                        "passed_time": 1.525923172,
                        "iteration": 121,
                        "remaining_time": 10.98164381,
                        "learn": [
                          0.380754699
                        ]
                      },
                      {
                        "test": [
                          0.8502825208,
                          0.4134777154
                        ],
                        "passed_time": 1.536818698,
                        "iteration": 122,
                        "remaining_time": 10.95764226,
                        "learn": [
                          0.3806688982
                        ]
                      },
                      {
                        "test": [
                          0.850124021,
                          0.4135314882
                        ],
                        "passed_time": 1.550117758,
                        "iteration": 123,
                        "remaining_time": 10.9508319,
                        "learn": [
                          0.3800923896
                        ]
                      },
                      {
                        "test": [
                          0.8500910859,
                          0.4135630224
                        ],
                        "passed_time": 1.564040665,
                        "iteration": 124,
                        "remaining_time": 10.94828466,
                        "learn": [
                          0.3794932317
                        ]
                      },
                      {
                        "test": [
                          0.8500416834,
                          0.4135611036
                        ],
                        "passed_time": 1.577773088,
                        "iteration": 125,
                        "remaining_time": 10.94423555,
                        "learn": [
                          0.3792138133
                        ]
                      },
                      {
                        "test": [
                          0.8500519756,
                          0.4135412665
                        ],
                        "passed_time": 1.590359593,
                        "iteration": 126,
                        "remaining_time": 10.93215688,
                        "learn": [
                          0.3790739963
                        ]
                      },
                      {
                        "test": [
                          0.8500478587,
                          0.4135963659
                        ],
                        "passed_time": 1.597941155,
                        "iteration": 127,
                        "remaining_time": 10.88597412,
                        "learn": [
                          0.3789945079
                        ]
                      },
                      {
                        "test": [
                          0.8500478587,
                          0.4135963677
                        ],
                        "passed_time": 1.601737722,
                        "iteration": 128,
                        "remaining_time": 10.81483377,
                        "learn": [
                          0.3789945076
                        ]
                      },
                      {
                        "test": [
                          0.8500478587,
                          0.4135964648
                        ],
                        "passed_time": 1.606300482,
                        "iteration": 129,
                        "remaining_time": 10.74985707,
                        "learn": [
                          0.3789824948
                        ]
                      },
                      {
                        "test": [
                          0.8500128652,
                          0.4136381182
                        ],
                        "passed_time": 1.619666722,
                        "iteration": 130,
                        "remaining_time": 10.74420139,
                        "learn": [
                          0.3785597419
                        ]
                      },
                      {
                        "test": [
                          0.8500478587,
                          0.4136131023
                        ],
                        "passed_time": 1.625834888,
                        "iteration": 131,
                        "remaining_time": 10.69109608,
                        "learn": [
                          0.3784453188
                        ]
                      },
                      {
                        "test": [
                          0.849978901,
                          0.4136188163
                        ],
                        "passed_time": 1.643998723,
                        "iteration": 132,
                        "remaining_time": 10.71689393,
                        "learn": [
                          0.3779881662
                        ]
                      },
                      {
                        "test": [
                          0.8498698037,
                          0.4136870146
                        ],
                        "passed_time": 1.656065025,
                        "iteration": 133,
                        "remaining_time": 10.70262919,
                        "learn": [
                          0.3777942281
                        ]
                      },
                      {
                        "test": [
                          0.8498698037,
                          0.4136871261
                        ],
                        "passed_time": 1.660657523,
                        "iteration": 134,
                        "remaining_time": 10.64050932,
                        "learn": [
                          0.3777826928
                        ]
                      },
                      {
                        "test": [
                          0.849894505,
                          0.413730566
                        ],
                        "passed_time": 1.673747993,
                        "iteration": 135,
                        "remaining_time": 10.63322255,
                        "learn": [
                          0.3776265518
                        ]
                      },
                      {
                        "test": [
                          0.8498800959,
                          0.4137056253
                        ],
                        "passed_time": 1.686128907,
                        "iteration": 136,
                        "remaining_time": 10.62138136,
                        "learn": [
                          0.3772905681
                        ]
                      },
                      {
                        "test": [
                          0.8499912516,
                          0.4137288499
                        ],
                        "passed_time": 1.700007041,
                        "iteration": 137,
                        "remaining_time": 10.61888456,
                        "learn": [
                          0.3770774833
                        ]
                      },
                      {
                        "test": [
                          0.8499315569,
                          0.4137533128
                        ],
                        "passed_time": 1.714377537,
                        "iteration": 138,
                        "remaining_time": 10.61927381,
                        "learn": [
                          0.3769688779
                        ]
                      },
                      {
                        "test": [
                          0.8498471609,
                          0.4138484475
                        ],
                        "passed_time": 1.728472586,
                        "iteration": 139,
                        "remaining_time": 10.61776017,
                        "learn": [
                          0.3764163755
                        ]
                      },
                      {
                        "test": [
                          0.8498245181,
                          0.4138806851
                        ],
                        "passed_time": 1.742164382,
                        "iteration": 140,
                        "remaining_time": 10.61361137,
                        "learn": [
                          0.3761038481
                        ]
                      },
                      {
                        "test": [
                          0.8497565896,
                          0.4138935055
                        ],
                        "passed_time": 1.754850292,
                        "iteration": 141,
                        "remaining_time": 10.60325035,
                        "learn": [
                          0.3760383678
                        ]
                      },
                      {
                        "test": [
                          0.8497565896,
                          0.4138937697
                        ],
                        "passed_time": 1.765277294,
                        "iteration": 142,
                        "remaining_time": 10.57931917,
                        "learn": [
                          0.3760235847
                        ]
                      },
                      {
                        "test": [
                          0.8498348103,
                          0.4137002638
                        ],
                        "passed_time": 1.778322691,
                        "iteration": 143,
                        "remaining_time": 10.57114044,
                        "learn": [
                          0.3756907101
                        ]
                      },
                      {
                        "test": [
                          0.849641317,
                          0.4138342567
                        ],
                        "passed_time": 1.793084596,
                        "iteration": 144,
                        "remaining_time": 10.57301607,
                        "learn": [
                          0.3753045584
                        ]
                      },
                      {
                        "test": [
                          0.8496248495,
                          0.4138288415
                        ],
                        "passed_time": 1.807710718,
                        "iteration": 145,
                        "remaining_time": 10.57386954,
                        "learn": [
                          0.3750317335
                        ]
                      },
                      {
                        "test": [
                          0.8496474923,
                          0.413779396
                        ],
                        "passed_time": 1.820743801,
                        "iteration": 146,
                        "remaining_time": 10.56526845,
                        "learn": [
                          0.3749157018
                        ]
                      },
                      {
                        "test": [
                          0.8498800959,
                          0.4137229453
                        ],
                        "passed_time": 1.833870281,
                        "iteration": 147,
                        "remaining_time": 10.55714513,
                        "learn": [
                          0.3747865524
                        ]
                      },
                      {
                        "test": [
                          0.8497689402,
                          0.4138331695
                        ],
                        "passed_time": 1.845491259,
                        "iteration": 148,
                        "remaining_time": 10.54035611,
                        "learn": [
                          0.3745865156
                        ]
                      },
                      {
                        "test": [
                          0.8498121674,
                          0.4138119275
                        ],
                        "passed_time": 1.862475007,
                        "iteration": 149,
                        "remaining_time": 10.55402504,
                        "learn": [
                          0.3744472403
                        ]
                      },
                      {
                        "test": [
                          0.8498121674,
                          0.4138121699
                        ],
                        "passed_time": 1.866371279,
                        "iteration": 150,
                        "remaining_time": 10.49370342,
                        "learn": [
                          0.3744471949
                        ]
                      },
                      {
                        "test": [
                          0.8497874662,
                          0.4138061891
                        ],
                        "passed_time": 1.879353527,
                        "iteration": 151,
                        "remaining_time": 10.48481441,
                        "learn": [
                          0.3743332646
                        ]
                      },
                      {
                        "test": [
                          0.8497874662,
                          0.4138062981
                        ],
                        "passed_time": 1.883656727,
                        "iteration": 152,
                        "remaining_time": 10.42782515,
                        "learn": [
                          0.3743233512
                        ]
                      },
                      {
                        "test": [
                          0.8497936415,
                          0.4138150499
                        ],
                        "passed_time": 1.895832945,
                        "iteration": 153,
                        "remaining_time": 10.4147706,
                        "learn": [
                          0.3742883386
                        ]
                      },
                      {
                        "test": [
                          0.8498121674,
                          0.4138315141
                        ],
                        "passed_time": 1.910353399,
                        "iteration": 154,
                        "remaining_time": 10.41450724,
                        "learn": [
                          0.3739704205
                        ]
                      },
                      {
                        "test": [
                          0.8498533362,
                          0.4136912993
                        ],
                        "passed_time": 1.924076046,
                        "iteration": 155,
                        "remaining_time": 10.40974476,
                        "learn": [
                          0.3736486689
                        ]
                      },
                      {
                        "test": [
                          0.8498059921,
                          0.4137411627
                        ],
                        "passed_time": 1.93978071,
                        "iteration": 156,
                        "remaining_time": 10.41551044,
                        "learn": [
                          0.373562286
                        ]
                      },
                      {
                        "test": [
                          0.8499861055,
                          0.4135482407
                        ],
                        "passed_time": 1.952478035,
                        "iteration": 157,
                        "remaining_time": 10.40497788,
                        "learn": [
                          0.3730831781
                        ]
                      },
                      {
                        "test": [
                          0.849988164,
                          0.4135800574
                        ],
                        "passed_time": 1.963743211,
                        "iteration": 158,
                        "remaining_time": 10.38684302,
                        "learn": [
                          0.3728765748
                        ]
                      },
                      {
                        "test": [
                          0.8498914173,
                          0.4136261393
                        ],
                        "passed_time": 1.976255184,
                        "iteration": 159,
                        "remaining_time": 10.37533972,
                        "learn": [
                          0.372724265
                        ]
                      },
                      {
                        "test": [
                          0.8498131967,
                          0.41376115
                        ],
                        "passed_time": 2.014614469,
                        "iteration": 160,
                        "remaining_time": 10.49851888,
                        "learn": [
                          0.3724238657
                        ]
                      },
                      {
                        "test": [
                          0.8495970605,
                          0.4137994084
                        ],
                        "passed_time": 2.028557232,
                        "iteration": 161,
                        "remaining_time": 10.49340099,
                        "learn": [
                          0.3722618013
                        ]
                      },
                      {
                        "test": [
                          0.8495970605,
                          0.4137995742
                        ],
                        "passed_time": 2.031157704,
                        "iteration": 162,
                        "remaining_time": 10.4299325,
                        "learn": [
                          0.3722617416
                        ]
                      },
                      {
                        "test": [
                          0.8498131967,
                          0.413656207
                        ],
                        "passed_time": 2.044507413,
                        "iteration": 163,
                        "remaining_time": 10.4220012,
                        "learn": [
                          0.3720874058
                        ]
                      },
                      {
                        "test": [
                          0.8499202355,
                          0.4137170122
                        ],
                        "passed_time": 2.057554033,
                        "iteration": 164,
                        "remaining_time": 10.41247041,
                        "learn": [
                          0.3716397386
                        ]
                      },
                      {
                        "test": [
                          0.8497967291,
                          0.4138752914
                        ],
                        "passed_time": 2.070545227,
                        "iteration": 165,
                        "remaining_time": 10.40261879,
                        "learn": [
                          0.3711020491
                        ]
                      },
                      {
                        "test": [
                          0.8497761447,
                          0.4138853656
                        ],
                        "passed_time": 2.084400008,
                        "iteration": 166,
                        "remaining_time": 10.39703716,
                        "learn": [
                          0.3707265195
                        ]
                      },
                      {
                        "test": [
                          0.8497905538,
                          0.4137719289
                        ],
                        "passed_time": 2.097206449,
                        "iteration": 167,
                        "remaining_time": 10.38616527,
                        "learn": [
                          0.3702869479
                        ]
                      },
                      {
                        "test": [
                          0.8500005146,
                          0.4136439808
                        ],
                        "passed_time": 2.110627361,
                        "iteration": 168,
                        "remaining_time": 10.37829194,
                        "learn": [
                          0.3699458593
                        ]
                      },
                      {
                        "test": [
                          0.8499737549,
                          0.4136423624
                        ],
                        "passed_time": 2.117863279,
                        "iteration": 169,
                        "remaining_time": 10.34015601,
                        "learn": [
                          0.3699193674
                        ]
                      },
                      {
                        "test": [
                          0.8501260794,
                          0.4134966859
                        ],
                        "passed_time": 2.131187227,
                        "iteration": 170,
                        "remaining_time": 10.33189597,
                        "learn": [
                          0.3696277933
                        ]
                      },
                      {
                        "test": [
                          0.8498440732,
                          0.4138174717
                        ],
                        "passed_time": 2.146133482,
                        "iteration": 171,
                        "remaining_time": 10.33138676,
                        "learn": [
                          0.3693340563
                        ]
                      },
                      {
                        "test": [
                          0.849903768,
                          0.4137738181
                        ],
                        "passed_time": 2.159769977,
                        "iteration": 172,
                        "remaining_time": 10.32444954,
                        "learn": [
                          0.3691833968
                        ]
                      },
                      {
                        "test": [
                          0.8497946707,
                          0.4138574582
                        ],
                        "passed_time": 2.172597031,
                        "iteration": 173,
                        "remaining_time": 10.3135928,
                        "learn": [
                          0.3686971345
                        ]
                      },
                      {
                        "test": [
                          0.8497864369,
                          0.4138487061
                        ],
                        "passed_time": 2.180693426,
                        "iteration": 174,
                        "remaining_time": 10.28041186,
                        "learn": [
                          0.368670678
                        ]
                      },
                      {
                        "test": [
                          0.8497864369,
                          0.4138485139
                        ],
                        "passed_time": 2.201588466,
                        "iteration": 175,
                        "remaining_time": 10.30743691,
                        "learn": [
                          0.368656083
                        ]
                      },
                      {
                        "test": [
                          0.8497370344,
                          0.4138579919
                        ],
                        "passed_time": 2.214710302,
                        "iteration": 176,
                        "remaining_time": 10.29777728,
                        "learn": [
                          0.36850614
                        ]
                      },
                      {
                        "test": [
                          0.8497370344,
                          0.413859159
                        ],
                        "passed_time": 2.218860919,
                        "iteration": 177,
                        "remaining_time": 10.24664986,
                        "learn": [
                          0.3684994897
                        ]
                      },
                      {
                        "test": [
                          0.8494344439,
                          0.4139592016
                        ],
                        "passed_time": 2.232804555,
                        "iteration": 178,
                        "remaining_time": 10.24096391,
                        "learn": [
                          0.368267091
                        ]
                      },
                      {
                        "test": [
                          0.8494570867,
                          0.4139844307
                        ],
                        "passed_time": 2.24684697,
                        "iteration": 179,
                        "remaining_time": 10.2356362,
                        "learn": [
                          0.3681796311
                        ]
                      },
                      {
                        "test": [
                          0.8494570867,
                          0.4139256966
                        ],
                        "passed_time": 2.26167622,
                        "iteration": 180,
                        "remaining_time": 10.23377251,
                        "learn": [
                          0.367815463
                        ]
                      },
                      {
                        "test": [
                          0.8494138595,
                          0.4139573997
                        ],
                        "passed_time": 2.274937228,
                        "iteration": 181,
                        "remaining_time": 10.22471787,
                        "learn": [
                          0.3676086892
                        ]
                      },
                      {
                        "test": [
                          0.8494035673,
                          0.413975791
                        ],
                        "passed_time": 2.281681602,
                        "iteration": 182,
                        "remaining_time": 10.18652387,
                        "learn": [
                          0.3675660726
                        ]
                      },
                      {
                        "test": [
                          0.8493768076,
                          0.4140360902
                        ],
                        "passed_time": 2.295994673,
                        "iteration": 183,
                        "remaining_time": 10.18223725,
                        "learn": [
                          0.3674941944
                        ]
                      },
                      {
                        "test": [
                          0.8493521063,
                          0.4141090988
                        ],
                        "passed_time": 2.30912999,
                        "iteration": 184,
                        "remaining_time": 10.17265374,
                        "learn": [
                          0.3672976681
                        ]
                      },
                      {
                        "test": [
                          0.8493438725,
                          0.4141238308
                        ],
                        "passed_time": 2.32215066,
                        "iteration": 185,
                        "remaining_time": 10.16253031,
                        "learn": [
                          0.367188206
                        ]
                      },
                      {
                        "test": [
                          0.8493397557,
                          0.4141357657
                        ],
                        "passed_time": 2.336132219,
                        "iteration": 186,
                        "remaining_time": 10.15655345,
                        "learn": [
                          0.3671672426
                        ]
                      },
                      {
                        "test": [
                          0.8493500479,
                          0.4141351329
                        ],
                        "passed_time": 2.344546261,
                        "iteration": 187,
                        "remaining_time": 10.12644449,
                        "learn": [
                          0.3671550391
                        ]
                      },
                      {
                        "test": [
                          0.849327405,
                          0.4141410169
                        ],
                        "passed_time": 2.358326858,
                        "iteration": 188,
                        "remaining_time": 10.11959302,
                        "learn": [
                          0.3670098743
                        ]
                      },
                      {
                        "test": [
                          0.8493253466,
                          0.4140740525
                        ],
                        "passed_time": 2.371280695,
                        "iteration": 189,
                        "remaining_time": 10.10914402,
                        "learn": [
                          0.3665616625
                        ]
                      },
                      {
                        "test": [
                          0.8493047622,
                          0.4141925419
                        ],
                        "passed_time": 2.384308001,
                        "iteration": 190,
                        "remaining_time": 10.09897996,
                        "learn": [
                          0.3661942608
                        ]
                      },
                      {
                        "test": [
                          0.8493047622,
                          0.4141926602
                        ],
                        "passed_time": 2.390236458,
                        "iteration": 191,
                        "remaining_time": 10.05891176,
                        "learn": [
                          0.366176186
                        ]
                      },
                      {
                        "test": [
                          0.8492038987,
                          0.4142683888
                        ],
                        "passed_time": 2.403274963,
                        "iteration": 192,
                        "remaining_time": 10.04892692,
                        "learn": [
                          0.3659477879
                        ]
                      },
                      {
                        "test": [
                          0.8490453989,
                          0.4143852797
                        ],
                        "passed_time": 2.417317299,
                        "iteration": 193,
                        "remaining_time": 10.04308115,
                        "learn": [
                          0.3656263012
                        ]
                      },
                      {
                        "test": [
                          0.8489198341,
                          0.4144843412
                        ],
                        "passed_time": 2.431858735,
                        "iteration": 194,
                        "remaining_time": 10.0392117,
                        "learn": [
                          0.3653296346
                        ]
                      },
                      {
                        "test": [
                          0.8487510421,
                          0.4146326704
                        ],
                        "passed_time": 2.444224245,
                        "iteration": 195,
                        "remaining_time": 10.02630762,
                        "learn": [
                          0.3651976749
                        ]
                      },
                      {
                        "test": [
                          0.848652237,
                          0.4147286478
                        ],
                        "passed_time": 2.458824797,
                        "iteration": 196,
                        "remaining_time": 10.02251935,
                        "learn": [
                          0.3647647375
                        ]
                      },
                      {
                        "test": [
                          0.848619302,
                          0.4148088392
                        ],
                        "passed_time": 2.47425564,
                        "iteration": 197,
                        "remaining_time": 10.02198496,
                        "learn": [
                          0.3643935157
                        ]
                      },
                      {
                        "test": [
                          0.8485781332,
                          0.4148090684
                        ],
                        "passed_time": 2.485900568,
                        "iteration": 198,
                        "remaining_time": 10.00606208,
                        "learn": [
                          0.3643674352
                        ]
                      },
                      {
                        "test": [
                          0.8482837764,
                          0.4149577268
                        ],
                        "passed_time": 2.499595659,
                        "iteration": 199,
                        "remaining_time": 9.998382638,
                        "learn": [
                          0.3639003779
                        ]
                      },
                      {
                        "test": [
                          0.8482837764,
                          0.4149580054
                        ],
                        "passed_time": 2.504410498,
                        "iteration": 200,
                        "remaining_time": 9.955343223,
                        "learn": [
                          0.3638932283
                        ]
                      },
                      {
                        "test": [
                          0.8482220232,
                          0.414945078
                        ],
                        "passed_time": 2.517820909,
                        "iteration": 201,
                        "remaining_time": 9.946639038,
                        "learn": [
                          0.3637942475
                        ]
                      },
                      {
                        "test": [
                          0.8481870298,
                          0.4150073556
                        ],
                        "passed_time": 2.535265811,
                        "iteration": 202,
                        "remaining_time": 9.953728333,
                        "learn": [
                          0.363737018
                        ]
                      },
                      {
                        "test": [
                          0.8479194327,
                          0.4152811351
                        ],
                        "passed_time": 2.548548747,
                        "iteration": 203,
                        "remaining_time": 9.944337266,
                        "learn": [
                          0.3633519638
                        ]
                      },
                      {
                        "test": [
                          0.8479173743,
                          0.4152633877
                        ],
                        "passed_time": 2.559960276,
                        "iteration": 204,
                        "remaining_time": 9.927650828,
                        "learn": [
                          0.3632224657
                        ]
                      },
                      {
                        "test": [
                          0.8478906145,
                          0.4153020157
                        ],
                        "passed_time": 2.575922014,
                        "iteration": 205,
                        "remaining_time": 9.928553782,
                        "learn": [
                          0.363183375
                        ]
                      },
                      {
                        "test": [
                          0.8479009067,
                          0.4153131614
                        ],
                        "passed_time": 2.589880564,
                        "iteration": 206,
                        "remaining_time": 9.921619746,
                        "learn": [
                          0.3630976133
                        ]
                      },
                      {
                        "test": [
                          0.8477094719,
                          0.4153930186
                        ],
                        "passed_time": 2.604381455,
                        "iteration": 207,
                        "remaining_time": 9.916683231,
                        "learn": [
                          0.3628331466
                        ]
                      },
                      {
                        "test": [
                          0.8474748099,
                          0.4155810545
                        ],
                        "passed_time": 2.617196656,
                        "iteration": 208,
                        "remaining_time": 9.905275381,
                        "learn": [
                          0.3625492462
                        ]
                      },
                      {
                        "test": [
                          0.8476168421,
                          0.4154446357
                        ],
                        "passed_time": 2.631464549,
                        "iteration": 209,
                        "remaining_time": 9.899319019,
                        "learn": [
                          0.3623075297
                        ]
                      },
                      {
                        "test": [
                          0.8476662447,
                          0.4154112899
                        ],
                        "passed_time": 2.642825395,
                        "iteration": 210,
                        "remaining_time": 9.882413445,
                        "learn": [
                          0.3622507005
                        ]
                      },
                      {
                        "test": [
                          0.8476662447,
                          0.4154114705
                        ],
                        "passed_time": 2.651007864,
                        "iteration": 211,
                        "remaining_time": 9.853746212,
                        "learn": [
                          0.3622358784
                        ]
                      },
                      {
                        "test": [
                          0.8475653812,
                          0.4154462067
                        ],
                        "passed_time": 2.664276291,
                        "iteration": 212,
                        "remaining_time": 9.844063103,
                        "learn": [
                          0.362140114
                        ]
                      },
                      {
                        "test": [
                          0.8475386215,
                          0.4154233107
                        ],
                        "passed_time": 2.678479958,
                        "iteration": 213,
                        "remaining_time": 9.837781528,
                        "learn": [
                          0.3619702118
                        ]
                      },
                      {
                        "test": [
                          0.8476559525,
                          0.415329253
                        ],
                        "passed_time": 2.691833945,
                        "iteration": 214,
                        "remaining_time": 9.82832394,
                        "learn": [
                          0.3615955714
                        ]
                      },
                      {
                        "test": [
                          0.8474274658,
                          0.4154455135
                        ],
                        "passed_time": 2.704787694,
                        "iteration": 215,
                        "remaining_time": 9.817377558,
                        "learn": [
                          0.3612359458
                        ]
                      },
                      {
                        "test": [
                          0.8474171736,
                          0.4155058837
                        ],
                        "passed_time": 2.722280752,
                        "iteration": 216,
                        "remaining_time": 9.822791839,
                        "learn": [
                          0.3607303033
                        ]
                      },
                      {
                        "test": [
                          0.8472669075,
                          0.4155302131
                        ],
                        "passed_time": 2.735734261,
                        "iteration": 217,
                        "remaining_time": 9.81350547,
                        "learn": [
                          0.3602925529
                        ]
                      },
                      {
                        "test": [
                          0.8470538591,
                          0.4156404052
                        ],
                        "passed_time": 2.749113147,
                        "iteration": 218,
                        "remaining_time": 9.803914921,
                        "learn": [
                          0.3599262028
                        ]
                      },
                      {
                        "test": [
                          0.8469900474,
                          0.4157481005
                        ],
                        "passed_time": 2.762145737,
                        "iteration": 219,
                        "remaining_time": 9.793062157,
                        "learn": [
                          0.3597643358
                        ]
                      },
                      {
                        "test": [
                          0.8470270994,
                          0.4157070775
                        ],
                        "passed_time": 2.774992558,
                        "iteration": 220,
                        "remaining_time": 9.781534852,
                        "learn": [
                          0.3597352884
                        ]
                      },
                      {
                        "test": [
                          0.8466359959,
                          0.415916121
                        ],
                        "passed_time": 2.788220766,
                        "iteration": 221,
                        "remaining_time": 9.771332236,
                        "learn": [
                          0.3593615686
                        ]
                      },
                      {
                        "test": [
                          0.8466154115,
                          0.4159188544
                        ],
                        "passed_time": 2.800609407,
                        "iteration": 222,
                        "remaining_time": 9.75817717,
                        "learn": [
                          0.3593239075
                        ]
                      },
                      {
                        "test": [
                          0.8466586388,
                          0.4159309063
                        ],
                        "passed_time": 2.814506156,
                        "iteration": 223,
                        "remaining_time": 9.75025347,
                        "learn": [
                          0.3592426286
                        ]
                      },
                      {
                        "test": [
                          0.8466627556,
                          0.4159132893
                        ],
                        "passed_time": 2.828304036,
                        "iteration": 224,
                        "remaining_time": 9.741936123,
                        "learn": [
                          0.3591826764
                        ]
                      },
                      {
                        "test": [
                          0.8466895153,
                          0.4158980708
                        ],
                        "passed_time": 2.84099406,
                        "iteration": 225,
                        "remaining_time": 9.729776117,
                        "learn": [
                          0.3589595592
                        ]
                      },
                      {
                        "test": [
                          0.8467306841,
                          0.4159022166
                        ],
                        "passed_time": 2.856033061,
                        "iteration": 226,
                        "remaining_time": 9.725610379,
                        "learn": [
                          0.3586254026
                        ]
                      },
                      {
                        "test": [
                          0.846734801,
                          0.4159339119
                        ],
                        "passed_time": 2.870833448,
                        "iteration": 227,
                        "remaining_time": 9.720541323,
                        "learn": [
                          0.3582885428
                        ]
                      },
                      {
                        "test": [
                          0.8468336061,
                          0.415915721
                        ],
                        "passed_time": 2.884695693,
                        "iteration": 228,
                        "remaining_time": 9.71222873,
                        "learn": [
                          0.3580437155
                        ]
                      },
                      {
                        "test": [
                          0.8466853985,
                          0.4160325725
                        ],
                        "passed_time": 2.899512912,
                        "iteration": 229,
                        "remaining_time": 9.707064967,
                        "learn": [
                          0.3574522578
                        ]
                      },
                      {
                        "test": [
                          0.8461851978,
                          0.4163101128
                        ],
                        "passed_time": 2.913271857,
                        "iteration": 230,
                        "remaining_time": 9.698294623,
                        "learn": [
                          0.3570840571
                        ]
                      },
                      {
                        "test": [
                          0.8461090355,
                          0.41636255
                        ],
                        "passed_time": 2.927761578,
                        "iteration": 231,
                        "remaining_time": 9.691900396,
                        "learn": [
                          0.3568053872
                        ]
                      },
                      {
                        "test": [
                          0.8461090355,
                          0.416362708
                        ],
                        "passed_time": 2.937050301,
                        "iteration": 232,
                        "remaining_time": 9.668315799,
                        "learn": [
                          0.3567940197
                        ]
                      },
                      {
                        "test": [
                          0.8458424677,
                          0.4165387525
                        ],
                        "passed_time": 2.949698671,
                        "iteration": 233,
                        "remaining_time": 9.655851206,
                        "learn": [
                          0.356483849
                        ]
                      },
                      {
                        "test": [
                          0.845797182,
                          0.4167174822
                        ],
                        "passed_time": 2.963139861,
                        "iteration": 234,
                        "remaining_time": 9.645965931,
                        "learn": [
                          0.3560812059
                        ]
                      },
                      {
                        "test": [
                          0.845830117,
                          0.4166909451
                        ],
                        "passed_time": 2.976144476,
                        "iteration": 235,
                        "remaining_time": 9.634637203,
                        "learn": [
                          0.3560575987
                        ]
                      },
                      {
                        "test": [
                          0.8457724807,
                          0.4168106892
                        ],
                        "passed_time": 3.029574262,
                        "iteration": 236,
                        "remaining_time": 9.753439503,
                        "learn": [
                          0.3559256595
                        ]
                      },
                      {
                        "test": [
                          0.8457117568,
                          0.4168909976
                        ],
                        "passed_time": 3.042456327,
                        "iteration": 237,
                        "remaining_time": 9.740973618,
                        "learn": [
                          0.3556093322
                        ]
                      },
                      {
                        "test": [
                          0.8453247702,
                          0.4171808288
                        ],
                        "passed_time": 3.056542554,
                        "iteration": 238,
                        "remaining_time": 9.732338424,
                        "learn": [
                          0.3554303644
                        ]
                      },
                      {
                        "test": [
                          0.845028355,
                          0.4172806265
                        ],
                        "passed_time": 3.070022955,
                        "iteration": 239,
                        "remaining_time": 9.721739358,
                        "learn": [
                          0.3551004949
                        ]
                      },
                      {
                        "test": [
                          0.8445055115,
                          0.4176459266
                        ],
                        "passed_time": 3.083798032,
                        "iteration": 240,
                        "remaining_time": 9.712044424,
                        "learn": [
                          0.3547096579
                        ]
                      },
                      {
                        "test": [
                          0.8441185249,
                          0.4179707062
                        ],
                        "passed_time": 3.095182218,
                        "iteration": 241,
                        "remaining_time": 9.694826946,
                        "learn": [
                          0.3544880674
                        ]
                      },
                      {
                        "test": [
                          0.8440752977,
                          0.4180298396
                        ],
                        "passed_time": 3.109978801,
                        "iteration": 242,
                        "remaining_time": 9.688287871,
                        "learn": [
                          0.3542839296
                        ]
                      },
                      {
                        "test": [
                          0.8441514599,
                          0.4179902688
                        ],
                        "passed_time": 3.12689075,
                        "iteration": 243,
                        "remaining_time": 9.688235276,
                        "learn": [
                          0.354027408
                        ]
                      },
                      {
                        "test": [
                          0.8443099598,
                          0.4178884942
                        ],
                        "passed_time": 3.140659748,
                        "iteration": 244,
                        "remaining_time": 9.678359633,
                        "learn": [
                          0.3536508579
                        ]
                      },
                      {
                        "test": [
                          0.8443099598,
                          0.4178889806
                        ],
                        "passed_time": 3.155398819,
                        "iteration": 245,
                        "remaining_time": 9.671425648,
                        "learn": [
                          0.3536292743
                        ]
                      },
                      {
                        "test": [
                          0.8442976091,
                          0.4178956501
                        ],
                        "passed_time": 3.167970843,
                        "iteration": 246,
                        "remaining_time": 9.657822042,
                        "learn": [
                          0.3535667336
                        ]
                      },
                      {
                        "test": [
                          0.8442749663,
                          0.4178979933
                        ],
                        "passed_time": 3.182012456,
                        "iteration": 247,
                        "remaining_time": 9.648682931,
                        "learn": [
                          0.3534403616
                        ]
                      },
                      {
                        "test": [
                          0.8442852585,
                          0.4178895127
                        ],
                        "passed_time": 3.202516443,
                        "iteration": 248,
                        "remaining_time": 9.658995376,
                        "learn": [
                          0.3534283774
                        ]
                      },
                      {
                        "test": [
                          0.8442790832,
                          0.4179533842
                        ],
                        "passed_time": 3.215955141,
                        "iteration": 249,
                        "remaining_time": 9.647865423,
                        "learn": [
                          0.3532706703
                        ]
                      },
                      {
                        "test": [
                          0.8441638106,
                          0.4179194556
                        ],
                        "passed_time": 3.229702184,
                        "iteration": 250,
                        "remaining_time": 9.637637195,
                        "learn": [
                          0.3529419168
                        ]
                      },
                      {
                        "test": [
                          0.8438179928,
                          0.4181774011
                        ],
                        "passed_time": 3.242576827,
                        "iteration": 251,
                        "remaining_time": 9.624791533,
                        "learn": [
                          0.3526491227
                        ]
                      },
                      {
                        "test": [
                          0.8438365188,
                          0.418207325
                        ],
                        "passed_time": 3.255522276,
                        "iteration": 252,
                        "remaining_time": 9.612154704,
                        "learn": [
                          0.352267824
                        ]
                      },
                      {
                        "test": [
                          0.8438447525,
                          0.4182228065
                        ],
                        "passed_time": 3.26899825,
                        "iteration": 253,
                        "remaining_time": 9.601073599,
                        "learn": [
                          0.3522395876
                        ]
                      },
                      {
                        "test": [
                          0.8436368502,
                          0.418480973
                        ],
                        "passed_time": 3.286655231,
                        "iteration": 254,
                        "remaining_time": 9.602188812,
                        "learn": [
                          0.3518179435
                        ]
                      },
                      {
                        "test": [
                          0.8435133438,
                          0.4186408367
                        ],
                        "passed_time": 3.30097512,
                        "iteration": 255,
                        "remaining_time": 9.593458942,
                        "learn": [
                          0.3514880298
                        ]
                      },
                      {
                        "test": [
                          0.8433774869,
                          0.4188463111
                        ],
                        "passed_time": 3.314513957,
                        "iteration": 256,
                        "remaining_time": 9.58242751,
                        "learn": [
                          0.351147008
                        ]
                      },
                      {
                        "test": [
                          0.8433713115,
                          0.4188496269
                        ],
                        "passed_time": 3.326759956,
                        "iteration": 257,
                        "remaining_time": 9.567658478,
                        "learn": [
                          0.3510636364
                        ]
                      },
                      {
                        "test": [
                          0.843424831,
                          0.4188306463
                        ],
                        "passed_time": 3.340086904,
                        "iteration": 258,
                        "remaining_time": 9.55600153,
                        "learn": [
                          0.3508704098
                        ]
                      },
                      {
                        "test": [
                          0.8433774869,
                          0.4188784774
                        ],
                        "passed_time": 3.354010125,
                        "iteration": 259,
                        "remaining_time": 9.546028818,
                        "learn": [
                          0.3508284364
                        ]
                      },
                      {
                        "test": [
                          0.8433980712,
                          0.4188799478
                        ],
                        "passed_time": 3.36767943,
                        "iteration": 260,
                        "remaining_time": 9.535306891,
                        "learn": [
                          0.3507937871
                        ]
                      },
                      {
                        "test": [
                          0.8433836622,
                          0.4188873243
                        ],
                        "passed_time": 3.380814682,
                        "iteration": 261,
                        "remaining_time": 9.523058151,
                        "learn": [
                          0.3507680324
                        ]
                      },
                      {
                        "test": [
                          0.8433836622,
                          0.4188874728
                        ],
                        "passed_time": 3.392461123,
                        "iteration": 262,
                        "remaining_time": 9.506630599,
                        "learn": [
                          0.3507570185
                        ]
                      },
                      {
                        "test": [
                          0.8434351231,
                          0.418839393
                        ],
                        "passed_time": 3.4073861,
                        "iteration": 263,
                        "remaining_time": 9.499379432,
                        "learn": [
                          0.3505749394
                        ]
                      },
                      {
                        "test": [
                          0.8433569025,
                          0.4189294736
                        ],
                        "passed_time": 3.422657855,
                        "iteration": 264,
                        "remaining_time": 9.493032163,
                        "learn": [
                          0.350498301
                        ]
                      },
                      {
                        "test": [
                          0.8433445518,
                          0.4189281167
                        ],
                        "passed_time": 3.436346063,
                        "iteration": 265,
                        "remaining_time": 9.482248159,
                        "learn": [
                          0.3504177137
                        ]
                      },
                      {
                        "test": [
                          0.8433383765,
                          0.4189193701
                        ],
                        "passed_time": 3.450433563,
                        "iteration": 266,
                        "remaining_time": 9.472538584,
                        "learn": [
                          0.3502816024
                        ]
                      },
                      {
                        "test": [
                          0.8432683896,
                          0.4190220002
                        ],
                        "passed_time": 3.465210299,
                        "iteration": 267,
                        "remaining_time": 9.464678876,
                        "learn": [
                          0.3498176903
                        ]
                      },
                      {
                        "test": [
                          0.8431922273,
                          0.4190818352
                        ],
                        "passed_time": 3.480008162,
                        "iteration": 268,
                        "remaining_time": 9.456825155,
                        "learn": [
                          0.3495074636
                        ]
                      },
                      {
                        "test": [
                          0.8432086948,
                          0.4190843928
                        ],
                        "passed_time": 3.491539595,
                        "iteration": 269,
                        "remaining_time": 9.440088534,
                        "learn": [
                          0.3494333471
                        ]
                      },
                      {
                        "test": [
                          0.8430563704,
                          0.4192304625
                        ],
                        "passed_time": 3.50498927,
                        "iteration": 270,
                        "remaining_time": 9.428550472,
                        "learn": [
                          0.3491376924
                        ]
                      },
                      {
                        "test": [
                          0.8430790132,
                          0.419240003
                        ],
                        "passed_time": 3.519046077,
                        "iteration": 271,
                        "remaining_time": 9.418623325,
                        "learn": [
                          0.348952634
                        ]
                      },
                      {
                        "test": [
                          0.8431222404,
                          0.4190754836
                        ],
                        "passed_time": 3.53302513,
                        "iteration": 272,
                        "remaining_time": 9.408458863,
                        "learn": [
                          0.3484946309
                        ]
                      },
                      {
                        "test": [
                          0.843186052,
                          0.4190382968
                        ],
                        "passed_time": 3.546129303,
                        "iteration": 273,
                        "remaining_time": 9.395948445,
                        "learn": [
                          0.3481480361
                        ]
                      },
                      {
                        "test": [
                          0.8431490001,
                          0.4190652671
                        ],
                        "passed_time": 3.558508123,
                        "iteration": 274,
                        "remaining_time": 9.381521414,
                        "learn": [
                          0.3477841956
                        ]
                      },
                      {
                        "test": [
                          0.8431469417,
                          0.4191048621
                        ],
                        "passed_time": 3.572563378,
                        "iteration": 275,
                        "remaining_time": 9.371506832,
                        "learn": [
                          0.3476070557
                        ]
                      },
                      {
                        "test": [
                          0.8431613507,
                          0.4190940519
                        ],
                        "passed_time": 3.585395627,
                        "iteration": 276,
                        "remaining_time": 9.358270896,
                        "learn": [
                          0.3475290319
                        ]
                      },
                      {
                        "test": [
                          0.8431695845,
                          0.4191480923
                        ],
                        "passed_time": 3.598080985,
                        "iteration": 277,
                        "remaining_time": 9.344656372,
                        "learn": [
                          0.3472009338
                        ]
                      },
                      {
                        "test": [
                          0.8431469417,
                          0.4191426824
                        ],
                        "passed_time": 3.612158588,
                        "iteration": 278,
                        "remaining_time": 9.334646388,
                        "learn": [
                          0.347174649
                        ]
                      },
                      {
                        "test": [
                          0.8434124803,
                          0.4189770668
                        ],
                        "passed_time": 3.62569436,
                        "iteration": 279,
                        "remaining_time": 9.323214068,
                        "learn": [
                          0.3465823149
                        ]
                      },
                      {
                        "test": [
                          0.8433980712,
                          0.4189825617
                        ],
                        "passed_time": 3.637806216,
                        "iteration": 280,
                        "remaining_time": 9.308123377,
                        "learn": [
                          0.3465255265
                        ]
                      },
                      {
                        "test": [
                          0.8433074999,
                          0.4191764754
                        ],
                        "passed_time": 3.651110817,
                        "iteration": 281,
                        "remaining_time": 9.296090662,
                        "learn": [
                          0.3462521925
                        ]
                      },
                      {
                        "test": [
                          0.8433486687,
                          0.4191099555
                        ],
                        "passed_time": 3.664976475,
                        "iteration": 282,
                        "remaining_time": 9.285470434,
                        "learn": [
                          0.3461554433
                        ]
                      },
                      {
                        "test": [
                          0.8433054415,
                          0.4191412345
                        ],
                        "passed_time": 3.6791669,
                        "iteration": 283,
                        "remaining_time": 9.275646129,
                        "learn": [
                          0.3459833494
                        ]
                      },
                      {
                        "test": [
                          0.8432683896,
                          0.4191474606
                        ],
                        "passed_time": 3.692917476,
                        "iteration": 284,
                        "remaining_time": 9.264687702,
                        "learn": [
                          0.3458330624
                        ]
                      },
                      {
                        "test": [
                          0.8434145388,
                          0.4191170907
                        ],
                        "passed_time": 3.706693457,
                        "iteration": 285,
                        "remaining_time": 9.253773177,
                        "learn": [
                          0.3455874128
                        ]
                      },
                      {
                        "test": [
                          0.8434165972,
                          0.4191127859
                        ],
                        "passed_time": 3.719729015,
                        "iteration": 286,
                        "remaining_time": 9.24099926,
                        "learn": [
                          0.3455239075
                        ]
                      },
                      {
                        "test": [
                          0.8434433569,
                          0.4190469951
                        ],
                        "passed_time": 3.73369262,
                        "iteration": 287,
                        "remaining_time": 9.230517866,
                        "learn": [
                          0.3450619582
                        ]
                      },
                      {
                        "test": [
                          0.8434968763,
                          0.419000717
                        ],
                        "passed_time": 3.74704204,
                        "iteration": 288,
                        "remaining_time": 9.21850135,
                        "learn": [
                          0.344688884
                        ]
                      },
                      {
                        "test": [
                          0.843509227,
                          0.4188803628
                        ],
                        "passed_time": 3.760867811,
                        "iteration": 289,
                        "remaining_time": 9.207641883,
                        "learn": [
                          0.3443216762
                        ]
                      },
                      {
                        "test": [
                          0.8434845257,
                          0.4188944868
                        ],
                        "passed_time": 3.773297932,
                        "iteration": 290,
                        "remaining_time": 9.193361629,
                        "learn": [
                          0.3442588969
                        ]
                      },
                      {
                        "test": [
                          0.8434824672,
                          0.4189507557
                        ],
                        "passed_time": 3.787104726,
                        "iteration": 291,
                        "remaining_time": 9.182432006,
                        "learn": [
                          0.3441537726
                        ]
                      },
                      {
                        "test": [
                          0.8435009932,
                          0.4189530985
                        ],
                        "passed_time": 3.800350217,
                        "iteration": 292,
                        "remaining_time": 9.17012834,
                        "learn": [
                          0.3441052331
                        ]
                      },
                      {
                        "test": [
                          0.8434824672,
                          0.4189629765
                        ],
                        "passed_time": 3.814240013,
                        "iteration": 293,
                        "remaining_time": 9.159365473,
                        "learn": [
                          0.3439401833
                        ]
                      },
                      {
                        "test": [
                          0.8434412985,
                          0.4189686427
                        ],
                        "passed_time": 3.827906968,
                        "iteration": 294,
                        "remaining_time": 9.148048856,
                        "learn": [
                          0.3436442339
                        ]
                      },
                      {
                        "test": [
                          0.8433857206,
                          0.4190322389
                        ],
                        "passed_time": 3.841956359,
                        "iteration": 295,
                        "remaining_time": 9.137625934,
                        "learn": [
                          0.3433338069
                        ]
                      },
                      {
                        "test": [
                          0.8433939544,
                          0.419032504
                        ],
                        "passed_time": 3.855525232,
                        "iteration": 296,
                        "remaining_time": 9.126041205,
                        "learn": [
                          0.3432541901
                        ]
                      },
                      {
                        "test": [
                          0.8433095584,
                          0.4191448012
                        ],
                        "passed_time": 3.870364548,
                        "iteration": 297,
                        "remaining_time": 9.11743595,
                        "learn": [
                          0.343075231
                        ]
                      },
                      {
                        "test": [
                          0.8433342596,
                          0.4191447404
                        ],
                        "passed_time": 3.883549374,
                        "iteration": 298,
                        "remaining_time": 9.104910072,
                        "learn": [
                          0.3429039038
                        ]
                      },
                      {
                        "test": [
                          0.843406305,
                          0.4190106717
                        ],
                        "passed_time": 3.897663821,
                        "iteration": 299,
                        "remaining_time": 9.094548916,
                        "learn": [
                          0.3423971738
                        ]
                      },
                      {
                        "test": [
                          0.8434021881,
                          0.4190593744
                        ],
                        "passed_time": 3.911476486,
                        "iteration": 300,
                        "remaining_time": 9.083462005,
                        "learn": [
                          0.3422692487
                        ]
                      },
                      {
                        "test": [
                          0.8435627464,
                          0.4189120942
                        ],
                        "passed_time": 3.925602522,
                        "iteration": 301,
                        "remaining_time": 9.073081325,
                        "learn": [
                          0.3420151126
                        ]
                      },
                      {
                        "test": [
                          0.8435977398,
                          0.4188519047
                        ],
                        "passed_time": 3.943213273,
                        "iteration": 302,
                        "remaining_time": 9.070691918,
                        "learn": [
                          0.3419292139
                        ]
                      },
                      {
                        "test": [
                          0.8435051101,
                          0.4189919267
                        ],
                        "passed_time": 3.955351764,
                        "iteration": 303,
                        "remaining_time": 9.055673777,
                        "learn": [
                          0.3418500656
                        ]
                      },
                      {
                        "test": [
                          0.8435051101,
                          0.4189926137
                        ],
                        "passed_time": 3.968632173,
                        "iteration": 304,
                        "remaining_time": 9.043276592,
                        "learn": [
                          0.3418417688
                        ]
                      },
                      {
                        "test": [
                          0.8435874476,
                          0.41896182
                        ],
                        "passed_time": 3.999598254,
                        "iteration": 305,
                        "remaining_time": 9.070984275,
                        "learn": [
                          0.3414926204
                        ]
                      },
                      {
                        "test": [
                          0.8434762919,
                          0.4190977214
                        ],
                        "passed_time": 4.020953988,
                        "iteration": 306,
                        "remaining_time": 9.076616005,
                        "learn": [
                          0.3414190239
                        ]
                      },
                      {
                        "test": [
                          0.8435627464,
                          0.4190404999
                        ],
                        "passed_time": 4.042215778,
                        "iteration": 307,
                        "remaining_time": 9.081861424,
                        "learn": [
                          0.3408410058
                        ]
                      },
                      {
                        "test": [
                          0.8435503957,
                          0.4190720339
                        ],
                        "passed_time": 4.073874619,
                        "iteration": 308,
                        "remaining_time": 9.110185636,
                        "learn": [
                          0.3405286209
                        ]
                      },
                      {
                        "test": [
                          0.8434495322,
                          0.4192714824
                        ],
                        "passed_time": 4.104259857,
                        "iteration": 309,
                        "remaining_time": 9.135288069,
                        "learn": [
                          0.3401922603
                        ]
                      },
                      {
                        "test": [
                          0.8433527856,
                          0.4193823935
                        ],
                        "passed_time": 4.118558836,
                        "iteration": 310,
                        "remaining_time": 9.124395621,
                        "learn": [
                          0.3399023881
                        ]
                      },
                      {
                        "test": [
                          0.8433507271,
                          0.4195606302
                        ],
                        "passed_time": 4.133053422,
                        "iteration": 311,
                        "remaining_time": 9.113912675,
                        "learn": [
                          0.3395809233
                        ]
                      },
                      {
                        "test": [
                          0.8433795453,
                          0.4195177445
                        ],
                        "passed_time": 4.148786419,
                        "iteration": 312,
                        "remaining_time": 9.106122267,
                        "learn": [
                          0.339359878
                        ]
                      },
                      {
                        "test": [
                          0.8433795453,
                          0.4195182739
                        ],
                        "passed_time": 4.163379541,
                        "iteration": 313,
                        "remaining_time": 9.095790973,
                        "learn": [
                          0.3393460387
                        ]
                      },
                      {
                        "test": [
                          0.84337337,
                          0.4195451469
                        ],
                        "passed_time": 4.176573526,
                        "iteration": 314,
                        "remaining_time": 9.082390049,
                        "learn": [
                          0.3391277917
                        ]
                      },
                      {
                        "test": [
                          0.8433363181,
                          0.41959494
                        ],
                        "passed_time": 4.190889216,
                        "iteration": 315,
                        "remaining_time": 9.07141843,
                        "learn": [
                          0.3390509441
                        ]
                      },
                      {
                        "test": [
                          0.8432972077,
                          0.4196645947
                        ],
                        "passed_time": 4.213556942,
                        "iteration": 316,
                        "remaining_time": 9.078420793,
                        "learn": [
                          0.3388048436
                        ]
                      },
                      {
                        "test": [
                          0.8432745649,
                          0.4196629244
                        ],
                        "passed_time": 4.228162258,
                        "iteration": 317,
                        "remaining_time": 9.067945472,
                        "learn": [
                          0.3384896594
                        ]
                      },
                      {
                        "test": [
                          0.8431407664,
                          0.4197888246
                        ],
                        "passed_time": 4.241601804,
                        "iteration": 318,
                        "remaining_time": 9.054955576,
                        "learn": [
                          0.3383557779
                        ]
                      },
                      {
                        "test": [
                          0.8431222404,
                          0.4197952105
                        ],
                        "passed_time": 4.255410972,
                        "iteration": 319,
                        "remaining_time": 9.042748314,
                        "learn": [
                          0.3381977024
                        ]
                      },
                      {
                        "test": [
                          0.8433095584,
                          0.4196783278
                        ],
                        "passed_time": 4.270948802,
                        "iteration": 320,
                        "remaining_time": 9.034187654,
                        "learn": [
                          0.3378398896
                        ]
                      },
                      {
                        "test": [
                          0.8433507271,
                          0.4197095136
                        ],
                        "passed_time": 4.284425227,
                        "iteration": 321,
                        "remaining_time": 9.021243181,
                        "learn": [
                          0.3376884872
                        ]
                      },
                      {
                        "test": [
                          0.843186052,
                          0.4199519346
                        ],
                        "passed_time": 4.298332491,
                        "iteration": 322,
                        "remaining_time": 9.009198441,
                        "learn": [
                          0.3372242178
                        ]
                      },
                      {
                        "test": [
                          0.8431613507,
                          0.4199722844
                        ],
                        "passed_time": 4.313069588,
                        "iteration": 323,
                        "remaining_time": 8.998873586,
                        "learn": [
                          0.3370021096
                        ]
                      },
                      {
                        "test": [
                          0.843101656,
                          0.4200153051
                        ],
                        "passed_time": 4.328521578,
                        "iteration": 324,
                        "remaining_time": 8.990006354,
                        "learn": [
                          0.336951443
                        ]
                      },
                      {
                        "test": [
                          0.843092393,
                          0.4200448875
                        ],
                        "passed_time": 4.343042432,
                        "iteration": 325,
                        "remaining_time": 8.979173616,
                        "learn": [
                          0.3366252467
                        ]
                      },
                      {
                        "test": [
                          0.8430285814,
                          0.4201006795
                        ],
                        "passed_time": 4.357222249,
                        "iteration": 326,
                        "remaining_time": 8.967616434,
                        "learn": [
                          0.3365417851
                        ]
                      },
                      {
                        "test": [
                          0.8430429905,
                          0.4200694802
                        ],
                        "passed_time": 4.371372028,
                        "iteration": 327,
                        "remaining_time": 8.955981716,
                        "learn": [
                          0.3363318139
                        ]
                      },
                      {
                        "test": [
                          0.8429812373,
                          0.4201256833
                        ],
                        "passed_time": 4.386448565,
                        "iteration": 328,
                        "remaining_time": 8.946221844,
                        "learn": [
                          0.3361283182
                        ]
                      },
                      {
                        "test": [
                          0.8428227375,
                          0.4204055449
                        ],
                        "passed_time": 4.400754329,
                        "iteration": 329,
                        "remaining_time": 8.934864849,
                        "learn": [
                          0.3358818342
                        ]
                      },
                      {
                        "test": [
                          0.8428803738,
                          0.4203792819
                        ],
                        "passed_time": 4.416221222,
                        "iteration": 330,
                        "remaining_time": 8.925836851,
                        "learn": [
                          0.3358361452
                        ]
                      },
                      {
                        "test": [
                          0.8428433219,
                          0.4203808144
                        ],
                        "passed_time": 4.431879827,
                        "iteration": 331,
                        "remaining_time": 8.917155797,
                        "learn": [
                          0.335806228
                        ]
                      },
                      {
                        "test": [
                          0.8428000947,
                          0.4204167899
                        ],
                        "passed_time": 4.44632706,
                        "iteration": 332,
                        "remaining_time": 8.906006453,
                        "learn": [
                          0.3357672049
                        ]
                      },
                      {
                        "test": [
                          0.8428536141,
                          0.4203573786
                        ],
                        "passed_time": 4.461430533,
                        "iteration": 333,
                        "remaining_time": 8.896145913,
                        "learn": [
                          0.3356907575
                        ]
                      },
                      {
                        "test": [
                          0.8427795103,
                          0.4204258429
                        ],
                        "passed_time": 4.476152777,
                        "iteration": 334,
                        "remaining_time": 8.885497304,
                        "learn": [
                          0.3354498883
                        ]
                      },
                      {
                        "test": [
                          0.8427630428,
                          0.4204402354
                        ],
                        "passed_time": 4.488107988,
                        "iteration": 335,
                        "remaining_time": 8.869356262,
                        "learn": [
                          0.335430138
                        ]
                      },
                      {
                        "test": [
                          0.8427074649,
                          0.4205181767
                        ],
                        "passed_time": 4.502186253,
                        "iteration": 336,
                        "remaining_time": 8.857416872,
                        "learn": [
                          0.3353411313
                        ]
                      },
                      {
                        "test": [
                          0.8426683546,
                          0.4205911989
                        ],
                        "passed_time": 4.516692202,
                        "iteration": 337,
                        "remaining_time": 8.846302479,
                        "learn": [
                          0.3352318384
                        ]
                      },
                      {
                        "test": [
                          0.8426992312,
                          0.4205865065
                        ],
                        "passed_time": 4.530996732,
                        "iteration": 338,
                        "remaining_time": 8.834775339,
                        "learn": [
                          0.3350441148
                        ]
                      },
                      {
                        "test": [
                          0.8427156987,
                          0.4206798657
                        ],
                        "passed_time": 4.547024207,
                        "iteration": 339,
                        "remaining_time": 8.826576402,
                        "learn": [
                          0.3345759976
                        ]
                      },
                      {
                        "test": [
                          0.8427115818,
                          0.4207417498
                        ],
                        "passed_time": 4.56128363,
                        "iteration": 340,
                        "remaining_time": 8.814914698,
                        "learn": [
                          0.3341636952
                        ]
                      },
                      {
                        "test": [
                          0.8427424584,
                          0.4207126717
                        ],
                        "passed_time": 4.575569365,
                        "iteration": 341,
                        "remaining_time": 8.803288427,
                        "learn": [
                          0.3341138371
                        ]
                      },
                      {
                        "test": [
                          0.8427671597,
                          0.4207043766
                        ],
                        "passed_time": 4.590432645,
                        "iteration": 342,
                        "remaining_time": 8.792752908,
                        "learn": [
                          0.3340025701
                        ]
                      },
                      {
                        "test": [
                          0.8426765883,
                          0.4209306881
                        ],
                        "passed_time": 4.604639995,
                        "iteration": 343,
                        "remaining_time": 8.780941385,
                        "learn": [
                          0.3335499108
                        ]
                      },
                      {
                        "test": [
                          0.8424872119,
                          0.4210522672
                        ],
                        "passed_time": 4.616957758,
                        "iteration": 344,
                        "remaining_time": 8.765528497,
                        "learn": [
                          0.3331650776
                        ]
                      },
                      {
                        "test": [
                          0.8424954457,
                          0.421052541
                        ],
                        "passed_time": 4.630775931,
                        "iteration": 345,
                        "remaining_time": 8.752969535,
                        "learn": [
                          0.3330998206
                        ]
                      },
                      {
                        "test": [
                          0.8423143031,
                          0.4211856543
                        ],
                        "passed_time": 4.643173658,
                        "iteration": 346,
                        "remaining_time": 8.737730256,
                        "learn": [
                          0.3327438723
                        ]
                      },
                      {
                        "test": [
                          0.8422422577,
                          0.4214118119
                        ],
                        "passed_time": 4.654929667,
                        "iteration": 347,
                        "remaining_time": 8.721305009,
                        "learn": [
                          0.3324835473
                        ]
                      },
                      {
                        "test": [
                          0.842248433,
                          0.4214052005
                        ],
                        "passed_time": 4.667947874,
                        "iteration": 348,
                        "remaining_time": 8.707260935,
                        "learn": [
                          0.3324719521
                        ]
                      },
                      {
                        "test": [
                          0.8422957771,
                          0.4212952055
                        ],
                        "passed_time": 4.682135532,
                        "iteration": 349,
                        "remaining_time": 8.695394559,
                        "learn": [
                          0.3320613674
                        ]
                      },
                      {
                        "test": [
                          0.8423040109,
                          0.4212896635
                        ],
                        "passed_time": 4.69740784,
                        "iteration": 350,
                        "remaining_time": 8.685520479,
                        "learn": [
                          0.3320090589
                        ]
                      },
                      {
                        "test": [
                          0.8423143031,
                          0.4212816696
                        ],
                        "passed_time": 4.709909404,
                        "iteration": 351,
                        "remaining_time": 8.670515039,
                        "learn": [
                          0.3319801932
                        ]
                      },
                      {
                        "test": [
                          0.8422731343,
                          0.4212932936
                        ],
                        "passed_time": 4.723721709,
                        "iteration": 352,
                        "remaining_time": 8.657926191,
                        "learn": [
                          0.3319461435
                        ]
                      },
                      {
                        "test": [
                          0.8421578617,
                          0.421411969
                        ],
                        "passed_time": 4.736289226,
                        "iteration": 353,
                        "remaining_time": 8.643058871,
                        "learn": [
                          0.331887929
                        ]
                      },
                      {
                        "test": [
                          0.8421887383,
                          0.421381999
                        ],
                        "passed_time": 4.750977194,
                        "iteration": 354,
                        "remaining_time": 8.632057156,
                        "learn": [
                          0.3318245249
                        ]
                      },
                      {
                        "test": [
                          0.8420528813,
                          0.4214873469
                        ],
                        "passed_time": 4.765302702,
                        "iteration": 355,
                        "remaining_time": 8.620379045,
                        "learn": [
                          0.3316624587
                        ]
                      },
                      {
                        "test": [
                          0.8420405307,
                          0.4215260299
                        ],
                        "passed_time": 4.778956699,
                        "iteration": 356,
                        "remaining_time": 8.607476632,
                        "learn": [
                          0.3316394202
                        ]
                      },
                      {
                        "test": [
                          0.8419993619,
                          0.4216175213
                        ],
                        "passed_time": 4.792313573,
                        "iteration": 357,
                        "remaining_time": 8.594037189,
                        "learn": [
                          0.3315107469
                        ]
                      },
                      {
                        "test": [
                          0.8419334918,
                          0.4216525863
                        ],
                        "passed_time": 4.806033403,
                        "iteration": 358,
                        "remaining_time": 8.581246272,
                        "learn": [
                          0.3313364158
                        ]
                      },
                      {
                        "test": [
                          0.8418532127,
                          0.4217413427
                        ],
                        "passed_time": 4.8197272,
                        "iteration": 359,
                        "remaining_time": 8.568403912,
                        "learn": [
                          0.3310516855
                        ]
                      },
                      {
                        "test": [
                          0.8418696802,
                          0.4217143467
                        ],
                        "passed_time": 4.833328195,
                        "iteration": 360,
                        "remaining_time": 8.555392566,
                        "learn": [
                          0.3309811546
                        ]
                      },
                      {
                        "test": [
                          0.8419005568,
                          0.4217887069
                        ],
                        "passed_time": 4.847628886,
                        "iteration": 361,
                        "remaining_time": 8.54361113,
                        "learn": [
                          0.330629156
                        ]
                      },
                      {
                        "test": [
                          0.8419149659,
                          0.4217721999
                        ],
                        "passed_time": 4.860280596,
                        "iteration": 362,
                        "remaining_time": 8.528922147,
                        "learn": [
                          0.330559549
                        ]
                      },
                      {
                        "test": [
                          0.8418635049,
                          0.421736782
                        ],
                        "passed_time": 4.874024001,
                        "iteration": 363,
                        "remaining_time": 8.516151826,
                        "learn": [
                          0.3304202646
                        ]
                      },
                      {
                        "test": [
                          0.8418223361,
                          0.4217714206
                        ],
                        "passed_time": 4.888625929,
                        "iteration": 364,
                        "remaining_time": 8.504869768,
                        "learn": [
                          0.3303892549
                        ]
                      },
                      {
                        "test": [
                          0.8418285114,
                          0.421801916
                        ],
                        "passed_time": 4.902738679,
                        "iteration": 365,
                        "remaining_time": 8.492722193,
                        "learn": [
                          0.3303729453
                        ]
                      },
                      {
                        "test": [
                          0.8416267844,
                          0.4220758763
                        ],
                        "passed_time": 4.918621328,
                        "iteration": 366,
                        "remaining_time": 8.483616623,
                        "learn": [
                          0.3300190463
                        ]
                      },
                      {
                        "test": [
                          0.8416164922,
                          0.422074395
                        ],
                        "passed_time": 4.93329664,
                        "iteration": 367,
                        "remaining_time": 8.472400751,
                        "learn": [
                          0.3299077488
                        ]
                      },
                      {
                        "test": [
                          0.8416123753,
                          0.4221502202
                        ],
                        "passed_time": 4.947495437,
                        "iteration": 368,
                        "remaining_time": 8.460351277,
                        "learn": [
                          0.329740244
                        ]
                      },
                      {
                        "test": [
                          0.8415506222,
                          0.4222502223
                        ],
                        "passed_time": 4.961375334,
                        "iteration": 369,
                        "remaining_time": 8.447747191,
                        "learn": [
                          0.3294214307
                        ]
                      },
                      {
                        "test": [
                          0.841709122,
                          0.42215181
                        ],
                        "passed_time": 4.972209909,
                        "iteration": 370,
                        "remaining_time": 8.429973134,
                        "learn": [
                          0.3292982275
                        ]
                      },
                      {
                        "test": [
                          0.8417585245,
                          0.4220847095
                        ],
                        "passed_time": 4.98698322,
                        "iteration": 371,
                        "remaining_time": 8.418885651,
                        "learn": [
                          0.329222855
                        ]
                      },
                      {
                        "test": [
                          0.8417811673,
                          0.421893585
                        ],
                        "passed_time": 5.02513533,
                        "iteration": 372,
                        "remaining_time": 8.447077351,
                        "learn": [
                          0.3287067035
                        ]
                      },
                      {
                        "test": [
                          0.8418923231,
                          0.4218336325
                        ],
                        "passed_time": 5.059448363,
                        "iteration": 373,
                        "remaining_time": 8.468488437,
                        "learn": [
                          0.3285902908
                        ]
                      },
                      {
                        "test": [
                          0.8419808359,
                          0.4218444328
                        ],
                        "passed_time": 5.072746539,
                        "iteration": 374,
                        "remaining_time": 8.454577565,
                        "learn": [
                          0.3283890909
                        ]
                      },
                      {
                        "test": [
                          0.8419087906,
                          0.4219297591
                        ],
                        "passed_time": 5.086488612,
                        "iteration": 375,
                        "remaining_time": 8.441406633,
                        "learn": [
                          0.3281684726
                        ]
                      },
                      {
                        "test": [
                          0.8418305699,
                          0.4219862861
                        ],
                        "passed_time": 5.09934462,
                        "iteration": 376,
                        "remaining_time": 8.42676843,
                        "learn": [
                          0.3279378383
                        ]
                      },
                      {
                        "test": [
                          0.8417894011,
                          0.4220795221
                        ],
                        "passed_time": 5.114351348,
                        "iteration": 377,
                        "remaining_time": 8.415678674,
                        "learn": [
                          0.3276113098
                        ]
                      },
                      {
                        "test": [
                          0.8418285114,
                          0.4220491544
                        ],
                        "passed_time": 5.129545589,
                        "iteration": 378,
                        "remaining_time": 8.40487549,
                        "learn": [
                          0.3275637459
                        ]
                      },
                      {
                        "test": [
                          0.8418058686,
                          0.4220016778
                        ],
                        "passed_time": 5.142744878,
                        "iteration": 379,
                        "remaining_time": 8.390794274,
                        "learn": [
                          0.3274098093
                        ]
                      },
                      {
                        "test": [
                          0.8418737971,
                          0.4219285029
                        ],
                        "passed_time": 5.157271759,
                        "iteration": 380,
                        "remaining_time": 8.378874591,
                        "learn": [
                          0.3273176319
                        ]
                      },
                      {
                        "test": [
                          0.8418120439,
                          0.422059858
                        ],
                        "passed_time": 5.171200277,
                        "iteration": 381,
                        "remaining_time": 8.365973222,
                        "learn": [
                          0.3271339124
                        ]
                      },
                      {
                        "test": [
                          0.8417811673,
                          0.4221042487
                        ],
                        "passed_time": 5.184266406,
                        "iteration": 382,
                        "remaining_time": 8.351677213,
                        "learn": [
                          0.3268328727
                        ]
                      },
                      {
                        "test": [
                          0.8417770505,
                          0.4221174725
                        ],
                        "passed_time": 5.198838873,
                        "iteration": 383,
                        "remaining_time": 8.339804025,
                        "learn": [
                          0.3268010462
                        ]
                      },
                      {
                        "test": [
                          0.8417029467,
                          0.4222555991
                        ],
                        "passed_time": 5.217750975,
                        "iteration": 384,
                        "remaining_time": 8.334848961,
                        "learn": [
                          0.3266286984
                        ]
                      },
                      {
                        "test": [
                          0.8417894011,
                          0.4221661756
                        ],
                        "passed_time": 5.232065732,
                        "iteration": 385,
                        "remaining_time": 8.322508703,
                        "learn": [
                          0.3265450736
                        ]
                      },
                      {
                        "test": [
                          0.8418182192,
                          0.4221575578
                        ],
                        "passed_time": 5.24513298,
                        "iteration": 386,
                        "remaining_time": 8.308182213,
                        "learn": [
                          0.326317564
                        ]
                      },
                      {
                        "test": [
                          0.8419273165,
                          0.4219594132
                        ],
                        "passed_time": 5.261397424,
                        "iteration": 387,
                        "remaining_time": 8.298905216,
                        "learn": [
                          0.3259020837
                        ]
                      },
                      {
                        "test": [
                          0.8418099855,
                          0.4221125751
                        ],
                        "passed_time": 5.274936945,
                        "iteration": 388,
                        "remaining_time": 8.285312271,
                        "learn": [
                          0.3257397407
                        ]
                      },
                      {
                        "test": [
                          0.8417152973,
                          0.422107621
                        ],
                        "passed_time": 5.292006611,
                        "iteration": 389,
                        "remaining_time": 8.277241109,
                        "learn": [
                          0.3254810245
                        ]
                      },
                      {
                        "test": [
                          0.8417194142,
                          0.4221021849
                        ],
                        "passed_time": 5.306533345,
                        "iteration": 390,
                        "remaining_time": 8.265163189,
                        "learn": [
                          0.3254299241
                        ]
                      },
                      {
                        "test": [
                          0.841709122,
                          0.4221446398
                        ],
                        "passed_time": 5.320521347,
                        "iteration": 391,
                        "remaining_time": 8.252237192,
                        "learn": [
                          0.3252030927
                        ]
                      },
                      {
                        "test": [
                          0.8417152973,
                          0.4221560418
                        ],
                        "passed_time": 5.334210437,
                        "iteration": 392,
                        "remaining_time": 8.238844109,
                        "learn": [
                          0.3251711661
                        ]
                      },
                      {
                        "test": [
                          0.8417152973,
                          0.4221867359
                        ],
                        "passed_time": 5.35022932,
                        "iteration": 393,
                        "remaining_time": 8.229032914,
                        "learn": [
                          0.3251392592
                        ]
                      },
                      {
                        "test": [
                          0.8416329597,
                          0.422249462
                        ],
                        "passed_time": 5.365193198,
                        "iteration": 394,
                        "remaining_time": 8.217574392,
                        "learn": [
                          0.3249104343
                        ]
                      },
                      {
                        "test": [
                          0.841512541,
                          0.4223865247
                        ],
                        "passed_time": 5.379105955,
                        "iteration": 395,
                        "remaining_time": 8.204494941,
                        "learn": [
                          0.3247224379
                        ]
                      },
                      {
                        "test": [
                          0.8413705087,
                          0.4225386626
                        ],
                        "passed_time": 5.392932527,
                        "iteration": 396,
                        "remaining_time": 8.191280388,
                        "learn": [
                          0.3242589801
                        ]
                      },
                      {
                        "test": [
                          0.8413766841,
                          0.4224723395
                        ],
                        "passed_time": 5.409099209,
                        "iteration": 397,
                        "remaining_time": 8.181602321,
                        "learn": [
                          0.3237258156
                        ]
                      },
                      {
                        "test": [
                          0.8413766841,
                          0.422451919
                        ],
                        "passed_time": 5.423164424,
                        "iteration": 398,
                        "remaining_time": 8.168726362,
                        "learn": [
                          0.3235312178
                        ]
                      },
                      {
                        "test": [
                          0.8412696452,
                          0.4225586943
                        ],
                        "passed_time": 5.437975333,
                        "iteration": 399,
                        "remaining_time": 8.156963,
                        "learn": [
                          0.3232215542
                        ]
                      },
                      {
                        "test": [
                          0.8412078921,
                          0.4226560073
                        ],
                        "passed_time": 5.452853709,
                        "iteration": 400,
                        "remaining_time": 8.145285217,
                        "learn": [
                          0.3230699872
                        ]
                      },
                      {
                        "test": [
                          0.8412017167,
                          0.422676158
                        ],
                        "passed_time": 5.466899365,
                        "iteration": 401,
                        "remaining_time": 8.132352787,
                        "learn": [
                          0.3230517947
                        ]
                      },
                      {
                        "test": [
                          0.8412387686,
                          0.4226736295
                        ],
                        "passed_time": 5.481434815,
                        "iteration": 402,
                        "remaining_time": 8.120140408,
                        "learn": [
                          0.3230094029
                        ]
                      },
                      {
                        "test": [
                          0.8411955414,
                          0.4226708284
                        ],
                        "passed_time": 5.494795675,
                        "iteration": 403,
                        "remaining_time": 8.106183719,
                        "learn": [
                          0.3228441345
                        ]
                      },
                      {
                        "test": [
                          0.8412161258,
                          0.4226534899
                        ],
                        "passed_time": 5.50961886,
                        "iteration": 404,
                        "remaining_time": 8.094378325,
                        "learn": [
                          0.3228025234
                        ]
                      },
                      {
                        "test": [
                          0.8411914245,
                          0.4227309508
                        ],
                        "passed_time": 5.522379597,
                        "iteration": 405,
                        "remaining_time": 8.079540593,
                        "learn": [
                          0.3227269679
                        ]
                      },
                      {
                        "test": [
                          0.8412161258,
                          0.4227346588
                        ],
                        "passed_time": 5.537023986,
                        "iteration": 406,
                        "remaining_time": 8.067457552,
                        "learn": [
                          0.3224611843
                        ]
                      },
                      {
                        "test": [
                          0.8412861127,
                          0.4227094345
                        ],
                        "passed_time": 5.551233029,
                        "iteration": 407,
                        "remaining_time": 8.054730278,
                        "learn": [
                          0.3223540055
                        ]
                      },
                      {
                        "test": [
                          0.8411996583,
                          0.4228217069
                        ],
                        "passed_time": 5.566573926,
                        "iteration": 408,
                        "remaining_time": 8.043631272,
                        "learn": [
                          0.3221696361
                        ]
                      },
                      {
                        "test": [
                          0.8411873077,
                          0.4228303464
                        ],
                        "passed_time": 5.581133039,
                        "iteration": 409,
                        "remaining_time": 8.031386568,
                        "learn": [
                          0.3220702363
                        ]
                      },
                      {
                        "test": [
                          0.8413396322,
                          0.4227080558
                        ],
                        "passed_time": 5.595727475,
                        "iteration": 410,
                        "remaining_time": 8.019181223,
                        "learn": [
                          0.3217376095
                        ]
                      },
                      {
                        "test": [
                          0.84139521,
                          0.4226328762
                        ],
                        "passed_time": 5.609940745,
                        "iteration": 411,
                        "remaining_time": 8.006420287,
                        "learn": [
                          0.3216628511
                        ]
                      },
                      {
                        "test": [
                          0.8414384372,
                          0.4225913376
                        ],
                        "passed_time": 5.623919166,
                        "iteration": 412,
                        "remaining_time": 7.993318524,
                        "learn": [
                          0.3216065859
                        ]
                      },
                      {
                        "test": [
                          0.8414075606,
                          0.4225964371
                        ],
                        "passed_time": 5.648528377,
                        "iteration": 413,
                        "remaining_time": 7.995259973,
                        "learn": [
                          0.3215648038
                        ]
                      },
                      {
                        "test": [
                          0.841310814,
                          0.422652737
                        ],
                        "passed_time": 5.665194094,
                        "iteration": 414,
                        "remaining_time": 7.985876013,
                        "learn": [
                          0.3212437395
                        ]
                      },
                      {
                        "test": [
                          0.841310814,
                          0.4226550236
                        ],
                        "passed_time": 5.679546649,
                        "iteration": 415,
                        "remaining_time": 7.973209719,
                        "learn": [
                          0.3212231325
                        ]
                      },
                      {
                        "test": [
                          0.8413890347,
                          0.4226390582
                        ],
                        "passed_time": 5.694746942,
                        "iteration": 416,
                        "remaining_time": 7.961720546,
                        "learn": [
                          0.3211848362
                        ]
                      },
                      {
                        "test": [
                          0.8414302035,
                          0.4226281229
                        ],
                        "passed_time": 5.709010342,
                        "iteration": 417,
                        "remaining_time": 7.948909137,
                        "learn": [
                          0.3210447705
                        ]
                      },
                      {
                        "test": [
                          0.8413519828,
                          0.4226786724
                        ],
                        "passed_time": 5.723423328,
                        "iteration": 418,
                        "remaining_time": 7.936298219,
                        "learn": [
                          0.3207871157
                        ]
                      },
                      {
                        "test": [
                          0.8413602165,
                          0.4226209553
                        ],
                        "passed_time": 5.736605496,
                        "iteration": 419,
                        "remaining_time": 7.921979019,
                        "learn": [
                          0.320709619
                        ]
                      },
                      {
                        "test": [
                          0.8413540412,
                          0.4226541448
                        ],
                        "passed_time": 5.751354736,
                        "iteration": 420,
                        "remaining_time": 7.909820409,
                        "learn": [
                          0.3206563034
                        ]
                      },
                      {
                        "test": [
                          0.8414302035,
                          0.4227644334
                        ],
                        "passed_time": 5.765048162,
                        "iteration": 421,
                        "remaining_time": 7.896203407,
                        "learn": [
                          0.320250878
                        ]
                      },
                      {
                        "test": [
                          0.8414528463,
                          0.4228184376
                        ],
                        "passed_time": 5.778869585,
                        "iteration": 422,
                        "remaining_time": 7.88276064,
                        "learn": [
                          0.3200856666
                        ]
                      },
                      {
                        "test": [
                          0.8414260866,
                          0.4228034872
                        ],
                        "passed_time": 5.793199949,
                        "iteration": 423,
                        "remaining_time": 7.870007478,
                        "learn": [
                          0.3199876768
                        ]
                      },
                      {
                        "test": [
                          0.8413746256,
                          0.4228311207
                        ],
                        "passed_time": 5.810397713,
                        "iteration": 424,
                        "remaining_time": 7.861126317,
                        "learn": [
                          0.3197958876
                        ]
                      },
                      {
                        "test": [
                          0.8413746256,
                          0.4228279103
                        ],
                        "passed_time": 5.823992642,
                        "iteration": 425,
                        "remaining_time": 7.847351587,
                        "learn": [
                          0.3196988469
                        ]
                      },
                      {
                        "test": [
                          0.8413087556,
                          0.4230427517
                        ],
                        "passed_time": 5.838133264,
                        "iteration": 426,
                        "remaining_time": 7.834309978,
                        "learn": [
                          0.3193414578
                        ]
                      },
                      {
                        "test": [
                          0.8412223011,
                          0.4232008675
                        ],
                        "passed_time": 5.853572536,
                        "iteration": 427,
                        "remaining_time": 7.82299881,
                        "learn": [
                          0.3189478363
                        ]
                      },
                      {
                        "test": [
                          0.8411873077,
                          0.4232625471
                        ],
                        "passed_time": 5.866374304,
                        "iteration": 428,
                        "remaining_time": 7.808157873,
                        "learn": [
                          0.3188704654
                        ]
                      },
                      {
                        "test": [
                          0.8411873077,
                          0.4232634173
                        ],
                        "passed_time": 5.877361853,
                        "iteration": 429,
                        "remaining_time": 7.790921527,
                        "learn": [
                          0.3188494311
                        ]
                      },
                      {
                        "test": [
                          0.8411523142,
                          0.4233135617
                        ],
                        "passed_time": 5.891784283,
                        "iteration": 430,
                        "remaining_time": 7.778248856,
                        "learn": [
                          0.3186752136
                        ]
                      },
                      {
                        "test": [
                          0.8411728986,
                          0.423285776
                        ],
                        "passed_time": 5.906287914,
                        "iteration": 431,
                        "remaining_time": 7.76567485,
                        "learn": [
                          0.3186100903
                        ]
                      },
                      {
                        "test": [
                          0.8411440804,
                          0.4232827925
                        ],
                        "passed_time": 5.920290859,
                        "iteration": 432,
                        "remaining_time": 7.752436298,
                        "learn": [
                          0.3184874786
                        ]
                      },
                      {
                        "test": [
                          0.8411111454,
                          0.423384386
                        ],
                        "passed_time": 5.933546862,
                        "iteration": 433,
                        "remaining_time": 7.738220101,
                        "learn": [
                          0.3183636048
                        ]
                      },
                      {
                        "test": [
                          0.841174957,
                          0.423350586
                        ],
                        "passed_time": 5.946069856,
                        "iteration": 434,
                        "remaining_time": 7.72305625,
                        "learn": [
                          0.318263591
                        ]
                      },
                      {
                        "test": [
                          0.8411667233,
                          0.4233786114
                        ],
                        "passed_time": 5.96036202,
                        "iteration": 435,
                        "remaining_time": 7.710193072,
                        "learn": [
                          0.318113527
                        ]
                      },
                      {
                        "test": [
                          0.8414055022,
                          0.4231882395
                        ],
                        "passed_time": 5.974614369,
                        "iteration": 436,
                        "remaining_time": 7.69727206,
                        "learn": [
                          0.3179489827
                        ]
                      },
                      {
                        "test": [
                          0.8413355153,
                          0.4232742476
                        ],
                        "passed_time": 5.987798273,
                        "iteration": 437,
                        "remaining_time": 7.68297404,
                        "learn": [
                          0.3176681985
                        ]
                      },
                      {
                        "test": [
                          0.8413416906,
                          0.4232626482
                        ],
                        "passed_time": 6.000569768,
                        "iteration": 438,
                        "remaining_time": 7.668154077,
                        "learn": [
                          0.3176149326
                        ]
                      },
                      {
                        "test": [
                          0.8412799374,
                          0.4232865517
                        ],
                        "passed_time": 6.036562085,
                        "iteration": 439,
                        "remaining_time": 7.682897199,
                        "learn": [
                          0.3175270694
                        ]
                      },
                      {
                        "test": [
                          0.841244944,
                          0.4233135194
                        ],
                        "passed_time": 6.069051283,
                        "iteration": 440,
                        "remaining_time": 7.692969767,
                        "learn": [
                          0.3174909837
                        ]
                      },
                      {
                        "test": [
                          0.8412819959,
                          0.4232899706
                        ],
                        "passed_time": 6.097947802,
                        "iteration": 441,
                        "remaining_time": 7.698314193,
                        "learn": [
                          0.3174283641
                        ]
                      },
                      {
                        "test": [
                          0.8409835222,
                          0.4236008272
                        ],
                        "passed_time": 6.111231068,
                        "iteration": 442,
                        "remaining_time": 7.683872922,
                        "learn": [
                          0.31711812
                        ]
                      },
                      {
                        "test": [
                          0.8409711716,
                          0.4236143647
                        ],
                        "passed_time": 6.125452055,
                        "iteration": 443,
                        "remaining_time": 7.670611132,
                        "learn": [
                          0.317075654
                        ]
                      },
                      {
                        "test": [
                          0.841090561,
                          0.4235590659
                        ],
                        "passed_time": 6.140827313,
                        "iteration": 444,
                        "remaining_time": 7.658784626,
                        "learn": [
                          0.3165882995
                        ]
                      },
                      {
                        "test": [
                          0.8411111454,
                          0.4235400184
                        ],
                        "passed_time": 6.154892761,
                        "iteration": 445,
                        "remaining_time": 7.645315223,
                        "learn": [
                          0.3165428949
                        ]
                      },
                      {
                        "test": [
                          0.8411893661,
                          0.4234695287
                        ],
                        "passed_time": 6.170263111,
                        "iteration": 446,
                        "remaining_time": 7.633457495,
                        "learn": [
                          0.3163879366
                        ]
                      },
                      {
                        "test": [
                          0.8411337882,
                          0.4235568096
                        ],
                        "passed_time": 6.183388375,
                        "iteration": 447,
                        "remaining_time": 7.618817819,
                        "learn": [
                          0.3161943594
                        ]
                      },
                      {
                        "test": [
                          0.8411193792,
                          0.423552895
                        ],
                        "passed_time": 6.198538995,
                        "iteration": 448,
                        "remaining_time": 7.606670348,
                        "learn": [
                          0.3160951361
                        ]
                      },
                      {
                        "test": [
                          0.8411687817,
                          0.4235176785
                        ],
                        "passed_time": 6.220035912,
                        "iteration": 449,
                        "remaining_time": 7.602266115,
                        "learn": [
                          0.3159187498
                        ]
                      },
                      {
                        "test": [
                          0.841142022,
                          0.4235793608
                        ],
                        "passed_time": 6.233732903,
                        "iteration": 450,
                        "remaining_time": 7.588291272,
                        "learn": [
                          0.3157340426
                        ]
                      },
                      {
                        "test": [
                          0.8410679182,
                          0.4236758721
                        ],
                        "passed_time": 6.249710281,
                        "iteration": 451,
                        "remaining_time": 7.577082376,
                        "learn": [
                          0.3155301195
                        ]
                      },
                      {
                        "test": [
                          0.8409773469,
                          0.4237021194
                        ],
                        "passed_time": 6.267493588,
                        "iteration": 452,
                        "remaining_time": 7.568033096,
                        "learn": [
                          0.3152517429
                        ]
                      },
                      {
                        "test": [
                          0.8409691131,
                          0.4237244084
                        ],
                        "passed_time": 6.281851386,
                        "iteration": 453,
                        "remaining_time": 7.554825676,
                        "learn": [
                          0.3149589121
                        ]
                      },
                      {
                        "test": [
                          0.8409876391,
                          0.4238665882
                        ],
                        "passed_time": 6.295746048,
                        "iteration": 454,
                        "remaining_time": 7.541058453,
                        "learn": [
                          0.3147070343
                        ]
                      },
                      {
                        "test": [
                          0.8409855806,
                          0.4238772823
                        ],
                        "passed_time": 6.31096761,
                        "iteration": 455,
                        "remaining_time": 7.52887364,
                        "learn": [
                          0.3145043477
                        ]
                      },
                      {
                        "test": [
                          0.8409670547,
                          0.4239467009
                        ],
                        "passed_time": 6.325561677,
                        "iteration": 456,
                        "remaining_time": 7.515929958,
                        "learn": [
                          0.314350167
                        ]
                      },
                      {
                        "test": [
                          0.8408106133,
                          0.4241053133
                        ],
                        "passed_time": 6.340128669,
                        "iteration": 457,
                        "remaining_time": 7.502947027,
                        "learn": [
                          0.3141845135
                        ]
                      },
                      {
                        "test": [
                          0.8407426848,
                          0.4241514369
                        ],
                        "passed_time": 6.355490457,
                        "iteration": 458,
                        "remaining_time": 7.490893981,
                        "learn": [
                          0.3135911154
                        ]
                      },
                      {
                        "test": [
                          0.8407756198,
                          0.4241473272
                        ],
                        "passed_time": 6.367835396,
                        "iteration": 459,
                        "remaining_time": 7.47528503,
                        "learn": [
                          0.3135662699
                        ]
                      },
                      {
                        "test": [
                          0.8407468017,
                          0.4241812738
                        ],
                        "passed_time": 6.384475478,
                        "iteration": 460,
                        "remaining_time": 7.46471211,
                        "learn": [
                          0.3134353466
                        ]
                      },
                      {
                        "test": [
                          0.8407118082,
                          0.4242473305
                        ],
                        "passed_time": 6.3989669,
                        "iteration": 461,
                        "remaining_time": 7.451610805,
                        "learn": [
                          0.3133819633
                        ]
                      },
                      {
                        "test": [
                          0.840635646,
                          0.4243399441
                        ],
                        "passed_time": 6.413948109,
                        "iteration": 462,
                        "remaining_time": 7.439071565,
                        "learn": [
                          0.3132137266
                        ]
                      },
                      {
                        "test": [
                          0.8406891654,
                          0.4244553099
                        ],
                        "passed_time": 6.428747422,
                        "iteration": 463,
                        "remaining_time": 7.426311677,
                        "learn": [
                          0.3129437486
                        ]
                      },
                      {
                        "test": [
                          0.8406068278,
                          0.4244908145
                        ],
                        "passed_time": 6.443013107,
                        "iteration": 464,
                        "remaining_time": 7.412929059,
                        "learn": [
                          0.3127127429
                        ]
                      },
                      {
                        "test": [
                          0.8405883019,
                          0.424514079
                        ],
                        "passed_time": 6.45678139,
                        "iteration": 465,
                        "remaining_time": 7.398972665,
                        "learn": [
                          0.3126825172
                        ]
                      },
                      {
                        "test": [
                          0.8405862435,
                          0.4245212131
                        ],
                        "passed_time": 6.470531386,
                        "iteration": 466,
                        "remaining_time": 7.384996207,
                        "learn": [
                          0.3126336868
                        ]
                      },
                      {
                        "test": [
                          0.8405265487,
                          0.4245883059
                        ],
                        "passed_time": 6.485630138,
                        "iteration": 467,
                        "remaining_time": 7.372553917,
                        "learn": [
                          0.3122480231
                        ]
                      },
                      {
                        "test": [
                          0.8403865749,
                          0.4246698962
                        ],
                        "passed_time": 6.499883505,
                        "iteration": 468,
                        "remaining_time": 7.359143158,
                        "learn": [
                          0.311975855
                        ]
                      },
                      {
                        "test": [
                          0.8404606787,
                          0.4245959919
                        ],
                        "passed_time": 6.514537856,
                        "iteration": 469,
                        "remaining_time": 7.346180987,
                        "learn": [
                          0.311538117
                        ]
                      },
                      {
                        "test": [
                          0.8404771462,
                          0.4246384293
                        ],
                        "passed_time": 6.52932593,
                        "iteration": 470,
                        "remaining_time": 7.333361819,
                        "learn": [
                          0.3113051749
                        ]
                      },
                      {
                        "test": [
                          0.8404503865,
                          0.4246655192
                        ],
                        "passed_time": 6.54481911,
                        "iteration": 471,
                        "remaining_time": 7.321323072,
                        "learn": [
                          0.3112338913
                        ]
                      },
                      {
                        "test": [
                          0.8404894968,
                          0.4246794313
                        ],
                        "passed_time": 6.561969038,
                        "iteration": 472,
                        "remaining_time": 7.311115608,
                        "learn": [
                          0.3108766045
                        ]
                      },
                      {
                        "test": [
                          0.8403433476,
                          0.4249120888
                        ],
                        "passed_time": 6.575519005,
                        "iteration": 473,
                        "remaining_time": 7.296883959,
                        "learn": [
                          0.310644892
                        ]
                      },
                      {
                        "test": [
                          0.8403577567,
                          0.4248364362
                        ],
                        "passed_time": 6.588739931,
                        "iteration": 474,
                        "remaining_time": 7.282291502,
                        "learn": [
                          0.310375989
                        ]
                      },
                      {
                        "test": [
                          0.8404195099,
                          0.4247756312
                        ],
                        "passed_time": 6.602781618,
                        "iteration": 475,
                        "remaining_time": 7.268608335,
                        "learn": [
                          0.3102336767
                        ]
                      },
                      {
                        "test": [
                          0.8402013153,
                          0.4250324901
                        ],
                        "passed_time": 6.618002163,
                        "iteration": 476,
                        "remaining_time": 7.256216208,
                        "learn": [
                          0.3100704853
                        ]
                      },
                      {
                        "test": [
                          0.8400695752,
                          0.4253053152
                        ],
                        "passed_time": 6.633999574,
                        "iteration": 477,
                        "remaining_time": 7.244660623,
                        "learn": [
                          0.3099867831
                        ]
                      },
                      {
                        "test": [
                          0.8400428155,
                          0.4253522028
                        ],
                        "passed_time": 6.647570939,
                        "iteration": 478,
                        "remaining_time": 7.230447723,
                        "learn": [
                          0.3099108942
                        ]
                      },
                      {
                        "test": [
                          0.8398987248,
                          0.4255500705
                        ],
                        "passed_time": 6.66236458,
                        "iteration": 479,
                        "remaining_time": 7.217561628,
                        "learn": [
                          0.3096500824
                        ]
                      },
                      {
                        "test": [
                          0.8399501858,
                          0.425555531
                        ],
                        "passed_time": 6.676393064,
                        "iteration": 480,
                        "remaining_time": 7.203841997,
                        "learn": [
                          0.3095857509
                        ]
                      },
                      {
                        "test": [
                          0.8399563611,
                          0.4255056024
                        ],
                        "passed_time": 6.691140223,
                        "iteration": 481,
                        "remaining_time": 7.190893434,
                        "learn": [
                          0.3094091645
                        ]
                      },
                      {
                        "test": [
                          0.8399584195,
                          0.4254847322
                        ],
                        "passed_time": 6.70496068,
                        "iteration": 482,
                        "remaining_time": 7.17694549,
                        "learn": [
                          0.3092844221
                        ]
                      },
                      {
                        "test": [
                          0.8399501858,
                          0.4254593941
                        ],
                        "passed_time": 6.719649587,
                        "iteration": 483,
                        "remaining_time": 7.16392394,
                        "learn": [
                          0.309167697
                        ]
                      },
                      {
                        "test": [
                          0.8398781404,
                          0.4255266049
                        ],
                        "passed_time": 6.734174907,
                        "iteration": 484,
                        "remaining_time": 7.150721808,
                        "learn": [
                          0.3089002905
                        ]
                      },
                      {
                        "test": [
                          0.8399357767,
                          0.4253993144
                        ],
                        "passed_time": 6.74782503,
                        "iteration": 485,
                        "remaining_time": 7.136588612,
                        "learn": [
                          0.3088102638
                        ]
                      },
                      {
                        "test": [
                          0.8398554976,
                          0.4254728966
                        ],
                        "passed_time": 6.76080957,
                        "iteration": 486,
                        "remaining_time": 7.121756282,
                        "learn": [
                          0.3085279206
                        ]
                      },
                      {
                        "test": [
                          0.839857556,
                          0.42548041
                        ],
                        "passed_time": 6.773893082,
                        "iteration": 487,
                        "remaining_time": 7.107035364,
                        "learn": [
                          0.308495832
                        ]
                      },
                      {
                        "test": [
                          0.8398884326,
                          0.4254495988
                        ],
                        "passed_time": 6.786461924,
                        "iteration": 488,
                        "remaining_time": 7.091783319,
                        "learn": [
                          0.3083686328
                        ]
                      },
                      {
                        "test": [
                          0.8398801988,
                          0.4255055255
                        ],
                        "passed_time": 6.798664141,
                        "iteration": 489,
                        "remaining_time": 7.076160637,
                        "learn": [
                          0.3082333988
                        ]
                      },
                      {
                        "test": [
                          0.8400037052,
                          0.4253842789
                        ],
                        "passed_time": 6.813835706,
                        "iteration": 490,
                        "remaining_time": 7.063630091,
                        "learn": [
                          0.3080993024
                        ]
                      },
                      {
                        "test": [
                          0.8399913546,
                          0.4254630535
                        ],
                        "passed_time": 6.826798808,
                        "iteration": 491,
                        "remaining_time": 7.048808526,
                        "learn": [
                          0.308045524
                        ]
                      },
                      {
                        "test": [
                          0.8398019782,
                          0.425753411
                        ],
                        "passed_time": 6.840526114,
                        "iteration": 492,
                        "remaining_time": 7.034780405,
                        "learn": [
                          0.3077570432
                        ]
                      },
                      {
                        "test": [
                          0.8397793353,
                          0.4257716921
                        ],
                        "passed_time": 6.854158843,
                        "iteration": 493,
                        "remaining_time": 7.020656628,
                        "learn": [
                          0.3075031115
                        ]
                      },
                      {
                        "test": [
                          0.8397278744,
                          0.4258355517
                        ],
                        "passed_time": 6.869290716,
                        "iteration": 494,
                        "remaining_time": 7.008064266,
                        "learn": [
                          0.3072525128
                        ]
                      },
                      {
                        "test": [
                          0.8397011146,
                          0.4258850843
                        ],
                        "passed_time": 6.883534208,
                        "iteration": 495,
                        "remaining_time": 6.994558953,
                        "learn": [
                          0.3069974834
                        ]
                      },
                      {
                        "test": [
                          0.8398390301,
                          0.4257521954
                        ],
                        "passed_time": 6.898031555,
                        "iteration": 496,
                        "remaining_time": 6.981307589,
                        "learn": [
                          0.3068232831
                        ]
                      },
                      {
                        "test": [
                          0.8398163872,
                          0.4257758843
                        ],
                        "passed_time": 6.91324524,
                        "iteration": 497,
                        "remaining_time": 6.968773314,
                        "learn": [
                          0.3067663563
                        ]
                      },
                      {
                        "test": [
                          0.8398143288,
                          0.4257781154
                        ],
                        "passed_time": 6.929295654,
                        "iteration": 498,
                        "remaining_time": 6.957068383,
                        "learn": [
                          0.3065591612
                        ]
                      },
                      {
                        "test": [
                          0.8398102119,
                          0.425807464
                        ],
                        "passed_time": 6.943397037,
                        "iteration": 499,
                        "remaining_time": 6.943397037,
                        "learn": [
                          0.3065349675
                        ]
                      },
                      {
                        "test": [
                          0.8398554976,
                          0.4257259209
                        ],
                        "passed_time": 6.957963905,
                        "iteration": 500,
                        "remaining_time": 6.930187602,
                        "learn": [
                          0.3063688565
                        ]
                      },
                      {
                        "test": [
                          0.8398966664,
                          0.4257542189
                        ],
                        "passed_time": 6.972591293,
                        "iteration": 501,
                        "remaining_time": 6.917032796,
                        "learn": [
                          0.3061362826
                        ]
                      },
                      {
                        "test": [
                          0.8399069586,
                          0.4257807195
                        ],
                        "passed_time": 6.986010292,
                        "iteration": 502,
                        "remaining_time": 6.902678161,
                        "learn": [
                          0.3061079489
                        ]
                      },
                      {
                        "test": [
                          0.8399069586,
                          0.4257815144
                        ],
                        "passed_time": 6.998675338,
                        "iteration": 503,
                        "remaining_time": 6.887585253,
                        "learn": [
                          0.3060898702
                        ]
                      },
                      {
                        "test": [
                          0.8398987248,
                          0.4257811549
                        ],
                        "passed_time": 7.013918111,
                        "iteration": 504,
                        "remaining_time": 6.875028644,
                        "learn": [
                          0.3060164553
                        ]
                      },
                      {
                        "test": [
                          0.8398699066,
                          0.4257644843
                        ],
                        "passed_time": 7.026982321,
                        "iteration": 505,
                        "remaining_time": 6.860334519,
                        "learn": [
                          0.3059316032
                        ]
                      },
                      {
                        "test": [
                          0.8399131339,
                          0.4257192531
                        ],
                        "passed_time": 7.072644944,
                        "iteration": 506,
                        "remaining_time": 6.877345084,
                        "learn": [
                          0.3058650766
                        ]
                      },
                      {
                        "test": [
                          0.8396681796,
                          0.4261038113
                        ],
                        "passed_time": 7.109471692,
                        "iteration": 507,
                        "remaining_time": 6.885551324,
                        "learn": [
                          0.3056178533
                        ]
                      },
                      {
                        "test": [
                          0.8396208355,
                          0.4261418545
                        ],
                        "passed_time": 7.141972958,
                        "iteration": 508,
                        "remaining_time": 6.889408099,
                        "learn": [
                          0.3055432141
                        ]
                      },
                      {
                        "test": [
                          0.8395796667,
                          0.4262247632
                        ],
                        "passed_time": 7.156805779,
                        "iteration": 509,
                        "remaining_time": 6.876146729,
                        "learn": [
                          0.3053843314
                        ]
                      },
                      {
                        "test": [
                          0.8396517121,
                          0.4261587046
                        ],
                        "passed_time": 7.172101406,
                        "iteration": 510,
                        "remaining_time": 6.863322089,
                        "learn": [
                          0.3053217377
                        ]
                      },
                      {
                        "test": [
                          0.8396517121,
                          0.4261598115
                        ],
                        "passed_time": 7.185045451,
                        "iteration": 511,
                        "remaining_time": 6.848246445,
                        "learn": [
                          0.3053027525
                        ]
                      },
                      {
                        "test": [
                          0.8396517121,
                          0.426162305
                        ],
                        "passed_time": 7.197550697,
                        "iteration": 512,
                        "remaining_time": 6.832762553,
                        "learn": [
                          0.3052971244
                        ]
                      },
                      {
                        "test": [
                          0.8396455368,
                          0.4261758932
                        ],
                        "passed_time": 7.215977962,
                        "iteration": 513,
                        "remaining_time": 6.822889668,
                        "learn": [
                          0.305057545
                        ]
                      },
                      {
                        "test": [
                          0.8394108747,
                          0.4265180724
                        ],
                        "passed_time": 7.240845031,
                        "iteration": 514,
                        "remaining_time": 6.819048233,
                        "learn": [
                          0.3050216191
                        ]
                      },
                      {
                        "test": [
                          0.8393367709,
                          0.4267959018
                        ],
                        "passed_time": 7.256385569,
                        "iteration": 515,
                        "remaining_time": 6.806377162,
                        "learn": [
                          0.3047913432
                        ]
                      },
                      {
                        "test": [
                          0.8393058943,
                          0.4268625461
                        ],
                        "passed_time": 7.271425936,
                        "iteration": 516,
                        "remaining_time": 6.793227712,
                        "learn": [
                          0.3047164441
                        ]
                      },
                      {
                        "test": [
                          0.8393964657,
                          0.4267395427
                        ],
                        "passed_time": 7.28492138,
                        "iteration": 517,
                        "remaining_time": 6.778633407,
                        "learn": [
                          0.304146927
                        ]
                      },
                      {
                        "test": [
                          0.8392894268,
                          0.4268833615
                        ],
                        "passed_time": 7.299042087,
                        "iteration": 518,
                        "remaining_time": 6.764622821,
                        "learn": [
                          0.3040203544
                        ]
                      },
                      {
                        "test": [
                          0.8393388294,
                          0.426873961
                        ],
                        "passed_time": 7.31268478,
                        "iteration": 519,
                        "remaining_time": 6.750170566,
                        "learn": [
                          0.3038935881
                        ]
                      },
                      {
                        "test": [
                          0.8393305956,
                          0.4268569899
                        ],
                        "passed_time": 7.326848852,
                        "iteration": 520,
                        "remaining_time": 6.736200768,
                        "learn": [
                          0.3038126335
                        ]
                      },
                      {
                        "test": [
                          0.8393429462,
                          0.4268395832
                        ],
                        "passed_time": 7.340086618,
                        "iteration": 521,
                        "remaining_time": 6.721381999,
                        "learn": [
                          0.3036740944
                        ]
                      },
                      {
                        "test": [
                          0.8392956021,
                          0.4269261777
                        ],
                        "passed_time": 7.357190516,
                        "iteration": 522,
                        "remaining_time": 6.710095365,
                        "learn": [
                          0.3035785294
                        ]
                      },
                      {
                        "test": [
                          0.8392956021,
                          0.4269634038
                        ],
                        "passed_time": 7.370772331,
                        "iteration": 523,
                        "remaining_time": 6.695587079,
                        "learn": [
                          0.303373468
                        ]
                      },
                      {
                        "test": [
                          0.8392976606,
                          0.426964582
                        ],
                        "passed_time": 7.38196853,
                        "iteration": 524,
                        "remaining_time": 6.678923908,
                        "learn": [
                          0.303361722
                        ]
                      },
                      {
                        "test": [
                          0.8391967971,
                          0.4270518865
                        ],
                        "passed_time": 7.395834998,
                        "iteration": 525,
                        "remaining_time": 6.664687812,
                        "learn": [
                          0.3031673262
                        ]
                      },
                      {
                        "test": [
                          0.8389991869,
                          0.4273081126
                        ],
                        "passed_time": 7.411429604,
                        "iteration": 526,
                        "remaining_time": 6.652004179,
                        "learn": [
                          0.3029712988
                        ]
                      },
                      {
                        "test": [
                          0.8390053622,
                          0.42733204
                        ],
                        "passed_time": 7.424461438,
                        "iteration": 527,
                        "remaining_time": 6.637018558,
                        "learn": [
                          0.3028713139
                        ]
                      },
                      {
                        "test": [
                          0.8390053622,
                          0.4273697458
                        ],
                        "passed_time": 7.439375562,
                        "iteration": 528,
                        "remaining_time": 6.623716238,
                        "learn": [
                          0.3028299759
                        ]
                      },
                      {
                        "test": [
                          0.8389744856,
                          0.4274762168
                        ],
                        "passed_time": 7.454351316,
                        "iteration": 529,
                        "remaining_time": 6.610462488,
                        "learn": [
                          0.3027861688
                        ]
                      },
                      {
                        "test": [
                          0.839065057,
                          0.4276235406
                        ],
                        "passed_time": 7.468609617,
                        "iteration": 530,
                        "remaining_time": 6.59656857,
                        "learn": [
                          0.3025498255
                        ]
                      },
                      {
                        "test": [
                          0.8390506479,
                          0.4275935822
                        ],
                        "passed_time": 7.481796776,
                        "iteration": 531,
                        "remaining_time": 6.581730999,
                        "learn": [
                          0.3023979476
                        ]
                      },
                      {
                        "test": [
                          0.8391021089,
                          0.4276182052
                        ],
                        "passed_time": 7.496047284,
                        "iteration": 532,
                        "remaining_time": 6.567831297,
                        "learn": [
                          0.3022664565
                        ]
                      },
                      {
                        "test": [
                          0.839130927,
                          0.4275607858
                        ],
                        "passed_time": 7.509584748,
                        "iteration": 533,
                        "remaining_time": 6.553308038,
                        "learn": [
                          0.3020379653
                        ]
                      },
                      {
                        "test": [
                          0.8391268101,
                          0.4275296867
                        ],
                        "passed_time": 7.523192266,
                        "iteration": 534,
                        "remaining_time": 6.538849352,
                        "learn": [
                          0.301910535
                        ]
                      },
                      {
                        "test": [
                          0.8390074207,
                          0.4276897658
                        ],
                        "passed_time": 7.538625327,
                        "iteration": 535,
                        "remaining_time": 6.525974164,
                        "learn": [
                          0.3017969711
                        ]
                      },
                      {
                        "test": [
                          0.8390074207,
                          0.4277900188
                        ],
                        "passed_time": 7.553937476,
                        "iteration": 536,
                        "remaining_time": 6.512985198,
                        "learn": [
                          0.3016869919
                        ]
                      },
                      {
                        "test": [
                          0.8390094791,
                          0.4278329056
                        ],
                        "passed_time": 7.568011482,
                        "iteration": 537,
                        "remaining_time": 6.498924358,
                        "learn": [
                          0.3014996158
                        ]
                      },
                      {
                        "test": [
                          0.8390177129,
                          0.4278716151
                        ],
                        "passed_time": 7.577785551,
                        "iteration": 538,
                        "remaining_time": 6.481185787,
                        "learn": [
                          0.301368173
                        ]
                      },
                      {
                        "test": [
                          0.8389292,
                          0.4278970692
                        ],
                        "passed_time": 7.593367462,
                        "iteration": 539,
                        "remaining_time": 6.468424134,
                        "learn": [
                          0.3011245844
                        ]
                      },
                      {
                        "test": [
                          0.8389662519,
                          0.4278517687
                        ],
                        "passed_time": 7.608075287,
                        "iteration": 540,
                        "remaining_time": 6.454910456,
                        "learn": [
                          0.30093903
                        ]
                      },
                      {
                        "test": [
                          0.8389991869,
                          0.4278196014
                        ],
                        "passed_time": 7.621431387,
                        "iteration": 541,
                        "remaining_time": 6.440250139,
                        "learn": [
                          0.3008802482
                        ]
                      },
                      {
                        "test": [
                          0.8388674468,
                          0.4279300019
                        ],
                        "passed_time": 7.635183834,
                        "iteration": 542,
                        "remaining_time": 6.425928199,
                        "learn": [
                          0.3006559487
                        ]
                      },
                      {
                        "test": [
                          0.838826278,
                          0.4279807176
                        ],
                        "passed_time": 7.649844242,
                        "iteration": 543,
                        "remaining_time": 6.412369438,
                        "learn": [
                          0.3004888174
                        ]
                      },
                      {
                        "test": [
                          0.8387748171,
                          0.4280291173
                        ],
                        "passed_time": 7.6646774,
                        "iteration": 544,
                        "remaining_time": 6.398950857,
                        "learn": [
                          0.3004463333
                        ]
                      },
                      {
                        "test": [
                          0.8389168494,
                          0.4279654064
                        ],
                        "passed_time": 7.67917873,
                        "iteration": 545,
                        "remaining_time": 6.385251178,
                        "learn": [
                          0.300234084
                        ]
                      },
                      {
                        "test": [
                          0.8389086156,
                          0.4280047757
                        ],
                        "passed_time": 7.692895886,
                        "iteration": 546,
                        "remaining_time": 6.370899152,
                        "learn": [
                          0.3001719651
                        ]
                      },
                      {
                        "test": [
                          0.8389436091,
                          0.42796718
                        ],
                        "passed_time": 7.708465334,
                        "iteration": 547,
                        "remaining_time": 6.358077246,
                        "learn": [
                          0.3001202571
                        ]
                      },
                      {
                        "test": [
                          0.8389497844,
                          0.4279957193
                        ],
                        "passed_time": 7.723679632,
                        "iteration": 548,
                        "remaining_time": 6.344953578,
                        "learn": [
                          0.3000381905
                        ]
                      },
                      {
                        "test": [
                          0.8388797974,
                          0.4281323665
                        ],
                        "passed_time": 7.736104921,
                        "iteration": 549,
                        "remaining_time": 6.32954039,
                        "learn": [
                          0.2996562669
                        ]
                      },
                      {
                        "test": [
                          0.8388736221,
                          0.4281354384
                        ],
                        "passed_time": 7.750207094,
                        "iteration": 550,
                        "remaining_time": 6.31550451,
                        "learn": [
                          0.2994370473
                        ]
                      },
                      {
                        "test": [
                          0.8387501158,
                          0.428222152
                        ],
                        "passed_time": 7.765401371,
                        "iteration": 551,
                        "remaining_time": 6.302354735,
                        "learn": [
                          0.299273416
                        ]
                      },
                      {
                        "test": [
                          0.838760408,
                          0.4282663889
                        ],
                        "passed_time": 7.778832021,
                        "iteration": 552,
                        "remaining_time": 6.287771996,
                        "learn": [
                          0.2991048233
                        ]
                      },
                      {
                        "test": [
                          0.83857309,
                          0.4284113505
                        ],
                        "passed_time": 7.794469305,
                        "iteration": 553,
                        "remaining_time": 6.274969874,
                        "learn": [
                          0.2988658597
                        ]
                      },
                      {
                        "test": [
                          0.8385874991,
                          0.4284757633
                        ],
                        "passed_time": 7.809150707,
                        "iteration": 554,
                        "remaining_time": 6.261391107,
                        "learn": [
                          0.2986683732
                        ]
                      },
                      {
                        "test": [
                          0.8384022396,
                          0.4288623647
                        ],
                        "passed_time": 7.824124497,
                        "iteration": 555,
                        "remaining_time": 6.248041864,
                        "learn": [
                          0.2984635327
                        ]
                      },
                      {
                        "test": [
                          0.8383240189,
                          0.4289851862
                        ],
                        "passed_time": 7.838107842,
                        "iteration": 556,
                        "remaining_time": 6.233899056,
                        "learn": [
                          0.2980123628
                        ]
                      },
                      {
                        "test": [
                          0.8383548955,
                          0.4289217118
                        ],
                        "passed_time": 7.851014422,
                        "iteration": 557,
                        "remaining_time": 6.218903897,
                        "learn": [
                          0.2979378099
                        ]
                      },
                      {
                        "test": [
                          0.8383363695,
                          0.4288435916
                        ],
                        "passed_time": 7.864904697,
                        "iteration": 558,
                        "remaining_time": 6.204692257,
                        "learn": [
                          0.2978076239
                        ]
                      },
                      {
                        "test": [
                          0.8382910839,
                          0.4287973863
                        ],
                        "passed_time": 7.879763342,
                        "iteration": 559,
                        "remaining_time": 6.191242626,
                        "learn": [
                          0.297658977
                        ]
                      },
                      {
                        "test": [
                          0.838286967,
                          0.4288155084
                        ],
                        "passed_time": 7.894858699,
                        "iteration": 560,
                        "remaining_time": 6.177973207,
                        "learn": [
                          0.2976214463
                        ]
                      },
                      {
                        "test": [
                          0.8383116683,
                          0.4288662983
                        ],
                        "passed_time": 7.908264173,
                        "iteration": 561,
                        "remaining_time": 6.163380263,
                        "learn": [
                          0.2975341701
                        ]
                      },
                      {
                        "test": [
                          0.8381675775,
                          0.429170332
                        ],
                        "passed_time": 7.923691556,
                        "iteration": 562,
                        "remaining_time": 6.150360941,
                        "learn": [
                          0.2972833672
                        ]
                      },
                      {
                        "test": [
                          0.838169636,
                          0.4292028362
                        ],
                        "passed_time": 7.946789321,
                        "iteration": 563,
                        "remaining_time": 6.143262667,
                        "learn": [
                          0.2972405724
                        ]
                      },
                      {
                        "test": [
                          0.8382272723,
                          0.4291648162
                        ],
                        "passed_time": 7.965344513,
                        "iteration": 564,
                        "remaining_time": 6.132610377,
                        "learn": [
                          0.2971268422
                        ]
                      },
                      {
                        "test": [
                          0.8381140581,
                          0.4292683151
                        ],
                        "passed_time": 7.983294022,
                        "iteration": 565,
                        "remaining_time": 6.121465734,
                        "learn": [
                          0.2967815398
                        ]
                      },
                      {
                        "test": [
                          0.8382519735,
                          0.4290936341
                        ],
                        "passed_time": 7.997839704,
                        "iteration": 566,
                        "remaining_time": 6.107697693,
                        "learn": [
                          0.2966707281
                        ]
                      },
                      {
                        "test": [
                          0.8382807917,
                          0.4291320403
                        ],
                        "passed_time": 8.010236253,
                        "iteration": 567,
                        "remaining_time": 6.092292362,
                        "learn": [
                          0.2965459093
                        ]
                      },
                      {
                        "test": [
                          0.8381963957,
                          0.4292357335
                        ],
                        "passed_time": 8.025558048,
                        "iteration": 568,
                        "remaining_time": 6.079113389,
                        "learn": [
                          0.2964428783
                        ]
                      },
                      {
                        "test": [
                          0.8381552269,
                          0.4293041224
                        ],
                        "passed_time": 8.039028661,
                        "iteration": 569,
                        "remaining_time": 6.064530393,
                        "learn": [
                          0.2964015699
                        ]
                      },
                      {
                        "test": [
                          0.8381902204,
                          0.4293110213
                        ],
                        "passed_time": 8.052315523,
                        "iteration": 570,
                        "remaining_time": 6.049813239,
                        "learn": [
                          0.2963140735
                        ]
                      },
                      {
                        "test": [
                          0.8380934737,
                          0.4294630815
                        ],
                        "passed_time": 8.100404007,
                        "iteration": 571,
                        "remaining_time": 6.06114146,
                        "learn": [
                          0.2962558229
                        ]
                      },
                      {
                        "test": [
                          0.8380955322,
                          0.4294625772
                        ],
                        "passed_time": 8.127298712,
                        "iteration": 572,
                        "remaining_time": 6.056468674,
                        "learn": [
                          0.2962399777
                        ]
                      },
                      {
                        "test": [
                          0.8380193699,
                          0.4294452859
                        ],
                        "passed_time": 8.156779519,
                        "iteration": 573,
                        "remaining_time": 6.053637762,
                        "learn": [
                          0.2960343164
                        ]
                      },
                      {
                        "test": [
                          0.8380131946,
                          0.4294438203
                        ],
                        "passed_time": 8.17600877,
                        "iteration": 574,
                        "remaining_time": 6.043136917,
                        "learn": [
                          0.2958588163
                        ]
                      },
                      {
                        "test": [
                          0.8381428763,
                          0.4291681157
                        ],
                        "passed_time": 8.190178871,
                        "iteration": 575,
                        "remaining_time": 6.028881669,
                        "learn": [
                          0.2958079345
                        ]
                      },
                      {
                        "test": [
                          0.8381531685,
                          0.4292751617
                        ],
                        "passed_time": 8.205180487,
                        "iteration": 576,
                        "remaining_time": 6.015236302,
                        "learn": [
                          0.2956652227
                        ]
                      },
                      {
                        "test": [
                          0.83815111,
                          0.4293196509
                        ],
                        "passed_time": 8.218281507,
                        "iteration": 577,
                        "remaining_time": 6.000198609,
                        "learn": [
                          0.2955492595
                        ]
                      },
                      {
                        "test": [
                          0.8381243503,
                          0.4293537875
                        ],
                        "passed_time": 8.240748428,
                        "iteration": 578,
                        "remaining_time": 5.9919777,
                        "learn": [
                          0.2954704045
                        ]
                      },
                      {
                        "test": [
                          0.8381428763,
                          0.4294052154
                        ],
                        "passed_time": 8.255135107,
                        "iteration": 579,
                        "remaining_time": 5.977856457,
                        "learn": [
                          0.2952913217
                        ]
                      },
                      {
                        "test": [
                          0.8381243503,
                          0.4297862621
                        ],
                        "passed_time": 8.270209224,
                        "iteration": 580,
                        "remaining_time": 5.96423006,
                        "learn": [
                          0.2952220705
                        ]
                      },
                      {
                        "test": [
                          0.83808524,
                          0.429825275
                        ],
                        "passed_time": 8.285292609,
                        "iteration": 581,
                        "remaining_time": 5.950605345,
                        "learn": [
                          0.2951502619
                        ]
                      },
                      {
                        "test": [
                          0.8379699674,
                          0.429907014
                        ],
                        "passed_time": 8.298879532,
                        "iteration": 582,
                        "remaining_time": 5.935905257,
                        "learn": [
                          0.2950337882
                        ]
                      },
                      {
                        "test": [
                          0.8379329155,
                          0.4300526572
                        ],
                        "passed_time": 8.313765442,
                        "iteration": 583,
                        "remaining_time": 5.922134288,
                        "learn": [
                          0.2948477932
                        ]
                      },
                      {
                        "test": [
                          0.837813526,
                          0.4301514503
                        ],
                        "passed_time": 8.327122372,
                        "iteration": 584,
                        "remaining_time": 5.907274845,
                        "learn": [
                          0.2946336933
                        ]
                      },
                      {
                        "test": [
                          0.8378238182,
                          0.4300978546
                        ],
                        "passed_time": 8.342890595,
                        "iteration": 585,
                        "remaining_time": 5.894124072,
                        "learn": [
                          0.2945028025
                        ]
                      },
                      {
                        "test": [
                          0.8378855714,
                          0.4300012279
                        ],
                        "passed_time": 8.356836328,
                        "iteration": 586,
                        "remaining_time": 5.879682118,
                        "learn": [
                          0.2941918669
                        ]
                      },
                      {
                        "test": [
                          0.8376735521,
                          0.4302952991
                        ],
                        "passed_time": 8.369306219,
                        "iteration": 587,
                        "remaining_time": 5.864207759,
                        "learn": [
                          0.2939637106
                        ]
                      },
                      {
                        "test": [
                          0.8376344418,
                          0.4303202047
                        ],
                        "passed_time": 8.381840479,
                        "iteration": 588,
                        "remaining_time": 5.848788517,
                        "learn": [
                          0.2939469448
                        ]
                      },
                      {
                        "test": [
                          0.8375870977,
                          0.4302372848
                        ],
                        "passed_time": 8.401732291,
                        "iteration": 589,
                        "remaining_time": 5.838491931,
                        "learn": [
                          0.2938682079
                        ]
                      },
                      {
                        "test": [
                          0.8375150523,
                          0.4302820172
                        ],
                        "passed_time": 8.416504993,
                        "iteration": 590,
                        "remaining_time": 5.824620207,
                        "learn": [
                          0.2937650973
                        ]
                      },
                      {
                        "test": [
                          0.8375109355,
                          0.4303083493
                        ],
                        "passed_time": 8.430515581,
                        "iteration": 591,
                        "remaining_time": 5.810220197,
                        "learn": [
                          0.2937568184
                        ]
                      },
                      {
                        "test": [
                          0.8374183057,
                          0.4304278072
                        ],
                        "passed_time": 8.446091533,
                        "iteration": 592,
                        "remaining_time": 5.796895875,
                        "learn": [
                          0.2936766456
                        ]
                      },
                      {
                        "test": [
                          0.8373812538,
                          0.4304342745
                        ],
                        "passed_time": 8.460589923,
                        "iteration": 593,
                        "remaining_time": 5.782827456,
                        "learn": [
                          0.2936052527
                        ]
                      },
                      {
                        "test": [
                          0.8374388901,
                          0.4303901601
                        ],
                        "passed_time": 8.475437269,
                        "iteration": 594,
                        "remaining_time": 5.768995116,
                        "learn": [
                          0.2934292171
                        ]
                      },
                      {
                        "test": [
                          0.8372721565,
                          0.4304943881
                        ],
                        "passed_time": 8.490818709,
                        "iteration": 595,
                        "remaining_time": 5.755521407,
                        "learn": [
                          0.293319982
                        ]
                      },
                      {
                        "test": [
                          0.8373483188,
                          0.4305390714
                        ],
                        "passed_time": 8.505023895,
                        "iteration": 596,
                        "remaining_time": 5.741247286,
                        "learn": [
                          0.2932534298
                        ]
                      },
                      {
                        "test": [
                          0.8373256759,
                          0.4305828819
                        ],
                        "passed_time": 8.518199822,
                        "iteration": 597,
                        "remaining_time": 5.726281485,
                        "learn": [
                          0.2932045037
                        ]
                      },
                      {
                        "test": [
                          0.8373380266,
                          0.4305709067
                        ],
                        "passed_time": 8.532727177,
                        "iteration": 598,
                        "remaining_time": 5.712226374,
                        "learn": [
                          0.2930905178
                        ]
                      },
                      {
                        "test": [
                          0.8373195006,
                          0.4306405472
                        ],
                        "passed_time": 8.546766185,
                        "iteration": 599,
                        "remaining_time": 5.697844123,
                        "learn": [
                          0.2928026545
                        ]
                      },
                      {
                        "test": [
                          0.8373050915,
                          0.4306614748
                        ],
                        "passed_time": 8.561819772,
                        "iteration": 600,
                        "remaining_time": 5.684136587,
                        "learn": [
                          0.2927786114
                        ]
                      },
                      {
                        "test": [
                          0.8373339097,
                          0.4307080477
                        ],
                        "passed_time": 8.575694482,
                        "iteration": 601,
                        "remaining_time": 5.669645189,
                        "learn": [
                          0.2926743535
                        ]
                      },
                      {
                        "test": [
                          0.8372783318,
                          0.4307364286
                        ],
                        "passed_time": 8.590298113,
                        "iteration": 602,
                        "remaining_time": 5.65563574,
                        "learn": [
                          0.2926492131
                        ]
                      },
                      {
                        "test": [
                          0.8373359681,
                          0.4306741391
                        ],
                        "passed_time": 8.604919047,
                        "iteration": 603,
                        "remaining_time": 5.641635667,
                        "learn": [
                          0.292552923
                        ]
                      },
                      {
                        "test": [
                          0.8371342411,
                          0.4306104686
                        ],
                        "passed_time": 8.620417683,
                        "iteration": 604,
                        "remaining_time": 5.628206586,
                        "learn": [
                          0.2923959504
                        ]
                      },
                      {
                        "test": [
                          0.8370086763,
                          0.4307895181
                        ],
                        "passed_time": 8.634975334,
                        "iteration": 605,
                        "remaining_time": 5.61415888,
                        "learn": [
                          0.2922413982
                        ]
                      },
                      {
                        "test": [
                          0.8369839751,
                          0.4306575727
                        ],
                        "passed_time": 8.650427207,
                        "iteration": 606,
                        "remaining_time": 5.600688455,
                        "learn": [
                          0.2921579125
                        ]
                      },
                      {
                        "test": [
                          0.8369407478,
                          0.4306894838
                        ],
                        "passed_time": 8.664817796,
                        "iteration": 607,
                        "remaining_time": 5.586527263,
                        "learn": [
                          0.2918578145
                        ]
                      },
                      {
                        "test": [
                          0.8369963257,
                          0.4306421131
                        ],
                        "passed_time": 8.678631923,
                        "iteration": 608,
                        "remaining_time": 5.571995208,
                        "learn": [
                          0.2917840372
                        ]
                      },
                      {
                        "test": [
                          0.8371342411,
                          0.4305823146
                        ],
                        "passed_time": 8.693271238,
                        "iteration": 609,
                        "remaining_time": 5.557993087,
                        "learn": [
                          0.2916175
                        ]
                      },
                      {
                        "test": [
                          0.8371774683,
                          0.4306091947
                        ],
                        "passed_time": 8.707790591,
                        "iteration": 610,
                        "remaining_time": 5.543912504,
                        "learn": [
                          0.2915348292
                        ]
                      },
                      {
                        "test": [
                          0.8371177736,
                          0.4307031528
                        ],
                        "passed_time": 8.72323327,
                        "iteration": 611,
                        "remaining_time": 5.530415864,
                        "learn": [
                          0.2913788304
                        ]
                      },
                      {
                        "test": [
                          0.8371033645,
                          0.4307700325
                        ],
                        "passed_time": 8.738146048,
                        "iteration": 612,
                        "remaining_time": 5.516578337,
                        "learn": [
                          0.2911598075
                        ]
                      },
                      {
                        "test": [
                          0.8370127932,
                          0.4308606103
                        ],
                        "passed_time": 8.753721092,
                        "iteration": 613,
                        "remaining_time": 5.503153651,
                        "learn": [
                          0.2909436979
                        ]
                      },
                      {
                        "test": [
                          0.8370580789,
                          0.4308335354
                        ],
                        "passed_time": 8.768283125,
                        "iteration": 614,
                        "remaining_time": 5.48908781,
                        "learn": [
                          0.2908316614
                        ]
                      },
                      {
                        "test": [
                          0.8369983841,
                          0.4309846415
                        ],
                        "passed_time": 8.783604172,
                        "iteration": 615,
                        "remaining_time": 5.47549351,
                        "learn": [
                          0.2906643138
                        ]
                      },
                      {
                        "test": [
                          0.8370272023,
                          0.4310408706
                        ],
                        "passed_time": 8.800416671,
                        "iteration": 616,
                        "remaining_time": 5.462819425,
                        "learn": [
                          0.2905318859
                        ]
                      },
                      {
                        "test": [
                          0.837002501,
                          0.4310405635
                        ],
                        "passed_time": 8.813484063,
                        "iteration": 617,
                        "remaining_time": 5.44781701,
                        "learn": [
                          0.2904502541
                        ]
                      },
                      {
                        "test": [
                          0.8369716244,
                          0.431030666
                        ],
                        "passed_time": 8.828222567,
                        "iteration": 618,
                        "remaining_time": 5.433849431,
                        "learn": [
                          0.2904066392
                        ]
                      },
                      {
                        "test": [
                          0.8369551569,
                          0.4310341666
                        ],
                        "passed_time": 8.842678739,
                        "iteration": 619,
                        "remaining_time": 5.419706324,
                        "learn": [
                          0.2902727963
                        ]
                      },
                      {
                        "test": [
                          0.8369839751,
                          0.4310253411
                        ],
                        "passed_time": 8.856960253,
                        "iteration": 620,
                        "remaining_time": 5.405455614,
                        "learn": [
                          0.2900708366
                        ]
                      },
                      {
                        "test": [
                          0.8369592738,
                          0.4311629585
                        ],
                        "passed_time": 8.871884354,
                        "iteration": 621,
                        "remaining_time": 5.391595315,
                        "learn": [
                          0.2896937495
                        ]
                      },
                      {
                        "test": [
                          0.8368913453,
                          0.4312588643
                        ],
                        "passed_time": 8.886058588,
                        "iteration": 622,
                        "remaining_time": 5.377277829,
                        "learn": [
                          0.289452412
                        ]
                      },
                      {
                        "test": [
                          0.8369098712,
                          0.4312171671
                        ],
                        "passed_time": 8.901367574,
                        "iteration": 623,
                        "remaining_time": 5.363644564,
                        "learn": [
                          0.2892521471
                        ]
                      },
                      {
                        "test": [
                          0.8369119297,
                          0.4312979841
                        ],
                        "passed_time": 8.91661571,
                        "iteration": 624,
                        "remaining_time": 5.349969426,
                        "learn": [
                          0.2890493749
                        ]
                      },
                      {
                        "test": [
                          0.8369222219,
                          0.4313475154
                        ],
                        "passed_time": 8.93116414,
                        "iteration": 625,
                        "remaining_time": 5.335871228,
                        "learn": [
                          0.2888622176
                        ]
                      },
                      {
                        "test": [
                          0.8368090077,
                          0.4315133328
                        ],
                        "passed_time": 8.945156336,
                        "iteration": 626,
                        "remaining_time": 5.321440691,
                        "learn": [
                          0.2886872929
                        ]
                      },
                      {
                        "test": [
                          0.8367657805,
                          0.4316398416
                        ],
                        "passed_time": 8.959408142,
                        "iteration": 627,
                        "remaining_time": 5.307165332,
                        "learn": [
                          0.2885862504
                        ]
                      },
                      {
                        "test": [
                          0.8369860335,
                          0.4315038369
                        ],
                        "passed_time": 8.974451908,
                        "iteration": 628,
                        "remaining_time": 5.293357167,
                        "learn": [
                          0.2884507719
                        ]
                      },
                      {
                        "test": [
                          0.8369777997,
                          0.4314210971
                        ],
                        "passed_time": 8.989868441,
                        "iteration": 629,
                        "remaining_time": 5.279764005,
                        "learn": [
                          0.2880935354
                        ]
                      },
                      {
                        "test": [
                          0.8369613322,
                          0.4313947485
                        ],
                        "passed_time": 9.004892626,
                        "iteration": 630,
                        "remaining_time": 5.265935624,
                        "learn": [
                          0.2879764215
                        ]
                      },
                      {
                        "test": [
                          0.8370004426,
                          0.4313576723
                        ],
                        "passed_time": 9.018590466,
                        "iteration": 631,
                        "remaining_time": 5.251331157,
                        "learn": [
                          0.2878146432
                        ]
                      },
                      {
                        "test": [
                          0.8369963257,
                          0.4314772405
                        ],
                        "passed_time": 9.032969791,
                        "iteration": 632,
                        "remaining_time": 5.237124665,
                        "learn": [
                          0.2876363719
                        ]
                      },
                      {
                        "test": [
                          0.8370107348,
                          0.4314877284
                        ],
                        "passed_time": 9.045893168,
                        "iteration": 633,
                        "remaining_time": 5.222077128,
                        "learn": [
                          0.287447305
                        ]
                      },
                      {
                        "test": [
                          0.8371836436,
                          0.4313000522
                        ],
                        "passed_time": 9.061035381,
                        "iteration": 634,
                        "remaining_time": 5.208311676,
                        "learn": [
                          0.2871752347
                        ]
                      },
                      {
                        "test": [
                          0.8371548255,
                          0.4313854367
                        ],
                        "passed_time": 9.075822836,
                        "iteration": 635,
                        "remaining_time": 5.194338856,
                        "learn": [
                          0.2870023514
                        ]
                      },
                      {
                        "test": [
                          0.837119832,
                          0.4314265106
                        ],
                        "passed_time": 9.091353699,
                        "iteration": 636,
                        "remaining_time": 5.180787116,
                        "learn": [
                          0.286932194
                        ]
                      },
                      {
                        "test": [
                          0.8370786632,
                          0.4314634418
                        ],
                        "passed_time": 9.145767565,
                        "iteration": 637,
                        "remaining_time": 5.189291314,
                        "learn": [
                          0.2869043225
                        ]
                      },
                      {
                        "test": [
                          0.8370683711,
                          0.4314580975
                        ],
                        "passed_time": 9.177134462,
                        "iteration": 638,
                        "remaining_time": 5.184578311,
                        "learn": [
                          0.2868736487
                        ]
                      },
                      {
                        "test": [
                          0.8371630593,
                          0.4313719742
                        ],
                        "passed_time": 9.204412715,
                        "iteration": 639,
                        "remaining_time": 5.177482152,
                        "learn": [
                          0.2867616056
                        ]
                      },
                      {
                        "test": [
                          0.8372021696,
                          0.4313046747
                        ],
                        "passed_time": 9.221855278,
                        "iteration": 640,
                        "remaining_time": 5.164814422,
                        "learn": [
                          0.286573814
                        ]
                      },
                      {
                        "test": [
                          0.8372145202,
                          0.4312033979
                        ],
                        "passed_time": 9.243129685,
                        "iteration": 641,
                        "remaining_time": 5.154268578,
                        "learn": [
                          0.2861045476
                        ]
                      },
                      {
                        "test": [
                          0.837288624,
                          0.4311676997
                        ],
                        "passed_time": 9.257136242,
                        "iteration": 642,
                        "remaining_time": 5.139654181,
                        "learn": [
                          0.2858447974
                        ]
                      },
                      {
                        "test": [
                          0.8373791954,
                          0.4310816707
                        ],
                        "passed_time": 9.270996157,
                        "iteration": 643,
                        "remaining_time": 5.124960609,
                        "learn": [
                          0.2857886707
                        ]
                      },
                      {
                        "test": [
                          0.837358611,
                          0.4310719763
                        ],
                        "passed_time": 9.286815846,
                        "iteration": 644,
                        "remaining_time": 5.111348257,
                        "learn": [
                          0.2855509171
                        ]
                      },
                      {
                        "test": [
                          0.8372145202,
                          0.4312676005
                        ],
                        "passed_time": 9.299850419,
                        "iteration": 645,
                        "remaining_time": 5.096202861,
                        "learn": [
                          0.2852278234
                        ]
                      },
                      {
                        "test": [
                          0.8372186371,
                          0.4312898666
                        ],
                        "passed_time": 9.315271446,
                        "iteration": 646,
                        "remaining_time": 5.082366028,
                        "learn": [
                          0.2851729544
                        ]
                      },
                      {
                        "test": [
                          0.8371115983,
                          0.4315674406
                        ],
                        "passed_time": 9.329325391,
                        "iteration": 647,
                        "remaining_time": 5.067781694,
                        "learn": [
                          0.285085743
                        ]
                      },
                      {
                        "test": [
                          0.8371671761,
                          0.431525731
                        ],
                        "passed_time": 9.343847797,
                        "iteration": 648,
                        "remaining_time": 5.053452352,
                        "learn": [
                          0.2847154106
                        ]
                      },
                      {
                        "test": [
                          0.8371013061,
                          0.4316815081
                        ],
                        "passed_time": 9.357798576,
                        "iteration": 649,
                        "remaining_time": 5.038814618,
                        "learn": [
                          0.284526639
                        ]
                      },
                      {
                        "test": [
                          0.8371013061,
                          0.4316820734
                        ],
                        "passed_time": 9.372586149,
                        "iteration": 650,
                        "remaining_time": 5.024627598,
                        "learn": [
                          0.2845005474
                        ]
                      },
                      {
                        "test": [
                          0.8371507086,
                          0.4316893025
                        ],
                        "passed_time": 9.387817938,
                        "iteration": 651,
                        "remaining_time": 5.010675832,
                        "learn": [
                          0.2844672649
                        ]
                      },
                      {
                        "test": [
                          0.8371939358,
                          0.4316501684
                        ],
                        "passed_time": 9.401594394,
                        "iteration": 652,
                        "remaining_time": 4.995946791,
                        "learn": [
                          0.2843427418
                        ]
                      },
                      {
                        "test": [
                          0.8372309877,
                          0.4316396979
                        ],
                        "passed_time": 9.415930908,
                        "iteration": 653,
                        "remaining_time": 4.981516964,
                        "learn": [
                          0.2842085079
                        ]
                      },
                      {
                        "test": [
                          0.8372104034,
                          0.4315737562
                        ],
                        "passed_time": 9.431281051,
                        "iteration": 654,
                        "remaining_time": 4.967621317,
                        "learn": [
                          0.2838864875
                        ]
                      },
                      {
                        "test": [
                          0.837288624,
                          0.4315164196
                        ],
                        "passed_time": 9.446581997,
                        "iteration": 655,
                        "remaining_time": 4.953695437,
                        "learn": [
                          0.2837078766
                        ]
                      },
                      {
                        "test": [
                          0.8371548255,
                          0.4315997397
                        ],
                        "passed_time": 9.461975773,
                        "iteration": 656,
                        "remaining_time": 4.939813836,
                        "learn": [
                          0.2836504645
                        ]
                      },
                      {
                        "test": [
                          0.8371218905,
                          0.4316809828
                        ],
                        "passed_time": 9.475900177,
                        "iteration": 657,
                        "remaining_time": 4.925163922,
                        "learn": [
                          0.2835542602
                        ]
                      },
                      {
                        "test": [
                          0.8368419428,
                          0.4316754863
                        ],
                        "passed_time": 9.490659215,
                        "iteration": 658,
                        "remaining_time": 4.910948092,
                        "learn": [
                          0.2832872445
                        ]
                      },
                      {
                        "test": [
                          0.8368090077,
                          0.4317072091
                        ],
                        "passed_time": 9.504538551,
                        "iteration": 659,
                        "remaining_time": 4.896277435,
                        "learn": [
                          0.2832127141
                        ]
                      },
                      {
                        "test": [
                          0.8368069493,
                          0.431705744
                        ],
                        "passed_time": 9.519332597,
                        "iteration": 660,
                        "remaining_time": 4.882078291,
                        "learn": [
                          0.2831780117
                        ]
                      },
                      {
                        "test": [
                          0.8367863649,
                          0.4317652311
                        ],
                        "passed_time": 9.533760811,
                        "iteration": 661,
                        "remaining_time": 4.867690565,
                        "learn": [
                          0.2830489776
                        ]
                      },
                      {
                        "test": [
                          0.8368604687,
                          0.4316940752
                        ],
                        "passed_time": 9.548385299,
                        "iteration": 662,
                        "remaining_time": 4.853402482,
                        "learn": [
                          0.2829495249
                        ]
                      },
                      {
                        "test": [
                          0.8366999105,
                          0.4319734621
                        ],
                        "passed_time": 9.562549888,
                        "iteration": 663,
                        "remaining_time": 4.838880666,
                        "learn": [
                          0.2828710114
                        ]
                      },
                      {
                        "test": [
                          0.8366834429,
                          0.4319744168
                        ],
                        "passed_time": 9.577868447,
                        "iteration": 664,
                        "remaining_time": 4.824941248,
                        "learn": [
                          0.2828176042
                        ]
                      },
                      {
                        "test": [
                          0.8366340404,
                          0.4321141436
                        ],
                        "passed_time": 9.592732593,
                        "iteration": 665,
                        "remaining_time": 4.810769799,
                        "learn": [
                          0.2827161711
                        ]
                      },
                      {
                        "test": [
                          0.8364837744,
                          0.4322797847
                        ],
                        "passed_time": 9.607051527,
                        "iteration": 666,
                        "remaining_time": 4.796324076,
                        "learn": [
                          0.2825470538
                        ]
                      },
                      {
                        "test": [
                          0.8365640535,
                          0.4322584494
                        ],
                        "passed_time": 9.622092978,
                        "iteration": 667,
                        "remaining_time": 4.782237828,
                        "learn": [
                          0.2824303278
                        ]
                      },
                      {
                        "test": [
                          0.8365743457,
                          0.4322558236
                        ],
                        "passed_time": 9.635053142,
                        "iteration": 668,
                        "remaining_time": 4.767118968,
                        "learn": [
                          0.2824243738
                        ]
                      },
                      {
                        "test": [
                          0.8360659112,
                          0.4327918902
                        ],
                        "passed_time": 9.64998067,
                        "iteration": 669,
                        "remaining_time": 4.752975554,
                        "learn": [
                          0.2821989936
                        ]
                      },
                      {
                        "test": [
                          0.8359876905,
                          0.432847429
                        ],
                        "passed_time": 9.665177878,
                        "iteration": 670,
                        "remaining_time": 4.738962029,
                        "learn": [
                          0.2820679136
                        ]
                      },
                      {
                        "test": [
                          0.8359568139,
                          0.4328756085
                        ],
                        "passed_time": 9.680040028,
                        "iteration": 671,
                        "remaining_time": 4.724781442,
                        "learn": [
                          0.2820438123
                        ]
                      },
                      {
                        "test": [
                          0.8359938659,
                          0.4328564611
                        ],
                        "passed_time": 9.694750568,
                        "iteration": 672,
                        "remaining_time": 4.710525164,
                        "learn": [
                          0.2820247971
                        ]
                      },
                      {
                        "test": [
                          0.8359691646,
                          0.4329087666
                        ],
                        "passed_time": 9.709107324,
                        "iteration": 673,
                        "remaining_time": 4.696096421,
                        "learn": [
                          0.2818809221
                        ]
                      },
                      {
                        "test": [
                          0.8359876905,
                          0.4329687308
                        ],
                        "passed_time": 9.722649329,
                        "iteration": 674,
                        "remaining_time": 4.681275603,
                        "learn": [
                          0.2818137007
                        ]
                      },
                      {
                        "test": [
                          0.8360432684,
                          0.4329984277
                        ],
                        "passed_time": 9.736704248,
                        "iteration": 675,
                        "remaining_time": 4.666704403,
                        "learn": [
                          0.2817635788
                        ]
                      },
                      {
                        "test": [
                          0.83604121,
                          0.4329988344
                        ],
                        "passed_time": 9.751588201,
                        "iteration": 676,
                        "remaining_time": 4.652530264,
                        "learn": [
                          0.2817383127
                        ]
                      },
                      {
                        "test": [
                          0.8360391515,
                          0.4329958751
                        ],
                        "passed_time": 9.764551604,
                        "iteration": 677,
                        "remaining_time": 4.637441912,
                        "learn": [
                          0.2817263377
                        ]
                      },
                      {
                        "test": [
                          0.8359279958,
                          0.4330843773
                        ],
                        "passed_time": 9.780438293,
                        "iteration": 678,
                        "remaining_time": 4.623741814,
                        "learn": [
                          0.281529189
                        ]
                      },
                      {
                        "test": [
                          0.8359012361,
                          0.4330564014
                        ],
                        "passed_time": 9.79614037,
                        "iteration": 679,
                        "remaining_time": 4.609948409,
                        "learn": [
                          0.2813482371
                        ]
                      },
                      {
                        "test": [
                          0.8359074114,
                          0.4330535996
                        ],
                        "passed_time": 9.811857811,
                        "iteration": 680,
                        "remaining_time": 4.596156596,
                        "learn": [
                          0.2812230269
                        ]
                      },
                      {
                        "test": [
                          0.8358806517,
                          0.4330563518
                        ],
                        "passed_time": 9.824488446,
                        "iteration": 681,
                        "remaining_time": 4.580919833,
                        "learn": [
                          0.2812092105
                        ]
                      },
                      {
                        "test": [
                          0.8358271323,
                          0.4331034803
                        ],
                        "passed_time": 9.837842084,
                        "iteration": 682,
                        "remaining_time": 4.566026268,
                        "learn": [
                          0.2810587989
                        ]
                      },
                      {
                        "test": [
                          0.8357303856,
                          0.4331989624
                        ],
                        "passed_time": 9.852839848,
                        "iteration": 683,
                        "remaining_time": 4.551896772,
                        "learn": [
                          0.2809357102
                        ]
                      },
                      {
                        "test": [
                          0.8357983141,
                          0.4331644799
                        ],
                        "passed_time": 9.867804735,
                        "iteration": 684,
                        "remaining_time": 4.537749623,
                        "learn": [
                          0.280727515
                        ]
                      },
                      {
                        "test": [
                          0.8358518336,
                          0.4331947022
                        ],
                        "passed_time": 9.882700527,
                        "iteration": 685,
                        "remaining_time": 4.523568463,
                        "learn": [
                          0.2805093075
                        ]
                      },
                      {
                        "test": [
                          0.8358312492,
                          0.4332264194
                        ],
                        "passed_time": 9.897649418,
                        "iteration": 686,
                        "remaining_time": 4.509409415,
                        "learn": [
                          0.2803013235
                        ]
                      },
                      {
                        "test": [
                          0.835820957,
                          0.4332192379
                        ],
                        "passed_time": 9.912529507,
                        "iteration": 687,
                        "remaining_time": 4.49521687,
                        "learn": [
                          0.280200839
                        ]
                      },
                      {
                        "test": [
                          0.8357386194,
                          0.4333720885
                        ],
                        "passed_time": 9.926575164,
                        "iteration": 688,
                        "remaining_time": 4.480645684,
                        "learn": [
                          0.2799736942
                        ]
                      },
                      {
                        "test": [
                          0.8357077428,
                          0.433435814
                        ],
                        "passed_time": 9.941207072,
                        "iteration": 689,
                        "remaining_time": 4.466339409,
                        "learn": [
                          0.2798551879
                        ]
                      },
                      {
                        "test": [
                          0.8357633207,
                          0.4333953484
                        ],
                        "passed_time": 9.955530743,
                        "iteration": 690,
                        "remaining_time": 4.451894355,
                        "learn": [
                          0.2797029188
                        ]
                      },
                      {
                        "test": [
                          0.8357489116,
                          0.4334156652
                        ],
                        "passed_time": 9.967996469,
                        "iteration": 691,
                        "remaining_time": 4.436622706,
                        "learn": [
                          0.2796882075
                        ]
                      },
                      {
                        "test": [
                          0.8354988113,
                          0.4334333507
                        ],
                        "passed_time": 9.984652998,
                        "iteration": 692,
                        "remaining_time": 4.423215686,
                        "learn": [
                          0.2795425089
                        ]
                      },
                      {
                        "test": [
                          0.8354576425,
                          0.4334073698
                        ],
                        "passed_time": 9.998943277,
                        "iteration": 693,
                        "remaining_time": 4.40875597,
                        "learn": [
                          0.2791583857
                        ]
                      },
                      {
                        "test": [
                          0.8354802853,
                          0.4333971628
                        ],
                        "passed_time": 10.01288167,
                        "iteration": 694,
                        "remaining_time": 4.394142317,
                        "learn": [
                          0.279029036
                        ]
                      },
                      {
                        "test": [
                          0.8355173372,
                          0.4333948959
                        ],
                        "passed_time": 10.02640465,
                        "iteration": 695,
                        "remaining_time": 4.379349155,
                        "learn": [
                          0.2789214215
                        ]
                      },
                      {
                        "test": [
                          0.8355214541,
                          0.4333180764
                        ],
                        "passed_time": 10.04125693,
                        "iteration": 696,
                        "remaining_time": 4.365137519,
                        "learn": [
                          0.2787618924
                        ]
                      },
                      {
                        "test": [
                          0.8356490773,
                          0.4330294381
                        ],
                        "passed_time": 10.05650355,
                        "iteration": 697,
                        "remaining_time": 4.351094658,
                        "learn": [
                          0.2786854139
                        ]
                      },
                      {
                        "test": [
                          0.8355852657,
                          0.4331203403
                        ],
                        "passed_time": 10.07025503,
                        "iteration": 698,
                        "remaining_time": 4.336404527,
                        "learn": [
                          0.2785688915
                        ]
                      },
                      {
                        "test": [
                          0.8356593695,
                          0.4330929625
                        ],
                        "passed_time": 10.08435147,
                        "iteration": 699,
                        "remaining_time": 4.321864914,
                        "learn": [
                          0.2783841916
                        ]
                      },
                      {
                        "test": [
                          0.8356861292,
                          0.4331212464
                        ],
                        "passed_time": 10.0993605,
                        "iteration": 700,
                        "remaining_time": 4.307715819,
                        "learn": [
                          0.2782550253
                        ]
                      },
                      {
                        "test": [
                          0.8357067136,
                          0.4330746254
                        ],
                        "passed_time": 10.11444805,
                        "iteration": 701,
                        "remaining_time": 4.293597604,
                        "learn": [
                          0.2782153668
                        ]
                      },
                      {
                        "test": [
                          0.835642902,
                          0.4331703979
                        ],
                        "passed_time": 10.12821128,
                        "iteration": 702,
                        "remaining_time": 4.278917142,
                        "learn": [
                          0.2781210701
                        ]
                      },
                      {
                        "test": [
                          0.8357725836,
                          0.433119213
                        ],
                        "passed_time": 10.18436485,
                        "iteration": 703,
                        "remaining_time": 4.282062492,
                        "learn": [
                          0.2779674415
                        ]
                      },
                      {
                        "test": [
                          0.8356470189,
                          0.4334781664
                        ],
                        "passed_time": 10.22396648,
                        "iteration": 704,
                        "remaining_time": 4.278113633,
                        "learn": [
                          0.2778013851
                        ]
                      },
                      {
                        "test": [
                          0.8355667397,
                          0.4335629231
                        ],
                        "passed_time": 10.26003406,
                        "iteration": 705,
                        "remaining_time": 4.272592089,
                        "learn": [
                          0.2777767464
                        ]
                      },
                      {
                        "test": [
                          0.8354823437,
                          0.4335695365
                        ],
                        "passed_time": 10.27505655,
                        "iteration": 706,
                        "remaining_time": 4.258262474,
                        "learn": [
                          0.2776643387
                        ]
                      },
                      {
                        "test": [
                          0.835441175,
                          0.4336421743
                        ],
                        "passed_time": 10.29062055,
                        "iteration": 707,
                        "remaining_time": 4.244154238,
                        "learn": [
                          0.2775177908
                        ]
                      },
                      {
                        "test": [
                          0.835422649,
                          0.4336918998
                        ],
                        "passed_time": 10.30538346,
                        "iteration": 708,
                        "remaining_time": 4.229713098,
                        "learn": [
                          0.2774683653
                        ]
                      },
                      {
                        "test": [
                          0.8354247074,
                          0.4337170344
                        ],
                        "passed_time": 10.3198184,
                        "iteration": 709,
                        "remaining_time": 4.215137093,
                        "learn": [
                          0.2773701516
                        ]
                      },
                      {
                        "test": [
                          0.8354288243,
                          0.4337261207
                        ],
                        "passed_time": 10.33486315,
                        "iteration": 710,
                        "remaining_time": 4.200809355,
                        "learn": [
                          0.2773365564
                        ]
                      },
                      {
                        "test": [
                          0.8353032595,
                          0.4337768104
                        ],
                        "passed_time": 10.34968267,
                        "iteration": 711,
                        "remaining_time": 4.186388497,
                        "learn": [
                          0.2772473618
                        ]
                      },
                      {
                        "test": [
                          0.8353794218,
                          0.4336535176
                        ],
                        "passed_time": 10.36400573,
                        "iteration": 712,
                        "remaining_time": 4.171766681,
                        "learn": [
                          0.277062787
                        ]
                      },
                      {
                        "test": [
                          0.8352764998,
                          0.4337806329
                        ],
                        "passed_time": 10.38009394,
                        "iteration": 713,
                        "remaining_time": 4.157852755,
                        "learn": [
                          0.2767751143
                        ]
                      },
                      {
                        "test": [
                          0.835253857,
                          0.4337307121
                        ],
                        "passed_time": 10.39510963,
                        "iteration": 714,
                        "remaining_time": 4.143505238,
                        "learn": [
                          0.2766393985
                        ]
                      },
                      {
                        "test": [
                          0.8352662076,
                          0.4337124576
                        ],
                        "passed_time": 10.40915475,
                        "iteration": 715,
                        "remaining_time": 4.128770879,
                        "learn": [
                          0.276619239
                        ]
                      },
                      {
                        "test": [
                          0.8348442276,
                          0.4339607181
                        ],
                        "passed_time": 10.42490648,
                        "iteration": 716,
                        "remaining_time": 4.11471204,
                        "learn": [
                          0.2763809186
                        ]
                      },
                      {
                        "test": [
                          0.8348462861,
                          0.4340481139
                        ],
                        "passed_time": 10.43922933,
                        "iteration": 717,
                        "remaining_time": 4.100087284,
                        "learn": [
                          0.2763608017
                        ]
                      },
                      {
                        "test": [
                          0.8347618901,
                          0.4339024736
                        ],
                        "passed_time": 10.45444517,
                        "iteration": 718,
                        "remaining_time": 4.085812369,
                        "learn": [
                          0.276227027
                        ]
                      },
                      {
                        "test": [
                          0.834864812,
                          0.4338267206
                        ],
                        "passed_time": 10.46935664,
                        "iteration": 719,
                        "remaining_time": 4.07141647,
                        "learn": [
                          0.2761063909
                        ]
                      },
                      {
                        "test": [
                          0.8350171365,
                          0.433709673
                        ],
                        "passed_time": 10.4826345,
                        "iteration": 720,
                        "remaining_time": 4.056386997,
                        "learn": [
                          0.2759503526
                        ]
                      },
                      {
                        "test": [
                          0.8349862599,
                          0.4338124357
                        ],
                        "passed_time": 10.49738667,
                        "iteration": 721,
                        "remaining_time": 4.041930048,
                        "learn": [
                          0.2756774876
                        ]
                      },
                      {
                        "test": [
                          0.8349533249,
                          0.4338937016
                        ],
                        "passed_time": 10.51090676,
                        "iteration": 722,
                        "remaining_time": 4.02700024,
                        "learn": [
                          0.2756069292
                        ]
                      },
                      {
                        "test": [
                          0.8349574418,
                          0.4338938953
                        ],
                        "passed_time": 10.52833129,
                        "iteration": 723,
                        "remaining_time": 4.013562757,
                        "learn": [
                          0.2756029467
                        ]
                      },
                      {
                        "test": [
                          0.8348071757,
                          0.4340115514
                        ],
                        "passed_time": 10.54300346,
                        "iteration": 724,
                        "remaining_time": 3.999070278,
                        "learn": [
                          0.2755121034
                        ]
                      },
                      {
                        "test": [
                          0.8344654748,
                          0.4340608376
                        ],
                        "passed_time": 10.55830307,
                        "iteration": 725,
                        "remaining_time": 3.984814108,
                        "learn": [
                          0.2754685331
                        ]
                      },
                      {
                        "test": [
                          0.8342493387,
                          0.4342844283
                        ],
                        "passed_time": 10.57214489,
                        "iteration": 726,
                        "remaining_time": 3.970007639,
                        "learn": [
                          0.2752907579
                        ]
                      },
                      {
                        "test": [
                          0.834189644,
                          0.434371421
                        ],
                        "passed_time": 10.5858943,
                        "iteration": 727,
                        "remaining_time": 3.955169299,
                        "learn": [
                          0.2751614723
                        ]
                      },
                      {
                        "test": [
                          0.834105248,
                          0.4345473324
                        ],
                        "passed_time": 10.60145127,
                        "iteration": 728,
                        "remaining_time": 3.94100589,
                        "learn": [
                          0.2750861553
                        ]
                      },
                      {
                        "test": [
                          0.834156709,
                          0.4345857778
                        ],
                        "passed_time": 10.61475507,
                        "iteration": 729,
                        "remaining_time": 3.926005299,
                        "learn": [
                          0.2747801627
                        ]
                      },
                      {
                        "test": [
                          0.8342699231,
                          0.434511188
                        ],
                        "passed_time": 10.62847196,
                        "iteration": 730,
                        "remaining_time": 3.911161365,
                        "learn": [
                          0.2743746781
                        ]
                      },
                      {
                        "test": [
                          0.8342637478,
                          0.4345260518
                        ],
                        "passed_time": 10.64313871,
                        "iteration": 731,
                        "remaining_time": 3.896668271,
                        "learn": [
                          0.2742505724
                        ]
                      },
                      {
                        "test": [
                          0.8340887805,
                          0.4348643019
                        ],
                        "passed_time": 10.65787329,
                        "iteration": 732,
                        "remaining_time": 3.882199412,
                        "learn": [
                          0.2739659037
                        ]
                      },
                      {
                        "test": [
                          0.8340681961,
                          0.4348451059
                        ],
                        "passed_time": 10.67097436,
                        "iteration": 733,
                        "remaining_time": 3.867137848,
                        "learn": [
                          0.2738461147
                        ]
                      },
                      {
                        "test": [
                          0.8339673326,
                          0.4349383922
                        ],
                        "passed_time": 10.68568333,
                        "iteration": 734,
                        "remaining_time": 3.852661336,
                        "learn": [
                          0.2737197342
                        ]
                      },
                      {
                        "test": [
                          0.8339446897,
                          0.4350231011
                        ],
                        "passed_time": 10.70040575,
                        "iteration": 735,
                        "remaining_time": 3.838189017,
                        "learn": [
                          0.2735492404
                        ]
                      },
                      {
                        "test": [
                          0.8339446897,
                          0.4350138566
                        ],
                        "passed_time": 10.7146556,
                        "iteration": 736,
                        "remaining_time": 3.823547385,
                        "learn": [
                          0.2735367124
                        ]
                      },
                      {
                        "test": [
                          0.833969391,
                          0.4349766949
                        ],
                        "passed_time": 10.72953285,
                        "iteration": 737,
                        "remaining_time": 3.809129548,
                        "learn": [
                          0.2733982807
                        ]
                      },
                      {
                        "test": [
                          0.8339940923,
                          0.4349720961
                        ],
                        "passed_time": 10.74339364,
                        "iteration": 738,
                        "remaining_time": 3.794351474,
                        "learn": [
                          0.2733416471
                        ]
                      },
                      {
                        "test": [
                          0.8339776248,
                          0.4349926553
                        ],
                        "passed_time": 10.75744235,
                        "iteration": 739,
                        "remaining_time": 3.779641908,
                        "learn": [
                          0.2732836697
                        ]
                      },
                      {
                        "test": [
                          0.8340311442,
                          0.4348814886
                        ],
                        "passed_time": 10.77007697,
                        "iteration": 740,
                        "remaining_time": 3.76443986,
                        "learn": [
                          0.2731835896
                        ]
                      },
                      {
                        "test": [
                          0.834171118,
                          0.4346826726
                        ],
                        "passed_time": 10.78542562,
                        "iteration": 741,
                        "remaining_time": 3.750188422,
                        "learn": [
                          0.2728871071
                        ]
                      },
                      {
                        "test": [
                          0.8341196571,
                          0.4347663143
                        ],
                        "passed_time": 10.79925261,
                        "iteration": 742,
                        "remaining_time": 3.735407699,
                        "learn": [
                          0.2726160555
                        ]
                      },
                      {
                        "test": [
                          0.8341278908,
                          0.4348405094
                        ],
                        "passed_time": 10.81425361,
                        "iteration": 743,
                        "remaining_time": 3.721033502,
                        "learn": [
                          0.2725912817
                        ]
                      },
                      {
                        "test": [
                          0.8341320077,
                          0.4348306011
                        ],
                        "passed_time": 10.82904744,
                        "iteration": 744,
                        "remaining_time": 3.706586709,
                        "learn": [
                          0.2725247084
                        ]
                      },
                      {
                        "test": [
                          0.8341340661,
                          0.4349016947
                        ],
                        "passed_time": 10.8433333,
                        "iteration": 745,
                        "remaining_time": 3.691966029,
                        "learn": [
                          0.2724418633
                        ]
                      },
                      {
                        "test": [
                          0.8340949558,
                          0.4350277847
                        ],
                        "passed_time": 10.85722859,
                        "iteration": 746,
                        "remaining_time": 3.677213967,
                        "learn": [
                          0.2721460489
                        ]
                      },
                      {
                        "test": [
                          0.8340784883,
                          0.4350426607
                        ],
                        "passed_time": 10.87172597,
                        "iteration": 747,
                        "remaining_time": 3.662667039,
                        "learn": [
                          0.2720656448
                        ]
                      },
                      {
                        "test": [
                          0.8340928974,
                          0.4349730903
                        ],
                        "passed_time": 10.88766492,
                        "iteration": 748,
                        "remaining_time": 3.648603332,
                        "learn": [
                          0.271981175
                        ]
                      },
                      {
                        "test": [
                          0.8341649427,
                          0.4349178035
                        ],
                        "passed_time": 10.9007983,
                        "iteration": 749,
                        "remaining_time": 3.633599434,
                        "learn": [
                          0.2719337877
                        ]
                      },
                      {
                        "test": [
                          0.8340805467,
                          0.4350428934
                        ],
                        "passed_time": 10.91545951,
                        "iteration": 750,
                        "remaining_time": 3.619107081,
                        "learn": [
                          0.2718092144
                        ]
                      },
                      {
                        "test": [
                          0.8340270273,
                          0.4351177619
                        ],
                        "passed_time": 10.92986282,
                        "iteration": 751,
                        "remaining_time": 3.604529229,
                        "learn": [
                          0.2716995565
                        ]
                      },
                      {
                        "test": [
                          0.8340826052,
                          0.4350698865
                        ],
                        "passed_time": 10.94490116,
                        "iteration": 752,
                        "remaining_time": 3.59016014,
                        "learn": [
                          0.2715550128
                        ]
                      },
                      {
                        "test": [
                          0.834053787,
                          0.4351068295
                        ],
                        "passed_time": 10.95915769,
                        "iteration": 753,
                        "remaining_time": 3.575534207,
                        "learn": [
                          0.2714533299
                        ]
                      },
                      {
                        "test": [
                          0.8340270273,
                          0.4351573497
                        ],
                        "passed_time": 10.9733813,
                        "iteration": 754,
                        "remaining_time": 3.560898568,
                        "learn": [
                          0.2713589793
                        ]
                      },
                      {
                        "test": [
                          0.8340681961,
                          0.4351509839
                        ],
                        "passed_time": 10.98697209,
                        "iteration": 755,
                        "remaining_time": 3.546059776,
                        "learn": [
                          0.2712977265
                        ]
                      },
                      {
                        "test": [
                          0.8341114233,
                          0.4351619842
                        ],
                        "passed_time": 11.00109007,
                        "iteration": 756,
                        "remaining_time": 3.53139351,
                        "learn": [
                          0.2711967091
                        ]
                      },
                      {
                        "test": [
                          0.8341340661,
                          0.4351670548
                        ],
                        "passed_time": 11.0141245,
                        "iteration": 757,
                        "remaining_time": 3.516382756,
                        "learn": [
                          0.2711524065
                        ]
                      },
                      {
                        "test": [
                          0.8341134817,
                          0.435120922
                        ],
                        "passed_time": 11.02828276,
                        "iteration": 758,
                        "remaining_time": 3.501734052,
                        "learn": [
                          0.2711138987
                        ]
                      },
                      {
                        "test": [
                          0.8341093649,
                          0.4351090129
                        ],
                        "passed_time": 11.0430366,
                        "iteration": 759,
                        "remaining_time": 3.487274717,
                        "learn": [
                          0.2710783723
                        ]
                      },
                      {
                        "test": [
                          0.8340229104,
                          0.4352063954
                        ],
                        "passed_time": 11.05671386,
                        "iteration": 760,
                        "remaining_time": 3.472476494,
                        "learn": [
                          0.2710082727
                        ]
                      },
                      {
                        "test": [
                          0.8340002676,
                          0.4352194477
                        ],
                        "passed_time": 11.07047013,
                        "iteration": 761,
                        "remaining_time": 3.457705892,
                        "learn": [
                          0.270823236
                        ]
                      },
                      {
                        "test": [
                          0.8339138132,
                          0.4352647085
                        ],
                        "passed_time": 11.08380516,
                        "iteration": 762,
                        "remaining_time": 3.442807109,
                        "learn": [
                          0.2707485962
                        ]
                      },
                      {
                        "test": [
                          0.8339282222,
                          0.4352812181
                        ],
                        "passed_time": 11.09725668,
                        "iteration": 763,
                        "remaining_time": 3.427948399,
                        "learn": [
                          0.2704628657
                        ]
                      },
                      {
                        "test": [
                          0.833936456,
                          0.4353061194
                        ],
                        "passed_time": 11.11212141,
                        "iteration": 764,
                        "remaining_time": 3.413527491,
                        "learn": [
                          0.2703632534
                        ]
                      },
                      {
                        "test": [
                          0.8338582353,
                          0.4353757586
                        ],
                        "passed_time": 11.12553184,
                        "iteration": 765,
                        "remaining_time": 3.398661163,
                        "learn": [
                          0.2701315054
                        ]
                      },
                      {
                        "test": [
                          0.8338602937,
                          0.4354132722
                        ],
                        "passed_time": 11.14034053,
                        "iteration": 766,
                        "remaining_time": 3.384223393,
                        "learn": [
                          0.2700623486
                        ]
                      },
                      {
                        "test": [
                          0.8338747028,
                          0.435399829
                        ],
                        "passed_time": 11.15506365,
                        "iteration": 767,
                        "remaining_time": 3.369758812,
                        "learn": [
                          0.2699899967
                        ]
                      },
                      {
                        "test": [
                          0.8338788197,
                          0.435411418
                        ],
                        "passed_time": 11.16812487,
                        "iteration": 768,
                        "remaining_time": 3.354794337,
                        "learn": [
                          0.2699232469
                        ]
                      },
                      {
                        "test": [
                          0.833969391,
                          0.4353485168
                        ],
                        "passed_time": 11.30055694,
                        "iteration": 769,
                        "remaining_time": 3.375491033,
                        "learn": [
                          0.2698010617
                        ]
                      },
                      {
                        "test": [
                          0.8338808781,
                          0.4354130199
                        ],
                        "passed_time": 11.33662734,
                        "iteration": 770,
                        "remaining_time": 3.36716947,
                        "learn": [
                          0.2695846976
                        ]
                      },
                      {
                        "test": [
                          0.8338973456,
                          0.4354004544
                        ],
                        "passed_time": 11.36709168,
                        "iteration": 771,
                        "remaining_time": 3.357120342,
                        "learn": [
                          0.269294002
                        ]
                      },
                      {
                        "test": [
                          0.8339632157,
                          0.435329893
                        ],
                        "passed_time": 11.38945919,
                        "iteration": 772,
                        "remaining_time": 3.344640669,
                        "learn": [
                          0.2692122028
                        ]
                      },
                      {
                        "test": [
                          0.8339570404,
                          0.4353059435
                        ],
                        "passed_time": 11.40404575,
                        "iteration": 773,
                        "remaining_time": 3.329863486,
                        "learn": [
                          0.2691754822
                        ]
                      },
                      {
                        "test": [
                          0.8339590988,
                          0.4352763715
                        ],
                        "passed_time": 11.41872088,
                        "iteration": 774,
                        "remaining_time": 3.315112514,
                        "learn": [
                          0.2690587774
                        ]
                      },
                      {
                        "test": [
                          0.8339673326,
                          0.435385567
                        ],
                        "passed_time": 11.43273729,
                        "iteration": 775,
                        "remaining_time": 3.300171589,
                        "learn": [
                          0.268863373
                        ]
                      },
                      {
                        "test": [
                          0.8338829366,
                          0.4354566617
                        ],
                        "passed_time": 11.44729303,
                        "iteration": 776,
                        "remaining_time": 3.285387833,
                        "learn": [
                          0.2685598599
                        ]
                      },
                      {
                        "test": [
                          0.8338047159,
                          0.435501381
                        ],
                        "passed_time": 11.46140305,
                        "iteration": 777,
                        "remaining_time": 3.270477476,
                        "learn": [
                          0.2683160238
                        ]
                      },
                      {
                        "test": [
                          0.8337532549,
                          0.4355791437
                        ],
                        "passed_time": 11.47558118,
                        "iteration": 778,
                        "remaining_time": 3.255588499,
                        "learn": [
                          0.2681837701
                        ]
                      },
                      {
                        "test": [
                          0.8337738393,
                          0.4355669595
                        ],
                        "passed_time": 11.48850327,
                        "iteration": 779,
                        "remaining_time": 3.240347076,
                        "learn": [
                          0.2680983156
                        ]
                      },
                      {
                        "test": [
                          0.8336853264,
                          0.4357430529
                        ],
                        "passed_time": 11.50244937,
                        "iteration": 780,
                        "remaining_time": 3.225398734,
                        "learn": [
                          0.268038178
                        ]
                      },
                      {
                        "test": [
                          0.8337059108,
                          0.4357554402
                        ],
                        "passed_time": 11.51728177,
                        "iteration": 781,
                        "remaining_time": 3.210700032,
                        "learn": [
                          0.2680240089
                        ]
                      },
                      {
                        "test": [
                          0.8336791511,
                          0.4357852915
                        ],
                        "passed_time": 11.53085051,
                        "iteration": 782,
                        "remaining_time": 3.195650781,
                        "learn": [
                          0.2679615488
                        ]
                      },
                      {
                        "test": [
                          0.833716203,
                          0.4357636971
                        ],
                        "passed_time": 11.54577335,
                        "iteration": 783,
                        "remaining_time": 3.180978373,
                        "learn": [
                          0.2679075799
                        ]
                      },
                      {
                        "test": [
                          0.8337079692,
                          0.435796208
                        ],
                        "passed_time": 11.56068195,
                        "iteration": 784,
                        "remaining_time": 3.166301424,
                        "learn": [
                          0.2678925026
                        ]
                      },
                      {
                        "test": [
                          0.8337203199,
                          0.4357712869
                        ],
                        "passed_time": 11.57495751,
                        "iteration": 785,
                        "remaining_time": 3.151451536,
                        "learn": [
                          0.2677642578
                        ]
                      },
                      {
                        "test": [
                          0.8330430934,
                          0.4364083223
                        ],
                        "passed_time": 11.59010123,
                        "iteration": 786,
                        "remaining_time": 3.136838071,
                        "learn": [
                          0.2676125322
                        ]
                      },
                      {
                        "test": [
                          0.8330575025,
                          0.4364041618
                        ],
                        "passed_time": 11.60393056,
                        "iteration": 787,
                        "remaining_time": 3.121869643,
                        "learn": [
                          0.2675899518
                        ]
                      },
                      {
                        "test": [
                          0.8330575025,
                          0.4363917967
                        ],
                        "passed_time": 11.61697585,
                        "iteration": 788,
                        "remaining_time": 3.106694429,
                        "learn": [
                          0.2675539814
                        ]
                      },
                      {
                        "test": [
                          0.8330451519,
                          0.4364124512
                        ],
                        "passed_time": 11.63134219,
                        "iteration": 789,
                        "remaining_time": 3.091875772,
                        "learn": [
                          0.2675097329
                        ]
                      },
                      {
                        "test": [
                          0.8331645413,
                          0.4362754337
                        ],
                        "passed_time": 11.64647534,
                        "iteration": 790,
                        "remaining_time": 3.077260868,
                        "learn": [
                          0.2674250217
                        ]
                      },
                      {
                        "test": [
                          0.8331995348,
                          0.436253805
                        ],
                        "passed_time": 11.66321652,
                        "iteration": 791,
                        "remaining_time": 3.063066966,
                        "learn": [
                          0.267319134
                        ]
                      },
                      {
                        "test": [
                          0.8331521907,
                          0.4362479818
                        ],
                        "passed_time": 11.67807351,
                        "iteration": 792,
                        "remaining_time": 3.048374799,
                        "learn": [
                          0.267170078
                        ]
                      },
                      {
                        "test": [
                          0.8331171972,
                          0.4363358468
                        ],
                        "passed_time": 11.69320145,
                        "iteration": 793,
                        "remaining_time": 3.033752516,
                        "learn": [
                          0.2671069614
                        ]
                      },
                      {
                        "test": [
                          0.8331501323,
                          0.4362498314
                        ],
                        "passed_time": 11.70794973,
                        "iteration": 794,
                        "remaining_time": 3.019031061,
                        "learn": [
                          0.2670610523
                        ]
                      },
                      {
                        "test": [
                          0.8331521907,
                          0.4363164045
                        ],
                        "passed_time": 11.72268678,
                        "iteration": 795,
                        "remaining_time": 3.004306661,
                        "learn": [
                          0.2669086543
                        ]
                      },
                      {
                        "test": [
                          0.8332139439,
                          0.4362740908
                        ],
                        "passed_time": 11.7369262,
                        "iteration": 796,
                        "remaining_time": 2.98945548,
                        "learn": [
                          0.2668353905
                        ]
                      },
                      {
                        "test": [
                          0.8331130804,
                          0.4364646491
                        ],
                        "passed_time": 11.7515491,
                        "iteration": 797,
                        "remaining_time": 2.974702906,
                        "learn": [
                          0.2666594883
                        ]
                      },
                      {
                        "test": [
                          0.8331110219,
                          0.4364890036
                        ],
                        "passed_time": 11.76539228,
                        "iteration": 798,
                        "remaining_time": 2.959754503,
                        "learn": [
                          0.2666136697
                        ]
                      },
                      {
                        "test": [
                          0.8330513272,
                          0.4365061935
                        ],
                        "passed_time": 11.7804337,
                        "iteration": 799,
                        "remaining_time": 2.945108424,
                        "learn": [
                          0.2663914024
                        ]
                      },
                      {
                        "test": [
                          0.83307397,
                          0.4365302604
                        ],
                        "passed_time": 11.79428587,
                        "iteration": 800,
                        "remaining_time": 2.930165904,
                        "learn": [
                          0.2663505775
                        ]
                      },
                      {
                        "test": [
                          0.8330780869,
                          0.436538583
                        ],
                        "passed_time": 11.80827992,
                        "iteration": 801,
                        "remaining_time": 2.915261127,
                        "learn": [
                          0.2661318906
                        ]
                      },
                      {
                        "test": [
                          0.8330677947,
                          0.436530916
                        ],
                        "passed_time": 11.82456832,
                        "iteration": 802,
                        "remaining_time": 2.900921494,
                        "learn": [
                          0.2660745455
                        ]
                      },
                      {
                        "test": [
                          0.8329278208,
                          0.4366804332
                        ],
                        "passed_time": 11.83833628,
                        "iteration": 803,
                        "remaining_time": 2.885962575,
                        "learn": [
                          0.2658660168
                        ]
                      },
                      {
                        "test": [
                          0.8328907689,
                          0.4367402607
                        ],
                        "passed_time": 11.853168,
                        "iteration": 804,
                        "remaining_time": 2.871264298,
                        "learn": [
                          0.2656439018
                        ]
                      },
                      {
                        "test": [
                          0.8328475417,
                          0.4367893867
                        ],
                        "passed_time": 11.86809194,
                        "iteration": 805,
                        "remaining_time": 2.856587886,
                        "learn": [
                          0.2655653941
                        ]
                      },
                      {
                        "test": [
                          0.832754912,
                          0.4369341576
                        ],
                        "passed_time": 11.8834389,
                        "iteration": 806,
                        "remaining_time": 2.84201203,
                        "learn": [
                          0.2654443994
                        ]
                      },
                      {
                        "test": [
                          0.8326643406,
                          0.4370386999
                        ],
                        "passed_time": 11.89660767,
                        "iteration": 807,
                        "remaining_time": 2.826916675,
                        "learn": [
                          0.2653500912
                        ]
                      },
                      {
                        "test": [
                          0.8326705159,
                          0.4370031946
                        ],
                        "passed_time": 11.91141706,
                        "iteration": 808,
                        "remaining_time": 2.812213421,
                        "learn": [
                          0.2652548007
                        ]
                      },
                      {
                        "test": [
                          0.8327096263,
                          0.436995494
                        ],
                        "passed_time": 11.92644353,
                        "iteration": 809,
                        "remaining_time": 2.797560828,
                        "learn": [
                          0.2651219651
                        ]
                      },
                      {
                        "test": [
                          0.8327013925,
                          0.4370461947
                        ],
                        "passed_time": 11.94224343,
                        "iteration": 810,
                        "remaining_time": 2.783087556,
                        "learn": [
                          0.2649968983
                        ]
                      },
                      {
                        "test": [
                          0.8328104898,
                          0.4368189762
                        ],
                        "passed_time": 11.95751784,
                        "iteration": 811,
                        "remaining_time": 2.768489353,
                        "learn": [
                          0.2649384966
                        ]
                      },
                      {
                        "test": [
                          0.8327322691,
                          0.436946638
                        ],
                        "passed_time": 11.97134457,
                        "iteration": 812,
                        "remaining_time": 2.7535565,
                        "learn": [
                          0.2647054896
                        ]
                      },
                      {
                        "test": [
                          0.8327260938,
                          0.4369857881
                        ],
                        "passed_time": 11.9852067,
                        "iteration": 813,
                        "remaining_time": 2.738634455,
                        "learn": [
                          0.2645715893
                        ]
                      },
                      {
                        "test": [
                          0.8325943537,
                          0.4371376997
                        ],
                        "passed_time": 11.99933854,
                        "iteration": 814,
                        "remaining_time": 2.723776232,
                        "learn": [
                          0.2644356269
                        ]
                      },
                      {
                        "test": [
                          0.8326458147,
                          0.4372147937
                        ],
                        "passed_time": 12.01238928,
                        "iteration": 815,
                        "remaining_time": 2.708676013,
                        "learn": [
                          0.2643213843
                        ]
                      },
                      {
                        "test": [
                          0.8326025875,
                          0.4372220672
                        ],
                        "passed_time": 12.0287979,
                        "iteration": 816,
                        "remaining_time": 2.694332944,
                        "learn": [
                          0.2642632062
                        ]
                      },
                      {
                        "test": [
                          0.8325861199,
                          0.4372163185
                        ],
                        "passed_time": 12.04156439,
                        "iteration": 817,
                        "remaining_time": 2.679174473,
                        "learn": [
                          0.2642504005
                        ]
                      },
                      {
                        "test": [
                          0.8326416978,
                          0.4371384419
                        ],
                        "passed_time": 12.05513562,
                        "iteration": 818,
                        "remaining_time": 2.664199692,
                        "learn": [
                          0.2639942533
                        ]
                      },
                      {
                        "test": [
                          0.8326746328,
                          0.4371538753
                        ],
                        "passed_time": 12.06940786,
                        "iteration": 819,
                        "remaining_time": 2.649382212,
                        "learn": [
                          0.2639756631
                        ]
                      },
                      {
                        "test": [
                          0.8326746328,
                          0.437216655
                        ],
                        "passed_time": 12.08281097,
                        "iteration": 820,
                        "remaining_time": 2.634376571,
                        "learn": [
                          0.2637535255
                        ]
                      },
                      {
                        "test": [
                          0.8327240354,
                          0.4371863428
                        ],
                        "passed_time": 12.09831868,
                        "iteration": 821,
                        "remaining_time": 2.619830565,
                        "learn": [
                          0.2636342501
                        ]
                      },
                      {
                        "test": [
                          0.8327507951,
                          0.4372380162
                        ],
                        "passed_time": 12.1128456,
                        "iteration": 822,
                        "remaining_time": 2.60507129,
                        "learn": [
                          0.2635351223
                        ]
                      },
                      {
                        "test": [
                          0.8325573018,
                          0.4374485927
                        ],
                        "passed_time": 12.12816741,
                        "iteration": 823,
                        "remaining_time": 2.590482359,
                        "learn": [
                          0.2634094225
                        ]
                      },
                      {
                        "test": [
                          0.8327302107,
                          0.4374134909
                        ],
                        "passed_time": 12.14286475,
                        "iteration": 824,
                        "remaining_time": 2.57575919,
                        "learn": [
                          0.2631993366
                        ]
                      },
                      {
                        "test": [
                          0.8327219769,
                          0.4374691291
                        ],
                        "passed_time": 12.15663097,
                        "iteration": 825,
                        "remaining_time": 2.560839938,
                        "learn": [
                          0.2631078323
                        ]
                      },
                      {
                        "test": [
                          0.8327281522,
                          0.4375920963
                        ],
                        "passed_time": 12.17068802,
                        "iteration": 826,
                        "remaining_time": 2.545984313,
                        "learn": [
                          0.2628376305
                        ]
                      },
                      {
                        "test": [
                          0.83271786,
                          0.4375790232
                        ],
                        "passed_time": 12.18472579,
                        "iteration": 827,
                        "remaining_time": 2.531126614,
                        "learn": [
                          0.2628038533
                        ]
                      },
                      {
                        "test": [
                          0.832703451,
                          0.4376000642
                        ],
                        "passed_time": 12.20064854,
                        "iteration": 828,
                        "remaining_time": 2.516659711,
                        "learn": [
                          0.2627869989
                        ]
                      },
                      {
                        "test": [
                          0.8327610873,
                          0.437586832
                        ],
                        "passed_time": 12.21705057,
                        "iteration": 829,
                        "remaining_time": 2.502287467,
                        "learn": [
                          0.2627475317
                        ]
                      },
                      {
                        "test": [
                          0.8326766913,
                          0.4376623997
                        ],
                        "passed_time": 12.23076264,
                        "iteration": 830,
                        "remaining_time": 2.487363281,
                        "learn": [
                          0.2625463982
                        ]
                      },
                      {
                        "test": [
                          0.8326581653,
                          0.4376909784
                        ],
                        "passed_time": 12.2454614,
                        "iteration": 831,
                        "remaining_time": 2.472641244,
                        "learn": [
                          0.2625298703
                        ]
                      },
                      {
                        "test": [
                          0.8326355225,
                          0.4377113348
                        ],
                        "passed_time": 12.27005514,
                        "iteration": 832,
                        "remaining_time": 2.459903012,
                        "learn": [
                          0.2624872637
                        ]
                      },
                      {
                        "test": [
                          0.832600529,
                          0.4377406504
                        ],
                        "passed_time": 12.28504505,
                        "iteration": 833,
                        "remaining_time": 2.445224794,
                        "learn": [
                          0.2624247271
                        ]
                      },
                      {
                        "test": [
                          0.83265199,
                          0.4377772158
                        ],
                        "passed_time": 12.29977494,
                        "iteration": 834,
                        "remaining_time": 2.43049445,
                        "learn": [
                          0.262259265
                        ]
                      },
                      {
                        "test": [
                          0.8326478731,
                          0.4378243783
                        ],
                        "passed_time": 12.37177599,
                        "iteration": 835,
                        "remaining_time": 2.426999118,
                        "learn": [
                          0.2620461748
                        ]
                      },
                      {
                        "test": [
                          0.8325984706,
                          0.4378871455
                        ],
                        "passed_time": 12.42304251,
                        "iteration": 836,
                        "remaining_time": 2.419302185,
                        "learn": [
                          0.2619095057
                        ]
                      },
                      {
                        "test": [
                          0.8326108212,
                          0.437891012
                        ],
                        "passed_time": 12.4372391,
                        "iteration": 837,
                        "remaining_time": 2.404335004,
                        "learn": [
                          0.2618879337
                        ]
                      },
                      {
                        "test": [
                          0.8325284837,
                          0.4379626193
                        ],
                        "passed_time": 12.45227142,
                        "iteration": 838,
                        "remaining_time": 2.389530034,
                        "learn": [
                          0.2617951609
                        ]
                      },
                      {
                        "test": [
                          0.8326355225,
                          0.4378464987
                        ],
                        "passed_time": 12.46552713,
                        "iteration": 839,
                        "remaining_time": 2.374386121,
                        "learn": [
                          0.2614115174
                        ]
                      },
                      {
                        "test": [
                          0.8326581653,
                          0.4378368252
                        ],
                        "passed_time": 12.47965336,
                        "iteration": 840,
                        "remaining_time": 2.359411278,
                        "learn": [
                          0.2612128365
                        ]
                      },
                      {
                        "test": [
                          0.8326540484,
                          0.4378056694
                        ],
                        "passed_time": 12.49340051,
                        "iteration": 841,
                        "remaining_time": 2.344367316,
                        "learn": [
                          0.2611885916
                        ]
                      },
                      {
                        "test": [
                          0.8326169965,
                          0.4379101814
                        ],
                        "passed_time": 12.50738905,
                        "iteration": 842,
                        "remaining_time": 2.32937139,
                        "learn": [
                          0.2609859181
                        ]
                      },
                      {
                        "test": [
                          0.8326416978,
                          0.43787819
                        ],
                        "passed_time": 12.5225432,
                        "iteration": 843,
                        "remaining_time": 2.314593293,
                        "learn": [
                          0.260941764
                        ]
                      },
                      {
                        "test": [
                          0.8325470096,
                          0.4380661725
                        ],
                        "passed_time": 12.53715815,
                        "iteration": 844,
                        "remaining_time": 2.299715401,
                        "learn": [
                          0.260797032
                        ]
                      },
                      {
                        "test": [
                          0.8324873149,
                          0.4381070868
                        ],
                        "passed_time": 12.55197818,
                        "iteration": 845,
                        "remaining_time": 2.284875461,
                        "learn": [
                          0.260754851
                        ]
                      },
                      {
                        "test": [
                          0.8324955486,
                          0.4380594842
                        ],
                        "passed_time": 12.56691877,
                        "iteration": 846,
                        "remaining_time": 2.270057345,
                        "learn": [
                          0.2606753201
                        ]
                      },
                      {
                        "test": [
                          0.8325284837,
                          0.4380969265
                        ],
                        "passed_time": 12.58195295,
                        "iteration": 847,
                        "remaining_time": 2.255255718,
                        "learn": [
                          0.2604846215
                        ]
                      },
                      {
                        "test": [
                          0.8324276201,
                          0.4381420895
                        ],
                        "passed_time": 12.59609538,
                        "iteration": 848,
                        "remaining_time": 2.240294938,
                        "learn": [
                          0.2603719415
                        ]
                      },
                      {
                        "test": [
                          0.8323967435,
                          0.4381726299
                        ],
                        "passed_time": 12.61084401,
                        "iteration": 849,
                        "remaining_time": 2.22544306,
                        "learn": [
                          0.2603201324
                        ]
                      },
                      {
                        "test": [
                          0.8323432241,
                          0.4382468144
                        ],
                        "passed_time": 12.62185153,
                        "iteration": 850,
                        "remaining_time": 2.209936403,
                        "learn": [
                          0.2603004513
                        ]
                      },
                      {
                        "test": [
                          0.8323638085,
                          0.438339154
                        ],
                        "passed_time": 12.63378604,
                        "iteration": 851,
                        "remaining_time": 2.194601331,
                        "learn": [
                          0.2602722223
                        ]
                      },
                      {
                        "test": [
                          0.8322897047,
                          0.4384545055
                        ],
                        "passed_time": 12.64740805,
                        "iteration": 852,
                        "remaining_time": 2.179565045,
                        "learn": [
                          0.2600339615
                        ]
                      },
                      {
                        "test": [
                          0.8322917632,
                          0.438454312
                        ],
                        "passed_time": 12.66090302,
                        "iteration": 853,
                        "remaining_time": 2.164510352,
                        "learn": [
                          0.2600247036
                        ]
                      },
                      {
                        "test": [
                          0.832197075,
                          0.4384926068
                        ],
                        "passed_time": 12.67601283,
                        "iteration": 854,
                        "remaining_time": 2.14973317,
                        "learn": [
                          0.2598321316
                        ]
                      },
                      {
                        "test": [
                          0.8322053087,
                          0.4384816251
                        ],
                        "passed_time": 12.69030272,
                        "iteration": 855,
                        "remaining_time": 2.13481728,
                        "learn": [
                          0.2598086591
                        ]
                      },
                      {
                        "test": [
                          0.8320715102,
                          0.4387409006
                        ],
                        "passed_time": 12.7065633,
                        "iteration": 856,
                        "remaining_time": 2.120231682,
                        "learn": [
                          0.2597238124
                        ]
                      },
                      {
                        "test": [
                          0.8320488673,
                          0.4387881442
                        ],
                        "passed_time": 12.71962107,
                        "iteration": 857,
                        "remaining_time": 2.105112112,
                        "learn": [
                          0.259702082
                        ]
                      },
                      {
                        "test": [
                          0.8320406336,
                          0.43881206
                        ],
                        "passed_time": 12.73206602,
                        "iteration": 858,
                        "remaining_time": 2.089896751,
                        "learn": [
                          0.2596044013
                        ]
                      },
                      {
                        "test": [
                          0.8319788804,
                          0.4388205573
                        ],
                        "passed_time": 12.74651095,
                        "iteration": 859,
                        "remaining_time": 2.075013411,
                        "learn": [
                          0.2594452287
                        ]
                      },
                      {
                        "test": [
                          0.8320323998,
                          0.4387116063
                        ],
                        "passed_time": 12.76064546,
                        "iteration": 860,
                        "remaining_time": 2.060080974,
                        "learn": [
                          0.2593781464
                        ]
                      },
                      {
                        "test": [
                          0.8320468089,
                          0.4389243281
                        ],
                        "passed_time": 12.77919001,
                        "iteration": 861,
                        "remaining_time": 2.045856405,
                        "learn": [
                          0.2593116281
                        ]
                      },
                      {
                        "test": [
                          0.832042692,
                          0.4389891537
                        ],
                        "passed_time": 12.79329603,
                        "iteration": 862,
                        "remaining_time": 2.030917215,
                        "learn": [
                          0.2591939243
                        ]
                      },
                      {
                        "test": [
                          0.832028283,
                          0.4390167251
                        ],
                        "passed_time": 12.80662561,
                        "iteration": 863,
                        "remaining_time": 2.015857735,
                        "learn": [
                          0.2591462449
                        ]
                      },
                      {
                        "test": [
                          0.8320118154,
                          0.4391743476
                        ],
                        "passed_time": 12.8205718,
                        "iteration": 864,
                        "remaining_time": 2.000898489,
                        "learn": [
                          0.2589788853
                        ]
                      },
                      {
                        "test": [
                          0.832009757,
                          0.4391918726
                        ],
                        "passed_time": 12.83513754,
                        "iteration": 865,
                        "remaining_time": 1.986037449,
                        "learn": [
                          0.2589148921
                        ]
                      },
                      {
                        "test": [
                          0.8320982699,
                          0.4391716349
                        ],
                        "passed_time": 12.84819735,
                        "iteration": 866,
                        "remaining_time": 1.970946076,
                        "learn": [
                          0.2588035655
                        ]
                      },
                      {
                        "test": [
                          0.8320200492,
                          0.4392387152
                        ],
                        "passed_time": 12.86255231,
                        "iteration": 867,
                        "remaining_time": 1.956056341,
                        "learn": [
                          0.2587617051
                        ]
                      },
                      {
                        "test": [
                          0.8319521207,
                          0.4392633034
                        ],
                        "passed_time": 12.87827128,
                        "iteration": 868,
                        "remaining_time": 1.941373461,
                        "learn": [
                          0.2586191781
                        ]
                      },
                      {
                        "test": [
                          0.8319274194,
                          0.4393230339
                        ],
                        "passed_time": 12.89241113,
                        "iteration": 869,
                        "remaining_time": 1.926452237,
                        "learn": [
                          0.2584869789
                        ]
                      },
                      {
                        "test": [
                          0.831906835,
                          0.4390985882
                        ],
                        "passed_time": 12.90753755,
                        "iteration": 870,
                        "remaining_time": 1.911678925,
                        "learn": [
                          0.2584723796
                        ]
                      },
                      {
                        "test": [
                          0.8319418285,
                          0.4390420026
                        ],
                        "passed_time": 12.92167737,
                        "iteration": 871,
                        "remaining_time": 1.89675998,
                        "learn": [
                          0.2583960675
                        ]
                      },
                      {
                        "test": [
                          0.8319315363,
                          0.4390956032
                        ],
                        "passed_time": 12.93584626,
                        "iteration": 872,
                        "remaining_time": 1.88184705,
                        "learn": [
                          0.2582206204
                        ]
                      },
                      {
                        "test": [
                          0.8319088935,
                          0.4390870385
                        ],
                        "passed_time": 12.95040905,
                        "iteration": 873,
                        "remaining_time": 1.86699261,
                        "learn": [
                          0.2582088404
                        ]
                      },
                      {
                        "test": [
                          0.8318697831,
                          0.4390812907
                        ],
                        "passed_time": 12.96709445,
                        "iteration": 874,
                        "remaining_time": 1.852442064,
                        "learn": [
                          0.2581188445
                        ]
                      },
                      {
                        "test": [
                          0.8318491988,
                          0.4390924269
                        ],
                        "passed_time": 12.98176846,
                        "iteration": 875,
                        "remaining_time": 1.837601928,
                        "learn": [
                          0.2580431368
                        ]
                      },
                      {
                        "test": [
                          0.8319274194,
                          0.4391018782
                        ],
                        "passed_time": 12.99553153,
                        "iteration": 876,
                        "remaining_time": 1.822634411,
                        "learn": [
                          0.2577103751
                        ]
                      },
                      {
                        "test": [
                          0.8319150688,
                          0.4391269188
                        ],
                        "passed_time": 13.00864757,
                        "iteration": 877,
                        "remaining_time": 1.807579731,
                        "learn": [
                          0.2576203017
                        ]
                      },
                      {
                        "test": [
                          0.8318677247,
                          0.4392792539
                        ],
                        "passed_time": 13.02310072,
                        "iteration": 878,
                        "remaining_time": 1.792713523,
                        "learn": [
                          0.2575628994
                        ]
                      },
                      {
                        "test": [
                          0.8318594909,
                          0.4392940574
                        ],
                        "passed_time": 13.03698512,
                        "iteration": 879,
                        "remaining_time": 1.777770698,
                        "learn": [
                          0.2574865181
                        ]
                      },
                      {
                        "test": [
                          0.8318800753,
                          0.4393333673
                        ],
                        "passed_time": 13.05168895,
                        "iteration": 880,
                        "remaining_time": 1.762940959,
                        "learn": [
                          0.2574192551
                        ]
                      },
                      {
                        "test": [
                          0.8318677247,
                          0.4393714796
                        ],
                        "passed_time": 13.06610937,
                        "iteration": 881,
                        "remaining_time": 1.748073589,
                        "learn": [
                          0.2573607819
                        ]
                      },
                      {
                        "test": [
                          0.8315980692,
                          0.4396423864
                        ],
                        "passed_time": 13.08113392,
                        "iteration": 882,
                        "remaining_time": 1.73328728,
                        "learn": [
                          0.2571320644
                        ]
                      },
                      {
                        "test": [
                          0.8315960107,
                          0.4398232734
                        ],
                        "passed_time": 13.09584465,
                        "iteration": 883,
                        "remaining_time": 1.718459253,
                        "learn": [
                          0.2571045141
                        ]
                      },
                      {
                        "test": [
                          0.8316742314,
                          0.4398018697
                        ],
                        "passed_time": 13.11024377,
                        "iteration": 884,
                        "remaining_time": 1.703590998,
                        "learn": [
                          0.2569829982
                        ]
                      },
                      {
                        "test": [
                          0.8316762899,
                          0.4398528769
                        ],
                        "passed_time": 13.12599727,
                        "iteration": 885,
                        "remaining_time": 1.688898069,
                        "learn": [
                          0.2568775931
                        ]
                      },
                      {
                        "test": [
                          0.8315239654,
                          0.4399611126
                        ],
                        "passed_time": 13.14137302,
                        "iteration": 886,
                        "remaining_time": 1.674154624,
                        "learn": [
                          0.2566836321
                        ]
                      },
                      {
                        "test": [
                          0.8315610173,
                          0.4399264024
                        ],
                        "passed_time": 13.15636246,
                        "iteration": 887,
                        "remaining_time": 1.659361031,
                        "learn": [
                          0.256567979
                        ]
                      },
                      {
                        "test": [
                          0.8315424913,
                          0.4399103116
                        ],
                        "passed_time": 13.1703886,
                        "iteration": 888,
                        "remaining_time": 1.64444672,
                        "learn": [
                          0.2564194108
                        ]
                      },
                      {
                        "test": [
                          0.8315610173,
                          0.4398661158
                        ],
                        "passed_time": 13.18370358,
                        "iteration": 889,
                        "remaining_time": 1.62944651,
                        "learn": [
                          0.256299389
                        ]
                      },
                      {
                        "test": [
                          0.831672173,
                          0.4396541792
                        ],
                        "passed_time": 13.19828516,
                        "iteration": 890,
                        "remaining_time": 1.614605031,
                        "learn": [
                          0.2562219805
                        ]
                      },
                      {
                        "test": [
                          0.8317154002,
                          0.4396382128
                        ],
                        "passed_time": 13.21153717,
                        "iteration": 891,
                        "remaining_time": 1.599603155,
                        "learn": [
                          0.2561461075
                        ]
                      },
                      {
                        "test": [
                          0.8316042445,
                          0.4398481459
                        ],
                        "passed_time": 13.22685263,
                        "iteration": 892,
                        "remaining_time": 1.584852443,
                        "learn": [
                          0.2559074832
                        ]
                      },
                      {
                        "test": [
                          0.8316454133,
                          0.4398165863
                        ],
                        "passed_time": 13.24162842,
                        "iteration": 893,
                        "remaining_time": 1.57003648,
                        "learn": [
                          0.2557893785
                        ]
                      },
                      {
                        "test": [
                          0.8315383745,
                          0.4399147751
                        ],
                        "passed_time": 13.25879358,
                        "iteration": 894,
                        "remaining_time": 1.555500923,
                        "learn": [
                          0.2556575445
                        ]
                      },
                      {
                        "test": [
                          0.8315857185,
                          0.4399266316
                        ],
                        "passed_time": 13.27719388,
                        "iteration": 895,
                        "remaining_time": 1.541102861,
                        "learn": [
                          0.2556170492
                        ]
                      },
                      {
                        "test": [
                          0.8319233026,
                          0.4397515469
                        ],
                        "passed_time": 13.29109136,
                        "iteration": 896,
                        "remaining_time": 1.526178829,
                        "learn": [
                          0.2554529196
                        ]
                      },
                      {
                        "test": [
                          0.8319294779,
                          0.4397218189
                        ],
                        "passed_time": 13.30556353,
                        "iteration": 897,
                        "remaining_time": 1.51132236,
                        "learn": [
                          0.2552694353
                        ]
                      },
                      {
                        "test": [
                          0.8319541791,
                          0.4397102245
                        ],
                        "passed_time": 13.31960281,
                        "iteration": 898,
                        "remaining_time": 1.496418114,
                        "learn": [
                          0.2552485071
                        ]
                      },
                      {
                        "test": [
                          0.831840965,
                          0.4398135408
                        ],
                        "passed_time": 13.33365868,
                        "iteration": 899,
                        "remaining_time": 1.481517632,
                        "learn": [
                          0.2550661092
                        ]
                      },
                      {
                        "test": [
                          0.8318636078,
                          0.4399951806
                        ],
                        "passed_time": 13.34723152,
                        "iteration": 900,
                        "remaining_time": 1.46656595,
                        "learn": [
                          0.2548318574
                        ]
                      },
                      {
                        "test": [
                          0.8318697831,
                          0.4400766339
                        ],
                        "passed_time": 13.4080214,
                        "iteration": 901,
                        "remaining_time": 1.456747337,
                        "learn": [
                          0.2547296289
                        ]
                      },
                      {
                        "test": [
                          0.8318574325,
                          0.4400706937
                        ],
                        "passed_time": 13.47739417,
                        "iteration": 902,
                        "remaining_time": 1.447737802,
                        "learn": [
                          0.2546762979
                        ]
                      },
                      {
                        "test": [
                          0.8318244975,
                          0.4401216493
                        ],
                        "passed_time": 13.49683113,
                        "iteration": 903,
                        "remaining_time": 1.433291802,
                        "learn": [
                          0.2544497497
                        ]
                      },
                      {
                        "test": [
                          0.8317936209,
                          0.4401317123
                        ],
                        "passed_time": 13.51084646,
                        "iteration": 904,
                        "remaining_time": 1.418265651,
                        "learn": [
                          0.2544183776
                        ]
                      },
                      {
                        "test": [
                          0.831822439,
                          0.4401509963
                        ],
                        "passed_time": 13.5261428,
                        "iteration": 905,
                        "remaining_time": 1.40337464,
                        "learn": [
                          0.2543540503
                        ]
                      },
                      {
                        "test": [
                          0.8318018547,
                          0.4401789699
                        ],
                        "passed_time": 13.54152187,
                        "iteration": 906,
                        "remaining_time": 1.388491218,
                        "learn": [
                          0.2543427262
                        ]
                      },
                      {
                        "test": [
                          0.8317668612,
                          0.4401679974
                        ],
                        "passed_time": 13.55691644,
                        "iteration": 907,
                        "remaining_time": 1.373608274,
                        "learn": [
                          0.254291554
                        ]
                      },
                      {
                        "test": [
                          0.8316701146,
                          0.4403436465
                        ],
                        "passed_time": 13.57109038,
                        "iteration": 908,
                        "remaining_time": 1.358602007,
                        "learn": [
                          0.2537895775
                        ]
                      },
                      {
                        "test": [
                          0.8318244975,
                          0.440177239
                        ],
                        "passed_time": 13.58650315,
                        "iteration": 909,
                        "remaining_time": 1.343720092,
                        "learn": [
                          0.2536560888
                        ]
                      },
                      {
                        "test": [
                          0.8318039131,
                          0.4401964462
                        ],
                        "passed_time": 13.6025843,
                        "iteration": 910,
                        "remaining_time": 1.328902308,
                        "learn": [
                          0.2535274099
                        ]
                      },
                      {
                        "test": [
                          0.8317771534,
                          0.4402424636
                        ],
                        "passed_time": 13.61766793,
                        "iteration": 911,
                        "remaining_time": 1.313985502,
                        "learn": [
                          0.2533818456
                        ]
                      },
                      {
                        "test": [
                          0.8317977378,
                          0.4401863519
                        ],
                        "passed_time": 13.63214947,
                        "iteration": 912,
                        "remaining_time": 1.299010958,
                        "learn": [
                          0.2532559165
                        ]
                      },
                      {
                        "test": [
                          0.8318368481,
                          0.4401080181
                        ],
                        "passed_time": 13.64708828,
                        "iteration": 913,
                        "remaining_time": 1.284080517,
                        "learn": [
                          0.2531731349
                        ]
                      },
                      {
                        "test": [
                          0.8318162637,
                          0.4400982545
                        ],
                        "passed_time": 13.6618882,
                        "iteration": 914,
                        "remaining_time": 1.269137155,
                        "learn": [
                          0.2530616828
                        ]
                      },
                      {
                        "test": [
                          0.831789504,
                          0.4401389713
                        ],
                        "passed_time": 13.67585885,
                        "iteration": 915,
                        "remaining_time": 1.254118061,
                        "learn": [
                          0.252937166
                        ]
                      },
                      {
                        "test": [
                          0.831738043,
                          0.4401310808
                        ],
                        "passed_time": 13.68858206,
                        "iteration": 916,
                        "remaining_time": 1.238988344,
                        "learn": [
                          0.2527588212
                        ]
                      },
                      {
                        "test": [
                          0.8318677247,
                          0.440017573
                        ],
                        "passed_time": 13.70302295,
                        "iteration": 917,
                        "remaining_time": 1.224017301,
                        "learn": [
                          0.2525117591
                        ]
                      },
                      {
                        "test": [
                          0.8318594909,
                          0.4400092172
                        ],
                        "passed_time": 13.71768939,
                        "iteration": 918,
                        "remaining_time": 1.209067291,
                        "learn": [
                          0.2524526947
                        ]
                      },
                      {
                        "test": [
                          0.8318656663,
                          0.4400042831
                        ],
                        "passed_time": 13.73222289,
                        "iteration": 919,
                        "remaining_time": 1.194106339,
                        "learn": [
                          0.2524055603
                        ]
                      },
                      {
                        "test": [
                          0.8319274194,
                          0.4399607332
                        ],
                        "passed_time": 13.74599595,
                        "iteration": 920,
                        "remaining_time": 1.179081086,
                        "learn": [
                          0.2523158693
                        ]
                      },
                      {
                        "test": [
                          0.8319459454,
                          0.4398495394
                        ],
                        "passed_time": 13.75984204,
                        "iteration": 921,
                        "remaining_time": 1.164064728,
                        "learn": [
                          0.2521835412
                        ]
                      },
                      {
                        "test": [
                          0.831958296,
                          0.4399033286
                        ],
                        "passed_time": 13.77271616,
                        "iteration": 922,
                        "remaining_time": 1.148969821,
                        "learn": [
                          0.2520791301
                        ]
                      },
                      {
                        "test": [
                          0.8319335948,
                          0.440011748
                        ],
                        "passed_time": 13.7864637,
                        "iteration": 923,
                        "remaining_time": 1.13395156,
                        "learn": [
                          0.2519894697
                        ]
                      },
                      {
                        "test": [
                          0.8319150688,
                          0.4400693937
                        ],
                        "passed_time": 13.80515416,
                        "iteration": 924,
                        "remaining_time": 1.119336824,
                        "learn": [
                          0.2518771407
                        ]
                      },
                      {
                        "test": [
                          0.8319644713,
                          0.4400568082
                        ],
                        "passed_time": 13.81961852,
                        "iteration": 925,
                        "remaining_time": 1.104375562,
                        "learn": [
                          0.2516822704
                        ]
                      },
                      {
                        "test": [
                          0.8319665298,
                          0.4400631141
                        ],
                        "passed_time": 13.8357703,
                        "iteration": 926,
                        "remaining_time": 1.089548255,
                        "learn": [
                          0.2515553166
                        ]
                      },
                      {
                        "test": [
                          0.8319685882,
                          0.4400568318
                        ],
                        "passed_time": 13.84842834,
                        "iteration": 927,
                        "remaining_time": 1.074447026,
                        "learn": [
                          0.251433627
                        ]
                      },
                      {
                        "test": [
                          0.8319747635,
                          0.4400519727
                        ],
                        "passed_time": 13.86681411,
                        "iteration": 928,
                        "remaining_time": 1.059788807,
                        "learn": [
                          0.2513606148
                        ]
                      },
                      {
                        "test": [
                          0.8318759585,
                          0.4401180625
                        ],
                        "passed_time": 13.88162886,
                        "iteration": 929,
                        "remaining_time": 1.044853785,
                        "learn": [
                          0.2512192774
                        ]
                      },
                      {
                        "test": [
                          0.8319541791,
                          0.4400881085
                        ],
                        "passed_time": 13.89586715,
                        "iteration": 930,
                        "remaining_time": 1.029876298,
                        "learn": [
                          0.2510979272
                        ]
                      },
                      {
                        "test": [
                          0.8319562376,
                          0.4400645724
                        ],
                        "passed_time": 13.90976988,
                        "iteration": 931,
                        "remaining_time": 1.014875914,
                        "learn": [
                          0.2509337329
                        ]
                      },
                      {
                        "test": [
                          0.8319665298,
                          0.4400607782
                        ],
                        "passed_time": 13.92228529,
                        "iteration": 932,
                        "remaining_time": 0.9997782576,
                        "learn": [
                          0.2507729116
                        ]
                      },
                      {
                        "test": [
                          0.8319541791,
                          0.4400279329
                        ],
                        "passed_time": 13.93685339,
                        "iteration": 933,
                        "remaining_time": 0.984831182,
                        "learn": [
                          0.2506997644
                        ]
                      },
                      {
                        "test": [
                          0.8320015232,
                          0.440031991
                        ],
                        "passed_time": 13.95115983,
                        "iteration": 934,
                        "remaining_time": 0.9698667262,
                        "learn": [
                          0.2506184128
                        ]
                      },
                      {
                        "test": [
                          0.8320406336,
                          0.4399991785
                        ],
                        "passed_time": 13.96691228,
                        "iteration": 935,
                        "remaining_time": 0.955002549,
                        "learn": [
                          0.2504869963
                        ]
                      },
                      {
                        "test": [
                          0.8320406336,
                          0.4400354214
                        ],
                        "passed_time": 13.98084941,
                        "iteration": 936,
                        "remaining_time": 0.9400144214,
                        "learn": [
                          0.250397851
                        ]
                      },
                      {
                        "test": [
                          0.8320529842,
                          0.440143784
                        ],
                        "passed_time": 13.99493164,
                        "iteration": 937,
                        "remaining_time": 0.9250381255,
                        "learn": [
                          0.2501637897
                        ]
                      },
                      {
                        "test": [
                          0.8320241661,
                          0.4401896563
                        ],
                        "passed_time": 14.00786799,
                        "iteration": 938,
                        "remaining_time": 0.9099892942,
                        "learn": [
                          0.2501450102
                        ]
                      },
                      {
                        "test": [
                          0.8321023868,
                          0.4400781965
                        ],
                        "passed_time": 14.02313584,
                        "iteration": 939,
                        "remaining_time": 0.8950937772,
                        "learn": [
                          0.2500677781
                        ]
                      },
                      {
                        "test": [
                          0.8320344583,
                          0.4401114921
                        ],
                        "passed_time": 14.03650507,
                        "iteration": 940,
                        "remaining_time": 0.8800784266,
                        "learn": [
                          0.2499796989
                        ]
                      },
                      {
                        "test": [
                          0.8320323998,
                          0.4401047948
                        ],
                        "passed_time": 14.05066784,
                        "iteration": 941,
                        "remaining_time": 0.8651154299,
                        "learn": [
                          0.2499692151
                        ]
                      },
                      {
                        "test": [
                          0.8320509258,
                          0.4401062904
                        ],
                        "passed_time": 14.06646484,
                        "iteration": 942,
                        "remaining_time": 0.8502529118,
                        "learn": [
                          0.2498311875
                        ]
                      },
                      {
                        "test": [
                          0.8320468089,
                          0.4400612619
                        ],
                        "passed_time": 14.08094845,
                        "iteration": 943,
                        "remaining_time": 0.8353105014,
                        "learn": [
                          0.2496683211
                        ]
                      },
                      {
                        "test": [
                          0.832127088,
                          0.4399874491
                        ],
                        "passed_time": 14.09333737,
                        "iteration": 944,
                        "remaining_time": 0.8202471484,
                        "learn": [
                          0.249627472
                        ]
                      },
                      {
                        "test": [
                          0.8321744321,
                          0.4399408509
                        ],
                        "passed_time": 14.10783069,
                        "iteration": 945,
                        "remaining_time": 0.8053095741,
                        "learn": [
                          0.2494285593
                        ]
                      },
                      {
                        "test": [
                          0.8321394387,
                          0.4400900162
                        ],
                        "passed_time": 14.11984542,
                        "iteration": 946,
                        "remaining_time": 0.7902342211,
                        "learn": [
                          0.2493427596
                        ]
                      },
                      {
                        "test": [
                          0.8321044452,
                          0.4401322747
                        ],
                        "passed_time": 14.13467917,
                        "iteration": 947,
                        "remaining_time": 0.7753199544,
                        "learn": [
                          0.2493130401
                        ]
                      },
                      {
                        "test": [
                          0.8322567697,
                          0.4399700794
                        ],
                        "passed_time": 14.14974897,
                        "iteration": 948,
                        "remaining_time": 0.7604185431,
                        "learn": [
                          0.2491297289
                        ]
                      },
                      {
                        "test": [
                          0.8322073672,
                          0.4400368409
                        ],
                        "passed_time": 14.16379835,
                        "iteration": 949,
                        "remaining_time": 0.7454630709,
                        "learn": [
                          0.2488679554
                        ]
                      },
                      {
                        "test": [
                          0.8322382437,
                          0.4400796474
                        ],
                        "passed_time": 14.17995919,
                        "iteration": 950,
                        "remaining_time": 0.7306182969,
                        "learn": [
                          0.2486529681
                        ]
                      },
                      {
                        "test": [
                          0.8322444191,
                          0.4400563335
                        ],
                        "passed_time": 14.19457298,
                        "iteration": 951,
                        "remaining_time": 0.715692755,
                        "learn": [
                          0.2486211052
                        ]
                      },
                      {
                        "test": [
                          0.8321908996,
                          0.4401197409
                        ],
                        "passed_time": 14.20923308,
                        "iteration": 952,
                        "remaining_time": 0.7007701519,
                        "learn": [
                          0.2485784659
                        ]
                      },
                      {
                        "test": [
                          0.8320035817,
                          0.4404280657
                        ],
                        "passed_time": 14.22295088,
                        "iteration": 953,
                        "remaining_time": 0.685802663,
                        "learn": [
                          0.2482423578
                        ]
                      },
                      {
                        "test": [
                          0.8320323998,
                          0.4404101158
                        ],
                        "passed_time": 14.23619948,
                        "iteration": 954,
                        "remaining_time": 0.6708156821,
                        "learn": [
                          0.2480260451
                        ]
                      },
                      {
                        "test": [
                          0.8320488673,
                          0.440381148
                        ],
                        "passed_time": 14.2500556,
                        "iteration": 955,
                        "remaining_time": 0.6558602998,
                        "learn": [
                          0.2478776917
                        ]
                      },
                      {
                        "test": [
                          0.8319212441,
                          0.4406016487
                        ],
                        "passed_time": 14.26370526,
                        "iteration": 956,
                        "remaining_time": 0.6408979375,
                        "learn": [
                          0.2477027617
                        ]
                      },
                      {
                        "test": [
                          0.831756569,
                          0.4409409393
                        ],
                        "passed_time": 14.28722048,
                        "iteration": 957,
                        "remaining_time": 0.6263708354,
                        "learn": [
                          0.2475329504
                        ]
                      },
                      {
                        "test": [
                          0.8317668612,
                          0.4409339242
                        ],
                        "passed_time": 14.30126841,
                        "iteration": 958,
                        "remaining_time": 0.6114202344,
                        "learn": [
                          0.2474927519
                        ]
                      },
                      {
                        "test": [
                          0.8314292772,
                          0.4413796754
                        ],
                        "passed_time": 14.31591227,
                        "iteration": 959,
                        "remaining_time": 0.5964963445,
                        "learn": [
                          0.2473337736
                        ]
                      },
                      {
                        "test": [
                          0.8313242968,
                          0.441640108
                        ],
                        "passed_time": 14.33040567,
                        "iteration": 960,
                        "remaining_time": 0.5815669315,
                        "learn": [
                          0.247176858
                        ]
                      },
                      {
                        "test": [
                          0.8312440177,
                          0.4417314832
                        ],
                        "passed_time": 14.34456465,
                        "iteration": 961,
                        "remaining_time": 0.566625215,
                        "learn": [
                          0.2470441684
                        ]
                      },
                      {
                        "test": [
                          0.8312646021,
                          0.4415907554
                        ],
                        "passed_time": 14.36129341,
                        "iteration": 962,
                        "remaining_time": 0.5517838588,
                        "learn": [
                          0.2469359715
                        ]
                      },
                      {
                        "test": [
                          0.831316063,
                          0.4416256327
                        ],
                        "passed_time": 14.37460082,
                        "iteration": 963,
                        "remaining_time": 0.5368108189,
                        "learn": [
                          0.2467185801
                        ]
                      },
                      {
                        "test": [
                          0.8312851864,
                          0.4416889779
                        ],
                        "passed_time": 14.38889095,
                        "iteration": 964,
                        "remaining_time": 0.521876874,
                        "learn": [
                          0.2466627083
                        ]
                      },
                      {
                        "test": [
                          0.8312728358,
                          0.4416915333
                        ],
                        "passed_time": 14.40312191,
                        "iteration": 965,
                        "remaining_time": 0.5069421792,
                        "learn": [
                          0.2466524648
                        ]
                      },
                      {
                        "test": [
                          0.8312419592,
                          0.4417314741
                        ],
                        "passed_time": 14.47776837,
                        "iteration": 966,
                        "remaining_time": 0.4940706889,
                        "learn": [
                          0.2464441303
                        ]
                      },
                      {
                        "test": [
                          0.8313325305,
                          0.4418050308
                        ],
                        "passed_time": 14.51458718,
                        "iteration": 967,
                        "remaining_time": 0.4798210637,
                        "learn": [
                          0.2462089687
                        ]
                      },
                      {
                        "test": [
                          0.831301654,
                          0.4418335244
                        ],
                        "passed_time": 14.55502772,
                        "iteration": 968,
                        "remaining_time": 0.4656407217,
                        "learn": [
                          0.2460852253
                        ]
                      },
                      {
                        "test": [
                          0.831301654,
                          0.4419084624
                        ],
                        "passed_time": 14.5693912,
                        "iteration": 969,
                        "remaining_time": 0.450599728,
                        "learn": [
                          0.2459778097
                        ]
                      },
                      {
                        "test": [
                          0.8312872449,
                          0.4419389633
                        ],
                        "passed_time": 14.58264019,
                        "iteration": 970,
                        "remaining_time": 0.4355268441,
                        "learn": [
                          0.2459293345
                        ]
                      },
                      {
                        "test": [
                          0.8312666605,
                          0.4419577189
                        ],
                        "passed_time": 14.5978849,
                        "iteration": 971,
                        "remaining_time": 0.420515203,
                        "learn": [
                          0.2459149831
                        ]
                      },
                      {
                        "test": [
                          0.8311040438,
                          0.4422601284
                        ],
                        "passed_time": 14.6135742,
                        "iteration": 972,
                        "remaining_time": 0.4055154197,
                        "learn": [
                          0.2456566797
                        ]
                      },
                      {
                        "test": [
                          0.8310649335,
                          0.4423336
                        ],
                        "passed_time": 14.62730768,
                        "iteration": 973,
                        "remaining_time": 0.390462012,
                        "learn": [
                          0.2455129707
                        ]
                      },
                      {
                        "test": [
                          0.8310793425,
                          0.4423589324
                        ],
                        "passed_time": 14.64233384,
                        "iteration": 974,
                        "remaining_time": 0.3754444575,
                        "learn": [
                          0.2453287473
                        ]
                      },
                      {
                        "test": [
                          0.8310669919,
                          0.4423421944
                        ],
                        "passed_time": 14.65538273,
                        "iteration": 975,
                        "remaining_time": 0.3603782639,
                        "learn": [
                          0.2453208959
                        ]
                      },
                      {
                        "test": [
                          0.8309908297,
                          0.4424700477
                        ],
                        "passed_time": 14.67098023,
                        "iteration": 976,
                        "remaining_time": 0.3453761978,
                        "learn": [
                          0.2452600008
                        ]
                      },
                      {
                        "test": [
                          0.8310278816,
                          0.4425896933
                        ],
                        "passed_time": 14.68527869,
                        "iteration": 977,
                        "remaining_time": 0.3303436925,
                        "learn": [
                          0.2451660984
                        ]
                      },
                      {
                        "test": [
                          0.8310319984,
                          0.442572346
                        ],
                        "passed_time": 14.69972357,
                        "iteration": 978,
                        "remaining_time": 0.3153158274,
                        "learn": [
                          0.244993286
                        ]
                      },
                      {
                        "test": [
                          0.8310422906,
                          0.4427492362
                        ],
                        "passed_time": 14.71394243,
                        "iteration": 979,
                        "remaining_time": 0.3002845393,
                        "learn": [
                          0.2448611271
                        ]
                      },
                      {
                        "test": [
                          0.8311431541,
                          0.4427810442
                        ],
                        "passed_time": 14.72902262,
                        "iteration": 980,
                        "remaining_time": 0.28527159,
                        "learn": [
                          0.2447742713
                        ]
                      },
                      {
                        "test": [
                          0.8311555048,
                          0.4427751626
                        ],
                        "passed_time": 14.74366335,
                        "iteration": 981,
                        "remaining_time": 0.2702504484,
                        "learn": [
                          0.2446779631
                        ]
                      },
                      {
                        "test": [
                          0.8310916932,
                          0.4428389281
                        ],
                        "passed_time": 14.75708573,
                        "iteration": 982,
                        "remaining_time": 0.2552090105,
                        "learn": [
                          0.2446268826
                        ]
                      },
                      {
                        "test": [
                          0.8310566997,
                          0.4428156934
                        ],
                        "passed_time": 14.77376181,
                        "iteration": 983,
                        "remaining_time": 0.2402237693,
                        "learn": [
                          0.2444422687
                        ]
                      },
                      {
                        "test": [
                          0.831062875,
                          0.4428062059
                        ],
                        "passed_time": 14.78807992,
                        "iteration": 984,
                        "remaining_time": 0.2251991866,
                        "learn": [
                          0.244325808
                        ]
                      },
                      {
                        "test": [
                          0.8310258231,
                          0.4428337637
                        ],
                        "passed_time": 14.80302687,
                        "iteration": 985,
                        "remaining_time": 0.2101849657,
                        "learn": [
                          0.2442588169
                        ]
                      },
                      {
                        "test": [
                          0.8310258231,
                          0.4428329825
                        ],
                        "passed_time": 14.81715289,
                        "iteration": 986,
                        "remaining_time": 0.1951600685,
                        "learn": [
                          0.2442516577
                        ]
                      },
                      {
                        "test": [
                          0.8310237647,
                          0.4428467175
                        ],
                        "passed_time": 14.83356384,
                        "iteration": 987,
                        "remaining_time": 0.180164743,
                        "learn": [
                          0.2440818878
                        ]
                      },
                      {
                        "test": [
                          0.8310999269,
                          0.4427493667
                        ],
                        "passed_time": 14.85021198,
                        "iteration": 988,
                        "remaining_time": 0.1651691929,
                        "learn": [
                          0.243949852
                        ]
                      },
                      {
                        "test": [
                          0.8310649335,
                          0.4427774454
                        ],
                        "passed_time": 14.86628679,
                        "iteration": 989,
                        "remaining_time": 0.150164513,
                        "learn": [
                          0.2438774894
                        ]
                      },
                      {
                        "test": [
                          0.8310258231,
                          0.4428082659
                        ],
                        "passed_time": 14.87895662,
                        "iteration": 990,
                        "remaining_time": 0.1351267503,
                        "learn": [
                          0.243840877
                        ]
                      },
                      {
                        "test": [
                          0.8309434856,
                          0.4429957291
                        ],
                        "passed_time": 14.89277128,
                        "iteration": 991,
                        "remaining_time": 0.1201029942,
                        "learn": [
                          0.2436249666
                        ]
                      },
                      {
                        "test": [
                          0.8309311349,
                          0.4430249657
                        ],
                        "passed_time": 14.90751697,
                        "iteration": 992,
                        "remaining_time": 0.1050882365,
                        "learn": [
                          0.2436190921
                        ]
                      },
                      {
                        "test": [
                          0.8308817324,
                          0.443007797
                        ],
                        "passed_time": 14.92208672,
                        "iteration": 993,
                        "remaining_time": 0.09007295809,
                        "learn": [
                          0.2435438457
                        ]
                      },
                      {
                        "test": [
                          0.8308734986,
                          0.4430384021
                        ],
                        "passed_time": 14.93734473,
                        "iteration": 994,
                        "remaining_time": 0.07506203384,
                        "learn": [
                          0.2435258979
                        ]
                      },
                      {
                        "test": [
                          0.8309331934,
                          0.4430167918
                        ],
                        "passed_time": 14.95286798,
                        "iteration": 995,
                        "remaining_time": 0.06005167865,
                        "learn": [
                          0.2434767373
                        ]
                      },
                      {
                        "test": [
                          0.8309393687,
                          0.4430121543
                        ],
                        "passed_time": 14.96746708,
                        "iteration": 996,
                        "remaining_time": 0.04503751377,
                        "learn": [
                          0.2434622603
                        ]
                      },
                      {
                        "test": [
                          0.8309661284,
                          0.4429934284
                        ],
                        "passed_time": 14.98139983,
                        "iteration": 997,
                        "remaining_time": 0.03002284535,
                        "learn": [
                          0.2433956463
                        ]
                      },
                      {
                        "test": [
                          0.830927018,
                          0.4430338845
                        ],
                        "passed_time": 14.99566756,
                        "iteration": 998,
                        "remaining_time": 0.01501067824,
                        "learn": [
                          0.2433278303
                        ]
                      },
                      {
                        "test": [
                          0.8308446805,
                          0.4430862549
                        ],
                        "passed_time": 15.00861192,
                        "iteration": 999,
                        "remaining_time": 0,
                        "learn": [
                          0.2432850607
                        ]
                      }
                    ]
                  },
                  "total_iterations": 1000,
                  "passed_iterations": 999
                },
                "path": "catboost_info",
                "name": "catboost_info"
              }
            },
            "_view_module": "catboost-widget",
            "_model_module_version": "^1.0.0",
            "_view_count": null,
            "_view_module_version": "^1.0.0",
            "layout": "IPY_MODEL_6f92004d7641414486c53b2adddd75c3",
            "_model_module": "catboost-widget"
          }
        },
        "6f02f3e24e5c4df4b80daf7f2c9626ba": {
          "model_module": "catboost-widget",
          "model_name": "CatboostWidgetModel",
          "model_module_version": "^1.0.0",
          "state": {
            "_view_name": "CatboostWidgetView",
            "_dom_classes": [],
            "_model_name": "CatboostWidgetModel",
            "data": {
              "catboost_info": {
                "content": {
                  "data": {
                    "meta": {
                      "name": "experiment",
                      "parameters": "parameters",
                      "test_metrics": [
                        {
                          "best_value": "Max",
                          "name": "AUC"
                        },
                        {
                          "best_value": "Min",
                          "name": "Logloss"
                        }
                      ],
                      "learn_sets": [
                        "learn"
                      ],
                      "launch_mode": "Train",
                      "learn_metrics": [
                        {
                          "best_value": "Min",
                          "name": "Logloss"
                        }
                      ],
                      "iteration_count": 30,
                      "test_sets": [
                        "test"
                      ]
                    },
                    "iterations": [
                      {
                        "parameters": [
                          {
                            "learning_rate": 100,
                            "iterations": 100
                          }
                        ],
                        "iteration": 0,
                        "remaining_time": 1.195043551,
                        "passed_time": 0.04120839832,
                        "learn": [
                          19.13075099
                        ],
                        "test": [
                          0.7836161442,
                          22.78758157
                        ]
                      },
                      {
                        "parameters": [
                          {
                            "learning_rate": 10,
                            "iterations": 100
                          }
                        ],
                        "iteration": 1,
                        "remaining_time": 1.014661729,
                        "passed_time": 0.07247583781,
                        "learn": [
                          1.924786176
                        ],
                        "test": [
                          0.7836161442,
                          2.292803566
                        ]
                      },
                      {
                        "parameters": [
                          {
                            "learning_rate": 1,
                            "iterations": 100
                          }
                        ],
                        "iteration": 2,
                        "remaining_time": 6.410765994,
                        "passed_time": 0.7123073327,
                        "learn": [
                          0.1084510278
                        ],
                        "test": [
                          0.8233726392,
                          0.4437383926
                        ]
                      },
                      {
                        "parameters": [
                          {
                            "learning_rate": 0.1,
                            "iterations": 100
                          }
                        ],
                        "iteration": 3,
                        "remaining_time": 8.542853543,
                        "passed_time": 1.31428516,
                        "learn": [
                          0.3437801148
                        ],
                        "test": [
                          0.8323698591,
                          0.4231238739
                        ]
                      },
                      {
                        "parameters": [
                          {
                            "learning_rate": 0.01,
                            "iterations": 100
                          }
                        ],
                        "iteration": 4,
                        "remaining_time": 9.647649622,
                        "passed_time": 1.929529924,
                        "learn": [
                          0.4482796863
                        ],
                        "test": [
                          0.8319144857,
                          0.4567403349
                        ]
                      },
                      {
                        "parameters": [
                          {
                            "learning_rate": 0.001,
                            "iterations": 100
                          }
                        ],
                        "iteration": 5,
                        "remaining_time": 10.33922515,
                        "passed_time": 2.584806288,
                        "learn": [
                          0.6389015349
                        ],
                        "test": [
                          0.8195331224,
                          0.6396787012
                        ]
                      },
                      {
                        "parameters": [
                          {
                            "learning_rate": 100,
                            "iterations": 200
                          }
                        ],
                        "iteration": 6,
                        "remaining_time": 9.746765506,
                        "passed_time": 2.966406893,
                        "learn": [
                          19.17640142
                        ],
                        "test": [
                          0.7879925223,
                          20.77109205
                        ]
                      },
                      {
                        "parameters": [
                          {
                            "learning_rate": 10,
                            "iterations": 200
                          }
                        ],
                        "iteration": 7,
                        "remaining_time": 8.390770867,
                        "passed_time": 3.051189406,
                        "learn": [
                          1.929530217
                        ],
                        "test": [
                          0.7879925223,
                          2.088640913
                        ]
                      },
                      {
                        "parameters": [
                          {
                            "learning_rate": 1,
                            "iterations": 200
                          }
                        ],
                        "iteration": 8,
                        "remaining_time": 13.26955449,
                        "passed_time": 5.686951926,
                        "learn": [
                          0.04027060817
                        ],
                        "test": [
                          0.8126785543,
                          0.4544568942
                        ]
                      },
                      {
                        "parameters": [
                          {
                            "learning_rate": 0.1,
                            "iterations": 200
                          }
                        ],
                        "iteration": 9,
                        "remaining_time": 16.35669437,
                        "passed_time": 8.178347187,
                        "learn": [
                          0.2851077371
                        ],
                        "test": [
                          0.8381650848,
                          0.4158170022
                        ]
                      },
                      {
                        "parameters": [
                          {
                            "learning_rate": 0.01,
                            "iterations": 200
                          }
                        ],
                        "iteration": 10,
                        "remaining_time": 18.15043731,
                        "passed_time": 10.50814792,
                        "learn": [
                          0.4037794143
                        ],
                        "test": [
                          0.8347617678,
                          0.4260965105
                        ]
                      },
                      {
                        "parameters": [
                          {
                            "learning_rate": 0.001,
                            "iterations": 200
                          }
                        ],
                        "iteration": 11,
                        "remaining_time": 18.98624439,
                        "passed_time": 12.65749626,
                        "learn": [
                          0.5900060697
                        ],
                        "test": [
                          0.8215990797,
                          0.5935905422
                        ]
                      },
                      {
                        "parameters": [
                          {
                            "learning_rate": 100,
                            "iterations": 300
                          }
                        ],
                        "iteration": 12,
                        "remaining_time": 17.28399893,
                        "passed_time": 13.21717565,
                        "learn": [
                          19.17640142
                        ],
                        "test": [
                          0.7879925223,
                          20.77109205
                        ]
                      },
                      {
                        "parameters": [
                          {
                            "learning_rate": 10,
                            "iterations": 300
                          }
                        ],
                        "iteration": 13,
                        "remaining_time": 15.18990583,
                        "passed_time": 13.2911676,
                        "learn": [
                          1.929530217
                        ],
                        "test": [
                          0.7879925223,
                          2.088640913
                        ]
                      },
                      {
                        "parameters": [
                          {
                            "learning_rate": 1,
                            "iterations": 300
                          }
                        ],
                        "iteration": 14,
                        "remaining_time": 17.23191101,
                        "passed_time": 17.23191101,
                        "learn": [
                          0.01936890681
                        ],
                        "test": [
                          0.8126785543,
                          0.4544568942
                        ]
                      },
                      {
                        "parameters": [
                          {
                            "learning_rate": 0.1,
                            "iterations": 300
                          }
                        ],
                        "iteration": 15,
                        "remaining_time": 18.44268195,
                        "passed_time": 21.0773508,
                        "learn": [
                          0.2449748326
                        ],
                        "test": [
                          0.8381650848,
                          0.4158170022
                        ]
                      },
                      {
                        "parameters": [
                          {
                            "learning_rate": 0.01,
                            "iterations": 300
                          }
                        ],
                        "iteration": 16,
                        "remaining_time": 18.79500685,
                        "passed_time": 24.57808589,
                        "learn": [
                          0.3889055866
                        ],
                        "test": [
                          0.8364106989,
                          0.4198864135
                        ]
                      },
                      {
                        "parameters": [
                          {
                            "learning_rate": 0.001,
                            "iterations": 300
                          }
                        ],
                        "iteration": 17,
                        "remaining_time": 18.56176672,
                        "passed_time": 27.84265009,
                        "learn": [
                          0.5549194856
                        ],
                        "test": [
                          0.8231809031,
                          0.5597868355
                        ]
                      },
                      {
                        "parameters": [
                          {
                            "learning_rate": 100,
                            "iterations": 400
                          }
                        ],
                        "iteration": 18,
                        "remaining_time": 16.53315028,
                        "passed_time": 28.55725958,
                        "learn": [
                          19.17640142
                        ],
                        "test": [
                          0.7879925223,
                          20.77109205
                        ]
                      },
                      {
                        "parameters": [
                          {
                            "learning_rate": 10,
                            "iterations": 400
                          }
                        ],
                        "iteration": 19,
                        "remaining_time": 14.3123564,
                        "passed_time": 28.6247128,
                        "learn": [
                          1.929530217
                        ],
                        "test": [
                          0.7879925223,
                          2.088640913
                        ]
                      },
                      {
                        "parameters": [
                          {
                            "learning_rate": 1,
                            "iterations": 400
                          }
                        ],
                        "iteration": 20,
                        "remaining_time": 14.51317317,
                        "passed_time": 33.86407073,
                        "learn": [
                          0.01157786044
                        ],
                        "test": [
                          0.8126785543,
                          0.4544568942
                        ]
                      },
                      {
                        "parameters": [
                          {
                            "learning_rate": 0.1,
                            "iterations": 400
                          }
                        ],
                        "iteration": 21,
                        "remaining_time": 14.18100384,
                        "passed_time": 38.99776056,
                        "learn": [
                          0.2118273406
                        ],
                        "test": [
                          0.8381650848,
                          0.4158170022
                        ]
                      },
                      {
                        "parameters": [
                          {
                            "learning_rate": 0.01,
                            "iterations": 400
                          }
                        ],
                        "iteration": 22,
                        "remaining_time": 13.29343097,
                        "passed_time": 43.67841605,
                        "learn": [
                          0.3801469611
                        ],
                        "test": [
                          0.8368900393,
                          0.4179973709
                        ]
                      },
                      {
                        "parameters": [
                          {
                            "learning_rate": 0.001,
                            "iterations": 400
                          }
                        ],
                        "iteration": 23,
                        "remaining_time": 11.99955343,
                        "passed_time": 47.99821373,
                        "learn": [
                          0.5273548346
                        ],
                        "test": [
                          0.8266225673,
                          0.5328254953
                        ]
                      },
                      {
                        "parameters": [
                          {
                            "learning_rate": 100,
                            "iterations": 500
                          }
                        ],
                        "iteration": 24,
                        "remaining_time": 9.77323719,
                        "passed_time": 48.86618595,
                        "learn": [
                          19.17640142
                        ],
                        "test": [
                          0.7879925223,
                          20.77109205
                        ]
                      },
                      {
                        "parameters": [
                          {
                            "learning_rate": 10,
                            "iterations": 500
                          }
                        ],
                        "iteration": 25,
                        "remaining_time": 7.528188087,
                        "passed_time": 48.93322256,
                        "learn": [
                          1.929530217
                        ],
                        "test": [
                          0.7879925223,
                          2.088640913
                        ]
                      },
                      {
                        "parameters": [
                          {
                            "learning_rate": 1,
                            "iterations": 500
                          }
                        ],
                        "iteration": 26,
                        "remaining_time": 6.163710457,
                        "passed_time": 55.47339411,
                        "learn": [
                          0.008134787883
                        ],
                        "test": [
                          0.8126785543,
                          0.4544568942
                        ]
                      },
                      {
                        "parameters": [
                          {
                            "learning_rate": 0.1,
                            "iterations": 500
                          }
                        ],
                        "iteration": 27,
                        "remaining_time": 4.430203551,
                        "passed_time": 62.02284971,
                        "learn": [
                          0.1831615555
                        ],
                        "test": [
                          0.8381650848,
                          0.4158170022
                        ]
                      },
                      {
                        "parameters": [
                          {
                            "learning_rate": 0.01,
                            "iterations": 500
                          }
                        ],
                        "iteration": 28,
                        "remaining_time": 2.341103739,
                        "passed_time": 67.89200842,
                        "learn": [
                          0.3728786208
                        ],
                        "test": [
                          0.8368900393,
                          0.4173046745
                        ]
                      },
                      {
                        "parameters": [
                          {
                            "learning_rate": 0.001,
                            "iterations": 500
                          }
                        ],
                        "iteration": 29,
                        "remaining_time": 0,
                        "passed_time": 73.38926546,
                        "learn": [
                          0.5043559835
                        ],
                        "test": [
                          0.827389512,
                          0.510884743
                        ]
                      }
                    ]
                  },
                  "total_iterations": 30,
                  "passed_iterations": 29
                },
                "path": "catboost_info",
                "name": "catboost_info"
              }
            },
            "_view_module": "catboost-widget",
            "_model_module_version": "^1.0.0",
            "_view_count": null,
            "_view_module_version": "^1.0.0",
            "layout": "IPY_MODEL_f70048b0978847c2bce5a65f1786867e",
            "_model_module": "catboost-widget"
          }
        }
      }
    }
  },
  "cells": [
    {
      "cell_type": "markdown",
      "metadata": {
        "id": "TK7oX5qdEEYr"
      },
      "source": [
        "<p style=\"align: center;\"><img align=center src=\"https://s8.hostingkartinok.com/uploads/images/2018/08/308b49fcfbc619d629fe4604bceb67ac.jpg\" width=500 height=450/></p>\n",
        "\n",
        "<h3 style=\"text-align: center;\"><b>Школа глубокого обучения ФПМИ МФТИ</b></h3>\n",
        "\n",
        "<h3 style=\"text-align: center;\"><b>Домашнее задание. Продвинутый поток. Весна 2021</b></h3>\n",
        "\n",
        "Это домашнее задание будет посвящено полноценному решению задачи машинного обучения."
      ]
    },
    {
      "cell_type": "markdown",
      "metadata": {
        "id": "zlB-owfaEEYs"
      },
      "source": [
        "Есть две части этого домашнего задания: \n",
        "* Сделать полноценный отчет о вашей работе: как вы обработали данные, какие модели попробовали и какие результаты получились (максимум 10 баллов). За каждую выполненную часть будет начислено определенное количество баллов.\n",
        "* Лучшее решение отправить в соревнование на [kaggle](https://www.kaggle.com/c/advanced-dls-spring-2021/) (максимум 5 баллов). За прохождение определенного порогов будут начисляться баллы.\n",
        "\n",
        "\n",
        "**Обе части будут проверяться в формате peer-review. Т.е. вашу посылку на степик будут проверять несколько других студентов и аггрегация их оценок будет выставлена. В то же время вам тоже нужно будет проверить несколько других учеников.**\n",
        "\n",
        "**Пожалуйста, делайте свою работу чистой и понятной, чтобы облегчить проверку. Если у вас будут проблемы с решением или хочется совета, то пишите в наш чат в телеграме или в лс @runfme. Если вы захотите проаппелировать оценку, то пипшите в лс @runfme.**\n",
        "\n",
        "**Во всех пунктах указания это минимальный набор вещей, которые стоит сделать. Если вы можете сделать какой-то шаг лучше или добавить что-то свое - дерзайте!**"
      ]
    },
    {
      "cell_type": "markdown",
      "metadata": {
        "id": "Tu_JvqcBEN8Y"
      },
      "source": [
        "# Как проверять?\n",
        "\n",
        "Ставьте полный балл, если выполнены все рекомендации или сделано что-то более интересное и сложное. За каждый отсустствующий пункт из рекомендация снижайте 1 балл."
      ]
    },
    {
      "cell_type": "markdown",
      "metadata": {
        "id": "ninJ63mJEEYt"
      },
      "source": [
        "# Метрика\n",
        "\n",
        "Перед решением любой задачи важно понимать, как будет оцениваться ваше решение. В данном случае мы используем стандартную для задачи классификации метрику ROC-AUC. Ее можно вычислить используя только предсказанные вероятности и истинные классы без конкретного порога классификации + она раотает даже если классы в данных сильно несбалансированны (примеров одного класса в десятки раз больше примеров длугого). Именно поэтому она очень удобна для соревнований.\n",
        "\n",
        "Посчитать ее легко:\n"
      ]
    },
    {
      "cell_type": "code",
      "metadata": {
        "id": "SQIrka7yEEYu",
        "colab": {
          "base_uri": "https://localhost:8080/"
        },
        "outputId": "549e608a-47cb-41df-b95d-be0a96a78395"
      },
      "source": [
        "from sklearn.metrics import roc_auc_score\n",
        "\n",
        "y_true = [\n",
        "    0,\n",
        "    1,\n",
        "    1,\n",
        "    0,\n",
        "    1\n",
        "]\n",
        "\n",
        "y_predictions = [\n",
        "    0.1,\n",
        "    0.9,\n",
        "    0.4,\n",
        "    0.6,\n",
        "    0.61\n",
        "]\n",
        "\n",
        "roc_auc_score(y_true, y_predictions)"
      ],
      "execution_count": null,
      "outputs": [
        {
          "output_type": "execute_result",
          "data": {
            "text/plain": [
              "0.8333333333333333"
            ]
          },
          "metadata": {},
          "execution_count": 1
        }
      ]
    },
    {
      "cell_type": "markdown",
      "metadata": {
        "id": "IrDNNkNTEEYz"
      },
      "source": [
        "# Первая часть. Исследование"
      ]
    },
    {
      "cell_type": "code",
      "metadata": {
        "id": "lzLqEeZKEEYz"
      },
      "source": [
        "import pandas as pd\n",
        "import numpy as np\n",
        "from matplotlib import pyplot as plt"
      ],
      "execution_count": 2,
      "outputs": []
    },
    {
      "cell_type": "markdown",
      "metadata": {
        "id": "LOlxdURSEEY3"
      },
      "source": [
        "## Загрузка данных (2 балла)\n",
        "\n",
        "1) Посмотрите на случайные строчки. \n",
        "\n",
        "2) Посмотрите, есть ли в датасете незаполненные значения (nan'ы) с помощью data.isna() или data.info() и, если нужно, замените их на что-то. Будет хорошо, если вы построите табличку с количеством nan в каждой колонке."
      ]
    },
    {
      "cell_type": "code",
      "metadata": {
        "id": "pw-Brue9EEY3",
        "colab": {
          "base_uri": "https://localhost:8080/"
        },
        "outputId": "46895dc3-4cb8-4c84-adc3-b9c9dbf44592"
      },
      "source": [
        "data = pd.read_csv('train.csv')\n",
        "data.info()"
      ],
      "execution_count": 3,
      "outputs": [
        {
          "output_type": "stream",
          "name": "stdout",
          "text": [
            "<class 'pandas.core.frame.DataFrame'>\n",
            "RangeIndex: 5282 entries, 0 to 5281\n",
            "Data columns (total 20 columns):\n",
            " #   Column                    Non-Null Count  Dtype  \n",
            "---  ------                    --------------  -----  \n",
            " 0   ClientPeriod              5282 non-null   int64  \n",
            " 1   MonthlySpending           5282 non-null   float64\n",
            " 2   TotalSpent                5282 non-null   object \n",
            " 3   Sex                       5282 non-null   object \n",
            " 4   IsSeniorCitizen           5282 non-null   int64  \n",
            " 5   HasPartner                5282 non-null   object \n",
            " 6   HasChild                  5282 non-null   object \n",
            " 7   HasPhoneService           5282 non-null   object \n",
            " 8   HasMultiplePhoneNumbers   5282 non-null   object \n",
            " 9   HasInternetService        5282 non-null   object \n",
            " 10  HasOnlineSecurityService  5282 non-null   object \n",
            " 11  HasOnlineBackup           5282 non-null   object \n",
            " 12  HasDeviceProtection       5282 non-null   object \n",
            " 13  HasTechSupportAccess      5282 non-null   object \n",
            " 14  HasOnlineTV               5282 non-null   object \n",
            " 15  HasMovieSubscription      5282 non-null   object \n",
            " 16  HasContractPhone          5282 non-null   object \n",
            " 17  IsBillingPaperless        5282 non-null   object \n",
            " 18  PaymentMethod             5282 non-null   object \n",
            " 19  Churn                     5282 non-null   int64  \n",
            "dtypes: float64(1), int64(3), object(16)\n",
            "memory usage: 825.4+ KB\n"
          ]
        }
      ]
    },
    {
      "cell_type": "code",
      "metadata": {
        "id": "KgnkkF5bEEY9"
      },
      "source": [
        "# Для вашего удобства списки с именами разных колонок\n",
        "\n",
        "# Числовые признаки\n",
        "num_cols = [\n",
        "    'ClientPeriod',\n",
        "    'MonthlySpending',\n",
        "    'TotalSpent'\n",
        "]\n",
        "\n",
        "# Категориальные признаки\n",
        "cat_cols = [\n",
        "    'Sex',\n",
        "    'IsSeniorCitizen',\n",
        "    'HasPartner',\n",
        "    'HasChild',\n",
        "    'HasPhoneService',\n",
        "    'HasMultiplePhoneNumbers',\n",
        "    'HasInternetService',\n",
        "    'HasOnlineSecurityService',\n",
        "    'HasOnlineBackup',\n",
        "    'HasDeviceProtection',\n",
        "    'HasTechSupportAccess',\n",
        "    'HasOnlineTV',\n",
        "    'HasMovieSubscription',\n",
        "    'HasContractPhone',\n",
        "    'IsBillingPaperless',\n",
        "    'PaymentMethod'\n",
        "]\n",
        "\n",
        "feature_cols = num_cols + cat_cols\n",
        "target_col = 'Churn'"
      ],
      "execution_count": 4,
      "outputs": []
    },
    {
      "cell_type": "code",
      "metadata": {
        "colab": {
          "base_uri": "https://localhost:8080/",
          "height": 531
        },
        "id": "TgSmiBX8By76",
        "outputId": "988318d6-5596-4ee4-f570-66802d53e0ed"
      },
      "source": [
        "data"
      ],
      "execution_count": null,
      "outputs": [
        {
          "output_type": "execute_result",
          "data": {
            "text/html": [
              "<div>\n",
              "<style scoped>\n",
              "    .dataframe tbody tr th:only-of-type {\n",
              "        vertical-align: middle;\n",
              "    }\n",
              "\n",
              "    .dataframe tbody tr th {\n",
              "        vertical-align: top;\n",
              "    }\n",
              "\n",
              "    .dataframe thead th {\n",
              "        text-align: right;\n",
              "    }\n",
              "</style>\n",
              "<table border=\"1\" class=\"dataframe\">\n",
              "  <thead>\n",
              "    <tr style=\"text-align: right;\">\n",
              "      <th></th>\n",
              "      <th>ClientPeriod</th>\n",
              "      <th>MonthlySpending</th>\n",
              "      <th>TotalSpent</th>\n",
              "      <th>Sex</th>\n",
              "      <th>IsSeniorCitizen</th>\n",
              "      <th>HasPartner</th>\n",
              "      <th>HasChild</th>\n",
              "      <th>HasPhoneService</th>\n",
              "      <th>HasMultiplePhoneNumbers</th>\n",
              "      <th>HasInternetService</th>\n",
              "      <th>HasOnlineSecurityService</th>\n",
              "      <th>HasOnlineBackup</th>\n",
              "      <th>HasDeviceProtection</th>\n",
              "      <th>HasTechSupportAccess</th>\n",
              "      <th>HasOnlineTV</th>\n",
              "      <th>HasMovieSubscription</th>\n",
              "      <th>HasContractPhone</th>\n",
              "      <th>IsBillingPaperless</th>\n",
              "      <th>PaymentMethod</th>\n",
              "      <th>Churn</th>\n",
              "    </tr>\n",
              "  </thead>\n",
              "  <tbody>\n",
              "    <tr>\n",
              "      <th>0</th>\n",
              "      <td>55</td>\n",
              "      <td>19.50</td>\n",
              "      <td>1026.35</td>\n",
              "      <td>Male</td>\n",
              "      <td>0</td>\n",
              "      <td>Yes</td>\n",
              "      <td>Yes</td>\n",
              "      <td>Yes</td>\n",
              "      <td>No</td>\n",
              "      <td>No</td>\n",
              "      <td>No internet service</td>\n",
              "      <td>No internet service</td>\n",
              "      <td>No internet service</td>\n",
              "      <td>No internet service</td>\n",
              "      <td>No internet service</td>\n",
              "      <td>No internet service</td>\n",
              "      <td>One year</td>\n",
              "      <td>No</td>\n",
              "      <td>Mailed check</td>\n",
              "      <td>0</td>\n",
              "    </tr>\n",
              "    <tr>\n",
              "      <th>1</th>\n",
              "      <td>72</td>\n",
              "      <td>25.85</td>\n",
              "      <td>1872.2</td>\n",
              "      <td>Male</td>\n",
              "      <td>0</td>\n",
              "      <td>Yes</td>\n",
              "      <td>No</td>\n",
              "      <td>Yes</td>\n",
              "      <td>Yes</td>\n",
              "      <td>No</td>\n",
              "      <td>No internet service</td>\n",
              "      <td>No internet service</td>\n",
              "      <td>No internet service</td>\n",
              "      <td>No internet service</td>\n",
              "      <td>No internet service</td>\n",
              "      <td>No internet service</td>\n",
              "      <td>Two year</td>\n",
              "      <td>No</td>\n",
              "      <td>Credit card (automatic)</td>\n",
              "      <td>0</td>\n",
              "    </tr>\n",
              "    <tr>\n",
              "      <th>2</th>\n",
              "      <td>1</td>\n",
              "      <td>75.90</td>\n",
              "      <td>75.9</td>\n",
              "      <td>Male</td>\n",
              "      <td>0</td>\n",
              "      <td>No</td>\n",
              "      <td>No</td>\n",
              "      <td>Yes</td>\n",
              "      <td>No</td>\n",
              "      <td>Fiber optic</td>\n",
              "      <td>No</td>\n",
              "      <td>No</td>\n",
              "      <td>No</td>\n",
              "      <td>Yes</td>\n",
              "      <td>No</td>\n",
              "      <td>No</td>\n",
              "      <td>Month-to-month</td>\n",
              "      <td>Yes</td>\n",
              "      <td>Electronic check</td>\n",
              "      <td>1</td>\n",
              "    </tr>\n",
              "    <tr>\n",
              "      <th>3</th>\n",
              "      <td>32</td>\n",
              "      <td>79.30</td>\n",
              "      <td>2570</td>\n",
              "      <td>Female</td>\n",
              "      <td>1</td>\n",
              "      <td>Yes</td>\n",
              "      <td>No</td>\n",
              "      <td>Yes</td>\n",
              "      <td>Yes</td>\n",
              "      <td>Fiber optic</td>\n",
              "      <td>No</td>\n",
              "      <td>No</td>\n",
              "      <td>Yes</td>\n",
              "      <td>No</td>\n",
              "      <td>No</td>\n",
              "      <td>No</td>\n",
              "      <td>Month-to-month</td>\n",
              "      <td>No</td>\n",
              "      <td>Mailed check</td>\n",
              "      <td>0</td>\n",
              "    </tr>\n",
              "    <tr>\n",
              "      <th>4</th>\n",
              "      <td>60</td>\n",
              "      <td>115.25</td>\n",
              "      <td>6758.45</td>\n",
              "      <td>Female</td>\n",
              "      <td>0</td>\n",
              "      <td>Yes</td>\n",
              "      <td>Yes</td>\n",
              "      <td>Yes</td>\n",
              "      <td>Yes</td>\n",
              "      <td>Fiber optic</td>\n",
              "      <td>Yes</td>\n",
              "      <td>Yes</td>\n",
              "      <td>Yes</td>\n",
              "      <td>Yes</td>\n",
              "      <td>Yes</td>\n",
              "      <td>Yes</td>\n",
              "      <td>Two year</td>\n",
              "      <td>No</td>\n",
              "      <td>Credit card (automatic)</td>\n",
              "      <td>0</td>\n",
              "    </tr>\n",
              "    <tr>\n",
              "      <th>...</th>\n",
              "      <td>...</td>\n",
              "      <td>...</td>\n",
              "      <td>...</td>\n",
              "      <td>...</td>\n",
              "      <td>...</td>\n",
              "      <td>...</td>\n",
              "      <td>...</td>\n",
              "      <td>...</td>\n",
              "      <td>...</td>\n",
              "      <td>...</td>\n",
              "      <td>...</td>\n",
              "      <td>...</td>\n",
              "      <td>...</td>\n",
              "      <td>...</td>\n",
              "      <td>...</td>\n",
              "      <td>...</td>\n",
              "      <td>...</td>\n",
              "      <td>...</td>\n",
              "      <td>...</td>\n",
              "      <td>...</td>\n",
              "    </tr>\n",
              "    <tr>\n",
              "      <th>5277</th>\n",
              "      <td>3</td>\n",
              "      <td>30.40</td>\n",
              "      <td>82.15</td>\n",
              "      <td>Male</td>\n",
              "      <td>0</td>\n",
              "      <td>No</td>\n",
              "      <td>No</td>\n",
              "      <td>No</td>\n",
              "      <td>No phone service</td>\n",
              "      <td>DSL</td>\n",
              "      <td>No</td>\n",
              "      <td>No</td>\n",
              "      <td>No</td>\n",
              "      <td>Yes</td>\n",
              "      <td>No</td>\n",
              "      <td>No</td>\n",
              "      <td>Month-to-month</td>\n",
              "      <td>No</td>\n",
              "      <td>Electronic check</td>\n",
              "      <td>0</td>\n",
              "    </tr>\n",
              "    <tr>\n",
              "      <th>5278</th>\n",
              "      <td>50</td>\n",
              "      <td>44.45</td>\n",
              "      <td>2188.45</td>\n",
              "      <td>Male</td>\n",
              "      <td>0</td>\n",
              "      <td>Yes</td>\n",
              "      <td>No</td>\n",
              "      <td>No</td>\n",
              "      <td>No phone service</td>\n",
              "      <td>DSL</td>\n",
              "      <td>Yes</td>\n",
              "      <td>No</td>\n",
              "      <td>No</td>\n",
              "      <td>Yes</td>\n",
              "      <td>Yes</td>\n",
              "      <td>No</td>\n",
              "      <td>One year</td>\n",
              "      <td>Yes</td>\n",
              "      <td>Bank transfer (automatic)</td>\n",
              "      <td>0</td>\n",
              "    </tr>\n",
              "    <tr>\n",
              "      <th>5279</th>\n",
              "      <td>1</td>\n",
              "      <td>55.05</td>\n",
              "      <td>55.05</td>\n",
              "      <td>Male</td>\n",
              "      <td>0</td>\n",
              "      <td>No</td>\n",
              "      <td>No</td>\n",
              "      <td>Yes</td>\n",
              "      <td>No</td>\n",
              "      <td>DSL</td>\n",
              "      <td>No</td>\n",
              "      <td>No</td>\n",
              "      <td>Yes</td>\n",
              "      <td>Yes</td>\n",
              "      <td>No</td>\n",
              "      <td>No</td>\n",
              "      <td>Month-to-month</td>\n",
              "      <td>No</td>\n",
              "      <td>Mailed check</td>\n",
              "      <td>0</td>\n",
              "    </tr>\n",
              "    <tr>\n",
              "      <th>5280</th>\n",
              "      <td>29</td>\n",
              "      <td>76.00</td>\n",
              "      <td>2215.25</td>\n",
              "      <td>Female</td>\n",
              "      <td>0</td>\n",
              "      <td>No</td>\n",
              "      <td>No</td>\n",
              "      <td>Yes</td>\n",
              "      <td>Yes</td>\n",
              "      <td>Fiber optic</td>\n",
              "      <td>No</td>\n",
              "      <td>No</td>\n",
              "      <td>No</td>\n",
              "      <td>No</td>\n",
              "      <td>No</td>\n",
              "      <td>No</td>\n",
              "      <td>Month-to-month</td>\n",
              "      <td>Yes</td>\n",
              "      <td>Credit card (automatic)</td>\n",
              "      <td>0</td>\n",
              "    </tr>\n",
              "    <tr>\n",
              "      <th>5281</th>\n",
              "      <td>19</td>\n",
              "      <td>75.90</td>\n",
              "      <td>1375.6</td>\n",
              "      <td>Female</td>\n",
              "      <td>0</td>\n",
              "      <td>No</td>\n",
              "      <td>Yes</td>\n",
              "      <td>Yes</td>\n",
              "      <td>Yes</td>\n",
              "      <td>DSL</td>\n",
              "      <td>Yes</td>\n",
              "      <td>Yes</td>\n",
              "      <td>No</td>\n",
              "      <td>Yes</td>\n",
              "      <td>Yes</td>\n",
              "      <td>No</td>\n",
              "      <td>Month-to-month</td>\n",
              "      <td>Yes</td>\n",
              "      <td>Mailed check</td>\n",
              "      <td>0</td>\n",
              "    </tr>\n",
              "  </tbody>\n",
              "</table>\n",
              "<p>5282 rows × 20 columns</p>\n",
              "</div>"
            ],
            "text/plain": [
              "      ClientPeriod  MonthlySpending  ...              PaymentMethod Churn\n",
              "0               55            19.50  ...               Mailed check     0\n",
              "1               72            25.85  ...    Credit card (automatic)     0\n",
              "2                1            75.90  ...           Electronic check     1\n",
              "3               32            79.30  ...               Mailed check     0\n",
              "4               60           115.25  ...    Credit card (automatic)     0\n",
              "...            ...              ...  ...                        ...   ...\n",
              "5277             3            30.40  ...           Electronic check     0\n",
              "5278            50            44.45  ...  Bank transfer (automatic)     0\n",
              "5279             1            55.05  ...               Mailed check     0\n",
              "5280            29            76.00  ...    Credit card (automatic)     0\n",
              "5281            19            75.90  ...               Mailed check     0\n",
              "\n",
              "[5282 rows x 20 columns]"
            ]
          },
          "metadata": {},
          "execution_count": 25
        }
      ]
    },
    {
      "cell_type": "code",
      "metadata": {
        "colab": {
          "base_uri": "https://localhost:8080/"
        },
        "id": "wyAwyjL49wQm",
        "outputId": "6d166637-15f8-4a8f-ec5a-db2b47069589"
      },
      "source": [
        "data.isna().sum()"
      ],
      "execution_count": 5,
      "outputs": [
        {
          "output_type": "execute_result",
          "data": {
            "text/plain": [
              "ClientPeriod                0\n",
              "MonthlySpending             0\n",
              "TotalSpent                  0\n",
              "Sex                         0\n",
              "IsSeniorCitizen             0\n",
              "HasPartner                  0\n",
              "HasChild                    0\n",
              "HasPhoneService             0\n",
              "HasMultiplePhoneNumbers     0\n",
              "HasInternetService          0\n",
              "HasOnlineSecurityService    0\n",
              "HasOnlineBackup             0\n",
              "HasDeviceProtection         0\n",
              "HasTechSupportAccess        0\n",
              "HasOnlineTV                 0\n",
              "HasMovieSubscription        0\n",
              "HasContractPhone            0\n",
              "IsBillingPaperless          0\n",
              "PaymentMethod               0\n",
              "Churn                       0\n",
              "dtype: int64"
            ]
          },
          "metadata": {},
          "execution_count": 5
        }
      ]
    },
    {
      "cell_type": "code",
      "metadata": {
        "colab": {
          "base_uri": "https://localhost:8080/"
        },
        "id": "5-yFmoj7T1y9",
        "outputId": "10a09e74-e98b-4a9d-edc1-9e8e7daddf08"
      },
      "source": [
        "neg = data.loc[data['TotalSpent'] == ' ']\n",
        "print(neg)"
      ],
      "execution_count": 6,
      "outputs": [
        {
          "output_type": "stream",
          "name": "stdout",
          "text": [
            "      ClientPeriod  MonthlySpending  ...              PaymentMethod Churn\n",
            "1048             0            25.75  ...               Mailed check     0\n",
            "1707             0            73.35  ...               Mailed check     0\n",
            "2543             0            19.70  ...               Mailed check     0\n",
            "3078             0            80.85  ...               Mailed check     0\n",
            "3697             0            20.00  ...               Mailed check     0\n",
            "4002             0            61.90  ...  Bank transfer (automatic)     0\n",
            "4326             0            25.35  ...               Mailed check     0\n",
            "4551             0            52.55  ...  Bank transfer (automatic)     0\n",
            "4598             0            56.05  ...    Credit card (automatic)     0\n",
            "\n",
            "[9 rows x 20 columns]\n"
          ]
        }
      ]
    },
    {
      "cell_type": "code",
      "metadata": {
        "id": "h1r6yqOk-bNQ"
      },
      "source": [
        "data = data.loc[data['TotalSpent'] != ' ']"
      ],
      "execution_count": 7,
      "outputs": []
    },
    {
      "cell_type": "code",
      "metadata": {
        "id": "2ACd9p5VEGWl"
      },
      "source": [
        "data['TotalSpent'] = data['TotalSpent'].astype(float)"
      ],
      "execution_count": 8,
      "outputs": []
    },
    {
      "cell_type": "code",
      "metadata": {
        "colab": {
          "base_uri": "https://localhost:8080/"
        },
        "id": "tn6r6Gz_GxpG",
        "outputId": "92300fd9-7f1e-4a56-acb6-5930d7fd13e9"
      },
      "source": [
        "data.info()"
      ],
      "execution_count": null,
      "outputs": [
        {
          "output_type": "stream",
          "name": "stdout",
          "text": [
            "<class 'pandas.core.frame.DataFrame'>\n",
            "Int64Index: 5273 entries, 0 to 5281\n",
            "Data columns (total 20 columns):\n",
            " #   Column                    Non-Null Count  Dtype  \n",
            "---  ------                    --------------  -----  \n",
            " 0   ClientPeriod              5273 non-null   int64  \n",
            " 1   MonthlySpending           5273 non-null   float64\n",
            " 2   TotalSpent                5273 non-null   float64\n",
            " 3   Sex                       5273 non-null   object \n",
            " 4   IsSeniorCitizen           5273 non-null   int64  \n",
            " 5   HasPartner                5273 non-null   object \n",
            " 6   HasChild                  5273 non-null   object \n",
            " 7   HasPhoneService           5273 non-null   object \n",
            " 8   HasMultiplePhoneNumbers   5273 non-null   object \n",
            " 9   HasInternetService        5273 non-null   object \n",
            " 10  HasOnlineSecurityService  5273 non-null   object \n",
            " 11  HasOnlineBackup           5273 non-null   object \n",
            " 12  HasDeviceProtection       5273 non-null   object \n",
            " 13  HasTechSupportAccess      5273 non-null   object \n",
            " 14  HasOnlineTV               5273 non-null   object \n",
            " 15  HasMovieSubscription      5273 non-null   object \n",
            " 16  HasContractPhone          5273 non-null   object \n",
            " 17  IsBillingPaperless        5273 non-null   object \n",
            " 18  PaymentMethod             5273 non-null   object \n",
            " 19  Churn                     5273 non-null   int64  \n",
            "dtypes: float64(2), int64(3), object(15)\n",
            "memory usage: 865.1+ KB\n"
          ]
        }
      ]
    },
    {
      "cell_type": "code",
      "metadata": {
        "id": "ig3dHC8iBw3Z"
      },
      "source": [
        "y_train = data['Churn']\n",
        "x_train = data.drop(['Churn'], axis = 1)"
      ],
      "execution_count": 9,
      "outputs": []
    },
    {
      "cell_type": "markdown",
      "metadata": {
        "id": "dK370bPCEEZD"
      },
      "source": [
        "## Анализ данных (3 балла)\n",
        "\n",
        "1) Для численных призанков постройте гистограмму (*plt.hist(...)*) или boxplot (*plt.boxplot(...)*). Для категориальных посчитайте количество каждого значения для каждого признака. Для каждой колонки надо сделать *data.value_counts()* и построить bar диаграммы *plt.bar(...)* или круговые диаграммы *plt.pie(...)* (хорошо, елси вы сможете это сделать на одном гарфике с помощью *plt.subplots(...)*). \n",
        "\n",
        "2) Посмотрите на распределение целевой переменной и скажите, являются ли классы несбалансированными.\n",
        "\n",
        "3) (Если будет желание) Поиграйте с разными библиотеками для визуализации - *sns*, *pandas_visual_analysis*, etc.\n",
        "\n",
        "Второй пункт очень важен, потому что существуют задачи классификации с несбалансированными классами. Например, это может значить, что в датасете намного больше примеров 0 класса. В таких случаях нужно 1) не использовать accuracy как метрику 2) использовать методы борьбы с imbalanced dataset (обычно если датасет сильно несбалансирован, т.е. класса 1 в 20 раз меньше класса 0)."
      ]
    },
    {
      "cell_type": "code",
      "metadata": {
        "id": "NZkbgFJZEEZE",
        "colab": {
          "base_uri": "https://localhost:8080/",
          "height": 589
        },
        "outputId": "c8b9ad27-02d9-4c1a-bf65-bb78e260333a"
      },
      "source": [
        "# YOUR CODE\n",
        "x_train.hist(column=num_cols, figsize=(20, 8), bins = 20)"
      ],
      "execution_count": 10,
      "outputs": [
        {
          "output_type": "execute_result",
          "data": {
            "text/plain": [
              "array([[<matplotlib.axes._subplots.AxesSubplot object at 0x7f7ffa8e3990>,\n",
              "        <matplotlib.axes._subplots.AxesSubplot object at 0x7f7fed512450>],\n",
              "       [<matplotlib.axes._subplots.AxesSubplot object at 0x7f7fed4cb9d0>,\n",
              "        <matplotlib.axes._subplots.AxesSubplot object at 0x7f7fed483590>]],\n",
              "      dtype=object)"
            ]
          },
          "metadata": {},
          "execution_count": 10
        },
        {
          "output_type": "display_data",
          "data": {
            "image/png": "[encoded data removed]",
            "text/plain": [
              "<Figure size 1440x576 with 4 Axes>"
            ]
          },
          "metadata": {
            "needs_background": "light"
          }
        }
      ]
    },
    {
      "cell_type": "code",
      "metadata": {
        "colab": {
          "base_uri": "https://localhost:8080/",
          "height": 1000
        },
        "id": "BhnEHYkKH2gy",
        "outputId": "f49fee13-b9ed-4056-b22a-3af59e0089bb"
      },
      "source": [
        "for column in cat_cols:\n",
        "  fig, ax = plt.subplots()\n",
        "  ax.set_title(column)\n",
        "  value = x_train[column].value_counts()\n",
        "  ax.bar(value.index, value.values)\n",
        "  fig.show()"
      ],
      "execution_count": 11,
      "outputs": [
        {
          "output_type": "display_data",
          "data": {
            "image/png": "[encoded data removed]",
            "text/plain": [
              "<Figure size 432x288 with 1 Axes>"
            ]
          },
          "metadata": {
            "needs_background": "light"
          }
        },
        {
          "output_type": "display_data",
          "data": {
            "image/png": "[encoded data removed]",
            "text/plain": [
              "<Figure size 432x288 with 1 Axes>"
            ]
          },
          "metadata": {
            "needs_background": "light"
          }
        },
        {
          "output_type": "display_data",
          "data": {
            "image/png": "[encoded data removed]",
            "text/plain": [
              "<Figure size 432x288 with 1 Axes>"
            ]
          },
          "metadata": {
            "needs_background": "light"
          }
        },
        {
          "output_type": "display_data",
          "data": {
            "image/png": "[encoded data removed]",
            "text/plain": [
              "<Figure size 432x288 with 1 Axes>"
            ]
          },
          "metadata": {
            "needs_background": "light"
          }
        },
        {
          "output_type": "display_data",
          "data": {
            "image/png": "[encoded data removed]",
            "text/plain": [
              "<Figure size 432x288 with 1 Axes>"
            ]
          },
          "metadata": {
            "needs_background": "light"
          }
        },
        {
          "output_type": "display_data",
          "data": {
            "image/png": "[encoded data removed]",
            "text/plain": [
              "<Figure size 432x288 with 1 Axes>"
            ]
          },
          "metadata": {
            "needs_background": "light"
          }
        },
        {
          "output_type": "display_data",
          "data": {
            "image/png": "[encoded data removed]",
            "text/plain": [
              "<Figure size 432x288 with 1 Axes>"
            ]
          },
          "metadata": {
            "needs_background": "light"
          }
        },
        {
          "output_type": "display_data",
          "data": {
            "image/png": "[encoded data removed]",
            "text/plain": [
              "<Figure size 432x288 with 1 Axes>"
            ]
          },
          "metadata": {
            "needs_background": "light"
          }
        },
        {
          "output_type": "display_data",
          "data": {
            "image/png": "[encoded data removed]",
            "text/plain": [
              "<Figure size 432x288 with 1 Axes>"
            ]
          },
          "metadata": {
            "needs_background": "light"
          }
        },
        {
          "output_type": "display_data",
          "data": {
            "image/png": "[encoded data removed]",
            "text/plain": [
              "<Figure size 432x288 with 1 Axes>"
            ]
          },
          "metadata": {
            "needs_background": "light"
          }
        },
        {
          "output_type": "display_data",
          "data": {
            "image/png": "[encoded data removed]",
            "text/plain": [
              "<Figure size 432x288 with 1 Axes>"
            ]
          },
          "metadata": {
            "needs_background": "light"
          }
        },
        {
          "output_type": "display_data",
          "data": {
            "image/png": "[encoded data removed]",
            "text/plain": [
              "<Figure size 432x288 with 1 Axes>"
            ]
          },
          "metadata": {
            "needs_background": "light"
          }
        },
        {
          "output_type": "display_data",
          "data": {
            "image/png": "[encoded data removed]",
            "text/plain": [
              "<Figure size 432x288 with 1 Axes>"
            ]
          },
          "metadata": {
            "needs_background": "light"
          }
        },
        {
          "output_type": "display_data",
          "data": {
            "image/png": "[encoded data removed]",
            "text/plain": [
              "<Figure size 432x288 with 1 Axes>"
            ]
          },
          "metadata": {
            "needs_background": "light"
          }
        },
        {
          "output_type": "display_data",
          "data": {
            "image/png": "[encoded data removed]",
            "text/plain": [
              "<Figure size 432x288 with 1 Axes>"
            ]
          },
          "metadata": {
            "needs_background": "light"
          }
        },
        {
          "output_type": "display_data",
          "data": {
            "image/png": "[encoded data removed]",
            "text/plain": [
              "<Figure size 432x288 with 1 Axes>"
            ]
          },
          "metadata": {
            "needs_background": "light"
          }
        }
      ]
    },
    {
      "cell_type": "code",
      "metadata": {
        "colab": {
          "base_uri": "https://localhost:8080/",
          "height": 281
        },
        "id": "rSfAzzRDLh5F",
        "outputId": "8bad0146-58c2-466e-8636-6a110e4fb22d"
      },
      "source": [
        "fig, ax = plt.subplots()\n",
        "ax.set_title(column)\n",
        "value = y_train.value_counts()\n",
        "ax.bar(value.index, value.values)\n",
        "fig.show()"
      ],
      "execution_count": 12,
      "outputs": [
        {
          "output_type": "display_data",
          "data": {
            "image/png": "[encoded data removed]",
            "text/plain": [
              "<Figure size 432x288 with 1 Axes>"
            ]
          },
          "metadata": {
            "needs_background": "light"
          }
        }
      ]
    },
    {
      "cell_type": "markdown",
      "metadata": {
        "id": "zg60u3QDEEZH"
      },
      "source": [
        "(Дополнительно) Если вы нашли какие-то ошибки в данных или выбросы, то можете их убрать. Тут можно поэксперементировать с обработкой данных как угодно, но не за баллы."
      ]
    },
    {
      "cell_type": "code",
      "metadata": {
        "id": "fwfksF1gEEZI"
      },
      "source": [
        "# YOUR CODE\n"
      ],
      "execution_count": null,
      "outputs": []
    },
    {
      "cell_type": "markdown",
      "metadata": {
        "id": "DviiJd8REEZK"
      },
      "source": [
        "## Применение линейных моделей (3 балла)\n",
        "\n",
        "1) Обработайте данные для того, чтобы к ним можно было применить LogisticRegression. Т.е. отнормируйте числовые признаки, а категориальные закодируйте с помощью one-hot-encoding'а. \n",
        "\n",
        "2) С помощью кроссвалидации или разделения на train/valid выборку протестируйте разные значения гиперпараметра C и выберите лучший (можно тестировать С=100, 10, 1, 0.1, 0.01, 0.001) по метрике ROC-AUC. \n",
        "\n",
        "Если вы разделяете на train/valid, то используйте LogisticRegressionCV. Он сам при вызове .fit() подберет параметр С. (не забудьте передать scroing='roc_auc', чтобы при кроссвалидации сравнивались значения этой метрики, и refit=True, чтобы при потом модель обучилась на всем датасете с лучшим параметром C). \n",
        "\n",
        "\n",
        "(более сложный вариант) Если вы будете использовать кроссвалидацию, то преобразования данных и LogisticRegression нужно соединить в один Pipeline с помощью make_pipeline, как это делалось во втором семинаре. Потом pipeline надо передать в GridSearchCV. Для one-hot-encoding'a можно испльзовать комбинацию LabelEncoder + OneHotEncoder (сначала превращаем строчки в числа, а потом числа првращаем в one-hot вектора.)"
      ]
    },
    {
      "cell_type": "code",
      "metadata": {
        "id": "xHCLDmwqEEZL"
      },
      "source": [
        "from sklearn.linear_model import LogisticRegression, LogisticRegressionCV\n",
        "from sklearn.model_selection import train_test_split, GridSearchCV\n",
        "from sklearn.preprocessing import StandardScaler, RobustScaler, LabelEncoder, OneHotEncoder\n",
        "from sklearn.pipeline import make_pipeline\n",
        "from sklearn.compose import ColumnTransformer\n",
        "from sklearn.pipeline import Pipeline"
      ],
      "execution_count": 13,
      "outputs": []
    },
    {
      "cell_type": "code",
      "metadata": {
        "colab": {
          "base_uri": "https://localhost:8080/",
          "height": 374
        },
        "id": "6-2yJCmSAZv-",
        "outputId": "aac80001-5903-4584-ebe3-aeaa0f608625"
      },
      "source": [
        "transform_pipeline = ColumnTransformer([\n",
        "        (\"num\", StandardScaler(), num_cols),\n",
        "        (\"cat\", OneHotEncoder(), cat_cols)\n",
        "    ])\n",
        "logistic= LogisticRegressionCV()\n",
        "pipe = Pipeline([(\"transform\", transform_pipeline), (\"logistic\", logistic)])\n",
        "param_grid = {\n",
        "    'logistic__cv': [100, 10, 1, 0.1, 0.01, 0.001]\n",
        "}\n",
        "\n",
        "clf = GridSearchCV(pipe, param_grid = param_grid,scoring='roc_auc')\n",
        "clf.fit(x_train, y_train)\n",
        "\n"
      ],
      "execution_count": null,
      "outputs": [
        {
          "output_type": "error",
          "ename": "KeyboardInterrupt",
          "evalue": "ignored",
          "traceback": [
            "\u001b[0;31m---------------------------------------------------------------------------\u001b[0m",
            "\u001b[0;31mKeyboardInterrupt\u001b[0m                         Traceback (most recent call last)",
            "\u001b[0;32m<ipython-input-15-d130d244a283>\u001b[0m in \u001b[0;36m<module>\u001b[0;34m()\u001b[0m\n\u001b[1;32m     10\u001b[0m \u001b[0;34m\u001b[0m\u001b[0m\n\u001b[1;32m     11\u001b[0m \u001b[0mclf\u001b[0m \u001b[0;34m=\u001b[0m \u001b[0mGridSearchCV\u001b[0m\u001b[0;34m(\u001b[0m\u001b[0mpipe\u001b[0m\u001b[0;34m,\u001b[0m \u001b[0mparam_grid\u001b[0m \u001b[0;34m=\u001b[0m \u001b[0mparam_grid\u001b[0m\u001b[0;34m,\u001b[0m\u001b[0mscoring\u001b[0m\u001b[0;34m=\u001b[0m\u001b[0;34m'roc_auc'\u001b[0m\u001b[0;34m)\u001b[0m\u001b[0;34m\u001b[0m\u001b[0;34m\u001b[0m\u001b[0m\n\u001b[0;32m---> 12\u001b[0;31m \u001b[0mclf\u001b[0m\u001b[0;34m.\u001b[0m\u001b[0mfit\u001b[0m\u001b[0;34m(\u001b[0m\u001b[0mx_train\u001b[0m\u001b[0;34m,\u001b[0m \u001b[0my_train\u001b[0m\u001b[0;34m)\u001b[0m\u001b[0;34m\u001b[0m\u001b[0;34m\u001b[0m\u001b[0m\n\u001b[0m\u001b[1;32m     13\u001b[0m \u001b[0;34m\u001b[0m\u001b[0m\n",
            "\u001b[0;32m/usr/local/lib/python3.7/dist-packages/sklearn/model_selection/_search.py\u001b[0m in \u001b[0;36mfit\u001b[0;34m(self, X, y, groups, **fit_params)\u001b[0m\n\u001b[1;32m    708\u001b[0m                 \u001b[0;32mreturn\u001b[0m \u001b[0mresults\u001b[0m\u001b[0;34m\u001b[0m\u001b[0;34m\u001b[0m\u001b[0m\n\u001b[1;32m    709\u001b[0m \u001b[0;34m\u001b[0m\u001b[0m\n\u001b[0;32m--> 710\u001b[0;31m             \u001b[0mself\u001b[0m\u001b[0;34m.\u001b[0m\u001b[0m_run_search\u001b[0m\u001b[0;34m(\u001b[0m\u001b[0mevaluate_candidates\u001b[0m\u001b[0;34m)\u001b[0m\u001b[0;34m\u001b[0m\u001b[0;34m\u001b[0m\u001b[0m\n\u001b[0m\u001b[1;32m    711\u001b[0m \u001b[0;34m\u001b[0m\u001b[0m\n\u001b[1;32m    712\u001b[0m         \u001b[0;31m# For multi-metric evaluation, store the best_index_, best_params_ and\u001b[0m\u001b[0;34m\u001b[0m\u001b[0;34m\u001b[0m\u001b[0;34m\u001b[0m\u001b[0m\n",
            "\u001b[0;32m/usr/local/lib/python3.7/dist-packages/sklearn/model_selection/_search.py\u001b[0m in \u001b[0;36m_run_search\u001b[0;34m(self, evaluate_candidates)\u001b[0m\n\u001b[1;32m   1149\u001b[0m     \u001b[0;32mdef\u001b[0m \u001b[0m_run_search\u001b[0m\u001b[0;34m(\u001b[0m\u001b[0mself\u001b[0m\u001b[0;34m,\u001b[0m \u001b[0mevaluate_candidates\u001b[0m\u001b[0;34m)\u001b[0m\u001b[0;34m:\u001b[0m\u001b[0;34m\u001b[0m\u001b[0;34m\u001b[0m\u001b[0m\n\u001b[1;32m   1150\u001b[0m         \u001b[0;34m\"\"\"Search all candidates in param_grid\"\"\"\u001b[0m\u001b[0;34m\u001b[0m\u001b[0;34m\u001b[0m\u001b[0m\n\u001b[0;32m-> 1151\u001b[0;31m         \u001b[0mevaluate_candidates\u001b[0m\u001b[0;34m(\u001b[0m\u001b[0mParameterGrid\u001b[0m\u001b[0;34m(\u001b[0m\u001b[0mself\u001b[0m\u001b[0;34m.\u001b[0m\u001b[0mparam_grid\u001b[0m\u001b[0;34m)\u001b[0m\u001b[0;34m)\u001b[0m\u001b[0;34m\u001b[0m\u001b[0;34m\u001b[0m\u001b[0m\n\u001b[0m\u001b[1;32m   1152\u001b[0m \u001b[0;34m\u001b[0m\u001b[0m\n\u001b[1;32m   1153\u001b[0m \u001b[0;34m\u001b[0m\u001b[0m\n",
            "\u001b[0;32m/usr/local/lib/python3.7/dist-packages/sklearn/model_selection/_search.py\u001b[0m in \u001b[0;36mevaluate_candidates\u001b[0;34m(candidate_params)\u001b[0m\n\u001b[1;32m    687\u001b[0m                                \u001b[0;32mfor\u001b[0m \u001b[0mparameters\u001b[0m\u001b[0;34m,\u001b[0m \u001b[0;34m(\u001b[0m\u001b[0mtrain\u001b[0m\u001b[0;34m,\u001b[0m \u001b[0mtest\u001b[0m\u001b[0;34m)\u001b[0m\u001b[0;34m\u001b[0m\u001b[0;34m\u001b[0m\u001b[0m\n\u001b[1;32m    688\u001b[0m                                in product(candidate_params,\n\u001b[0;32m--> 689\u001b[0;31m                                           cv.split(X, y, groups)))\n\u001b[0m\u001b[1;32m    690\u001b[0m \u001b[0;34m\u001b[0m\u001b[0m\n\u001b[1;32m    691\u001b[0m                 \u001b[0;32mif\u001b[0m \u001b[0mlen\u001b[0m\u001b[0;34m(\u001b[0m\u001b[0mout\u001b[0m\u001b[0;34m)\u001b[0m \u001b[0;34m<\u001b[0m \u001b[0;36m1\u001b[0m\u001b[0;34m:\u001b[0m\u001b[0;34m\u001b[0m\u001b[0;34m\u001b[0m\u001b[0m\n",
            "\u001b[0;32m/usr/local/lib/python3.7/dist-packages/joblib/parallel.py\u001b[0m in \u001b[0;36m__call__\u001b[0;34m(self, iterable)\u001b[0m\n\u001b[1;32m   1041\u001b[0m             \u001b[0;31m# remaining jobs.\u001b[0m\u001b[0;34m\u001b[0m\u001b[0;34m\u001b[0m\u001b[0;34m\u001b[0m\u001b[0m\n\u001b[1;32m   1042\u001b[0m             \u001b[0mself\u001b[0m\u001b[0;34m.\u001b[0m\u001b[0m_iterating\u001b[0m \u001b[0;34m=\u001b[0m \u001b[0;32mFalse\u001b[0m\u001b[0;34m\u001b[0m\u001b[0;34m\u001b[0m\u001b[0m\n\u001b[0;32m-> 1043\u001b[0;31m             \u001b[0;32mif\u001b[0m \u001b[0mself\u001b[0m\u001b[0;34m.\u001b[0m\u001b[0mdispatch_one_batch\u001b[0m\u001b[0;34m(\u001b[0m\u001b[0miterator\u001b[0m\u001b[0;34m)\u001b[0m\u001b[0;34m:\u001b[0m\u001b[0;34m\u001b[0m\u001b[0;34m\u001b[0m\u001b[0m\n\u001b[0m\u001b[1;32m   1044\u001b[0m                 \u001b[0mself\u001b[0m\u001b[0;34m.\u001b[0m\u001b[0m_iterating\u001b[0m \u001b[0;34m=\u001b[0m \u001b[0mself\u001b[0m\u001b[0;34m.\u001b[0m\u001b[0m_original_iterator\u001b[0m \u001b[0;32mis\u001b[0m \u001b[0;32mnot\u001b[0m \u001b[0;32mNone\u001b[0m\u001b[0;34m\u001b[0m\u001b[0;34m\u001b[0m\u001b[0m\n\u001b[1;32m   1045\u001b[0m \u001b[0;34m\u001b[0m\u001b[0m\n",
            "\u001b[0;32m/usr/local/lib/python3.7/dist-packages/joblib/parallel.py\u001b[0m in \u001b[0;36mdispatch_one_batch\u001b[0;34m(self, iterator)\u001b[0m\n\u001b[1;32m    859\u001b[0m                 \u001b[0;32mreturn\u001b[0m \u001b[0;32mFalse\u001b[0m\u001b[0;34m\u001b[0m\u001b[0;34m\u001b[0m\u001b[0m\n\u001b[1;32m    860\u001b[0m             \u001b[0;32melse\u001b[0m\u001b[0;34m:\u001b[0m\u001b[0;34m\u001b[0m\u001b[0;34m\u001b[0m\u001b[0m\n\u001b[0;32m--> 861\u001b[0;31m                 \u001b[0mself\u001b[0m\u001b[0;34m.\u001b[0m\u001b[0m_dispatch\u001b[0m\u001b[0;34m(\u001b[0m\u001b[0mtasks\u001b[0m\u001b[0;34m)\u001b[0m\u001b[0;34m\u001b[0m\u001b[0;34m\u001b[0m\u001b[0m\n\u001b[0m\u001b[1;32m    862\u001b[0m                 \u001b[0;32mreturn\u001b[0m \u001b[0;32mTrue\u001b[0m\u001b[0;34m\u001b[0m\u001b[0;34m\u001b[0m\u001b[0m\n\u001b[1;32m    863\u001b[0m \u001b[0;34m\u001b[0m\u001b[0m\n",
            "\u001b[0;32m/usr/local/lib/python3.7/dist-packages/joblib/parallel.py\u001b[0m in \u001b[0;36m_dispatch\u001b[0;34m(self, batch)\u001b[0m\n\u001b[1;32m    777\u001b[0m         \u001b[0;32mwith\u001b[0m \u001b[0mself\u001b[0m\u001b[0;34m.\u001b[0m\u001b[0m_lock\u001b[0m\u001b[0;34m:\u001b[0m\u001b[0;34m\u001b[0m\u001b[0;34m\u001b[0m\u001b[0m\n\u001b[1;32m    778\u001b[0m             \u001b[0mjob_idx\u001b[0m \u001b[0;34m=\u001b[0m \u001b[0mlen\u001b[0m\u001b[0;34m(\u001b[0m\u001b[0mself\u001b[0m\u001b[0;34m.\u001b[0m\u001b[0m_jobs\u001b[0m\u001b[0;34m)\u001b[0m\u001b[0;34m\u001b[0m\u001b[0;34m\u001b[0m\u001b[0m\n\u001b[0;32m--> 779\u001b[0;31m             \u001b[0mjob\u001b[0m \u001b[0;34m=\u001b[0m \u001b[0mself\u001b[0m\u001b[0;34m.\u001b[0m\u001b[0m_backend\u001b[0m\u001b[0;34m.\u001b[0m\u001b[0mapply_async\u001b[0m\u001b[0;34m(\u001b[0m\u001b[0mbatch\u001b[0m\u001b[0;34m,\u001b[0m \u001b[0mcallback\u001b[0m\u001b[0;34m=\u001b[0m\u001b[0mcb\u001b[0m\u001b[0;34m)\u001b[0m\u001b[0;34m\u001b[0m\u001b[0;34m\u001b[0m\u001b[0m\n\u001b[0m\u001b[1;32m    780\u001b[0m             \u001b[0;31m# A job can complete so quickly than its callback is\u001b[0m\u001b[0;34m\u001b[0m\u001b[0;34m\u001b[0m\u001b[0;34m\u001b[0m\u001b[0m\n\u001b[1;32m    781\u001b[0m             \u001b[0;31m# called before we get here, causing self._jobs to\u001b[0m\u001b[0;34m\u001b[0m\u001b[0;34m\u001b[0m\u001b[0;34m\u001b[0m\u001b[0m\n",
            "\u001b[0;32m/usr/local/lib/python3.7/dist-packages/joblib/_parallel_backends.py\u001b[0m in \u001b[0;36mapply_async\u001b[0;34m(self, func, callback)\u001b[0m\n\u001b[1;32m    206\u001b[0m     \u001b[0;32mdef\u001b[0m \u001b[0mapply_async\u001b[0m\u001b[0;34m(\u001b[0m\u001b[0mself\u001b[0m\u001b[0;34m,\u001b[0m \u001b[0mfunc\u001b[0m\u001b[0;34m,\u001b[0m \u001b[0mcallback\u001b[0m\u001b[0;34m=\u001b[0m\u001b[0;32mNone\u001b[0m\u001b[0;34m)\u001b[0m\u001b[0;34m:\u001b[0m\u001b[0;34m\u001b[0m\u001b[0;34m\u001b[0m\u001b[0m\n\u001b[1;32m    207\u001b[0m         \u001b[0;34m\"\"\"Schedule a func to be run\"\"\"\u001b[0m\u001b[0;34m\u001b[0m\u001b[0;34m\u001b[0m\u001b[0m\n\u001b[0;32m--> 208\u001b[0;31m         \u001b[0mresult\u001b[0m \u001b[0;34m=\u001b[0m \u001b[0mImmediateResult\u001b[0m\u001b[0;34m(\u001b[0m\u001b[0mfunc\u001b[0m\u001b[0;34m)\u001b[0m\u001b[0;34m\u001b[0m\u001b[0;34m\u001b[0m\u001b[0m\n\u001b[0m\u001b[1;32m    209\u001b[0m         \u001b[0;32mif\u001b[0m \u001b[0mcallback\u001b[0m\u001b[0;34m:\u001b[0m\u001b[0;34m\u001b[0m\u001b[0;34m\u001b[0m\u001b[0m\n\u001b[1;32m    210\u001b[0m             \u001b[0mcallback\u001b[0m\u001b[0;34m(\u001b[0m\u001b[0mresult\u001b[0m\u001b[0;34m)\u001b[0m\u001b[0;34m\u001b[0m\u001b[0;34m\u001b[0m\u001b[0m\n",
            "\u001b[0;32m/usr/local/lib/python3.7/dist-packages/joblib/_parallel_backends.py\u001b[0m in \u001b[0;36m__init__\u001b[0;34m(self, batch)\u001b[0m\n\u001b[1;32m    570\u001b[0m         \u001b[0;31m# Don't delay the application, to avoid keeping the input\u001b[0m\u001b[0;34m\u001b[0m\u001b[0;34m\u001b[0m\u001b[0;34m\u001b[0m\u001b[0m\n\u001b[1;32m    571\u001b[0m         \u001b[0;31m# arguments in memory\u001b[0m\u001b[0;34m\u001b[0m\u001b[0;34m\u001b[0m\u001b[0;34m\u001b[0m\u001b[0m\n\u001b[0;32m--> 572\u001b[0;31m         \u001b[0mself\u001b[0m\u001b[0;34m.\u001b[0m\u001b[0mresults\u001b[0m \u001b[0;34m=\u001b[0m \u001b[0mbatch\u001b[0m\u001b[0;34m(\u001b[0m\u001b[0;34m)\u001b[0m\u001b[0;34m\u001b[0m\u001b[0;34m\u001b[0m\u001b[0m\n\u001b[0m\u001b[1;32m    573\u001b[0m \u001b[0;34m\u001b[0m\u001b[0m\n\u001b[1;32m    574\u001b[0m     \u001b[0;32mdef\u001b[0m \u001b[0mget\u001b[0m\u001b[0;34m(\u001b[0m\u001b[0mself\u001b[0m\u001b[0;34m)\u001b[0m\u001b[0;34m:\u001b[0m\u001b[0;34m\u001b[0m\u001b[0;34m\u001b[0m\u001b[0m\n",
            "\u001b[0;32m/usr/local/lib/python3.7/dist-packages/joblib/parallel.py\u001b[0m in \u001b[0;36m__call__\u001b[0;34m(self)\u001b[0m\n\u001b[1;32m    261\u001b[0m         \u001b[0;32mwith\u001b[0m \u001b[0mparallel_backend\u001b[0m\u001b[0;34m(\u001b[0m\u001b[0mself\u001b[0m\u001b[0;34m.\u001b[0m\u001b[0m_backend\u001b[0m\u001b[0;34m,\u001b[0m \u001b[0mn_jobs\u001b[0m\u001b[0;34m=\u001b[0m\u001b[0mself\u001b[0m\u001b[0;34m.\u001b[0m\u001b[0m_n_jobs\u001b[0m\u001b[0;34m)\u001b[0m\u001b[0;34m:\u001b[0m\u001b[0;34m\u001b[0m\u001b[0;34m\u001b[0m\u001b[0m\n\u001b[1;32m    262\u001b[0m             return [func(*args, **kwargs)\n\u001b[0;32m--> 263\u001b[0;31m                     for func, args, kwargs in self.items]\n\u001b[0m\u001b[1;32m    264\u001b[0m \u001b[0;34m\u001b[0m\u001b[0m\n\u001b[1;32m    265\u001b[0m     \u001b[0;32mdef\u001b[0m \u001b[0m__reduce__\u001b[0m\u001b[0;34m(\u001b[0m\u001b[0mself\u001b[0m\u001b[0;34m)\u001b[0m\u001b[0;34m:\u001b[0m\u001b[0;34m\u001b[0m\u001b[0;34m\u001b[0m\u001b[0m\n",
            "\u001b[0;32m/usr/local/lib/python3.7/dist-packages/joblib/parallel.py\u001b[0m in \u001b[0;36m<listcomp>\u001b[0;34m(.0)\u001b[0m\n\u001b[1;32m    261\u001b[0m         \u001b[0;32mwith\u001b[0m \u001b[0mparallel_backend\u001b[0m\u001b[0;34m(\u001b[0m\u001b[0mself\u001b[0m\u001b[0;34m.\u001b[0m\u001b[0m_backend\u001b[0m\u001b[0;34m,\u001b[0m \u001b[0mn_jobs\u001b[0m\u001b[0;34m=\u001b[0m\u001b[0mself\u001b[0m\u001b[0;34m.\u001b[0m\u001b[0m_n_jobs\u001b[0m\u001b[0;34m)\u001b[0m\u001b[0;34m:\u001b[0m\u001b[0;34m\u001b[0m\u001b[0;34m\u001b[0m\u001b[0m\n\u001b[1;32m    262\u001b[0m             return [func(*args, **kwargs)\n\u001b[0;32m--> 263\u001b[0;31m                     for func, args, kwargs in self.items]\n\u001b[0m\u001b[1;32m    264\u001b[0m \u001b[0;34m\u001b[0m\u001b[0m\n\u001b[1;32m    265\u001b[0m     \u001b[0;32mdef\u001b[0m \u001b[0m__reduce__\u001b[0m\u001b[0;34m(\u001b[0m\u001b[0mself\u001b[0m\u001b[0;34m)\u001b[0m\u001b[0;34m:\u001b[0m\u001b[0;34m\u001b[0m\u001b[0;34m\u001b[0m\u001b[0m\n",
            "\u001b[0;32m/usr/local/lib/python3.7/dist-packages/sklearn/model_selection/_validation.py\u001b[0m in \u001b[0;36m_fit_and_score\u001b[0;34m(estimator, X, y, scorer, train, test, verbose, parameters, fit_params, return_train_score, return_parameters, return_n_test_samples, return_times, return_estimator, error_score)\u001b[0m\n\u001b[1;32m    513\u001b[0m             \u001b[0mestimator\u001b[0m\u001b[0;34m.\u001b[0m\u001b[0mfit\u001b[0m\u001b[0;34m(\u001b[0m\u001b[0mX_train\u001b[0m\u001b[0;34m,\u001b[0m \u001b[0;34m**\u001b[0m\u001b[0mfit_params\u001b[0m\u001b[0;34m)\u001b[0m\u001b[0;34m\u001b[0m\u001b[0;34m\u001b[0m\u001b[0m\n\u001b[1;32m    514\u001b[0m         \u001b[0;32melse\u001b[0m\u001b[0;34m:\u001b[0m\u001b[0;34m\u001b[0m\u001b[0;34m\u001b[0m\u001b[0m\n\u001b[0;32m--> 515\u001b[0;31m             \u001b[0mestimator\u001b[0m\u001b[0;34m.\u001b[0m\u001b[0mfit\u001b[0m\u001b[0;34m(\u001b[0m\u001b[0mX_train\u001b[0m\u001b[0;34m,\u001b[0m \u001b[0my_train\u001b[0m\u001b[0;34m,\u001b[0m \u001b[0;34m**\u001b[0m\u001b[0mfit_params\u001b[0m\u001b[0;34m)\u001b[0m\u001b[0;34m\u001b[0m\u001b[0;34m\u001b[0m\u001b[0m\n\u001b[0m\u001b[1;32m    516\u001b[0m \u001b[0;34m\u001b[0m\u001b[0m\n\u001b[1;32m    517\u001b[0m     \u001b[0;32mexcept\u001b[0m \u001b[0mException\u001b[0m \u001b[0;32mas\u001b[0m \u001b[0me\u001b[0m\u001b[0;34m:\u001b[0m\u001b[0;34m\u001b[0m\u001b[0;34m\u001b[0m\u001b[0m\n",
            "\u001b[0;32m/usr/local/lib/python3.7/dist-packages/sklearn/pipeline.py\u001b[0m in \u001b[0;36mfit\u001b[0;34m(self, X, y, **fit_params)\u001b[0m\n\u001b[1;32m    352\u001b[0m                                  self._log_message(len(self.steps) - 1)):\n\u001b[1;32m    353\u001b[0m             \u001b[0;32mif\u001b[0m \u001b[0mself\u001b[0m\u001b[0;34m.\u001b[0m\u001b[0m_final_estimator\u001b[0m \u001b[0;34m!=\u001b[0m \u001b[0;34m'passthrough'\u001b[0m\u001b[0;34m:\u001b[0m\u001b[0;34m\u001b[0m\u001b[0;34m\u001b[0m\u001b[0m\n\u001b[0;32m--> 354\u001b[0;31m                 \u001b[0mself\u001b[0m\u001b[0;34m.\u001b[0m\u001b[0m_final_estimator\u001b[0m\u001b[0;34m.\u001b[0m\u001b[0mfit\u001b[0m\u001b[0;34m(\u001b[0m\u001b[0mXt\u001b[0m\u001b[0;34m,\u001b[0m \u001b[0my\u001b[0m\u001b[0;34m,\u001b[0m \u001b[0;34m**\u001b[0m\u001b[0mfit_params\u001b[0m\u001b[0;34m)\u001b[0m\u001b[0;34m\u001b[0m\u001b[0;34m\u001b[0m\u001b[0m\n\u001b[0m\u001b[1;32m    355\u001b[0m         \u001b[0;32mreturn\u001b[0m \u001b[0mself\u001b[0m\u001b[0;34m\u001b[0m\u001b[0;34m\u001b[0m\u001b[0m\n\u001b[1;32m    356\u001b[0m \u001b[0;34m\u001b[0m\u001b[0m\n",
            "\u001b[0;32m/usr/local/lib/python3.7/dist-packages/sklearn/linear_model/_logistic.py\u001b[0m in \u001b[0;36mfit\u001b[0;34m(self, X, y, sample_weight)\u001b[0m\n\u001b[1;32m   2083\u001b[0m                       \u001b[0ml1_ratio\u001b[0m\u001b[0;34m=\u001b[0m\u001b[0ml1_ratio\u001b[0m\u001b[0;34m\u001b[0m\u001b[0;34m\u001b[0m\u001b[0m\n\u001b[1;32m   2084\u001b[0m                       )\n\u001b[0;32m-> 2085\u001b[0;31m             \u001b[0;32mfor\u001b[0m \u001b[0mlabel\u001b[0m \u001b[0;32min\u001b[0m \u001b[0miter_encoded_labels\u001b[0m\u001b[0;34m\u001b[0m\u001b[0;34m\u001b[0m\u001b[0m\n\u001b[0m\u001b[1;32m   2086\u001b[0m             \u001b[0;32mfor\u001b[0m \u001b[0mtrain\u001b[0m\u001b[0;34m,\u001b[0m \u001b[0mtest\u001b[0m \u001b[0;32min\u001b[0m \u001b[0mfolds\u001b[0m\u001b[0;34m\u001b[0m\u001b[0;34m\u001b[0m\u001b[0m\n\u001b[1;32m   2087\u001b[0m             for l1_ratio in l1_ratios_)\n",
            "\u001b[0;32m/usr/local/lib/python3.7/dist-packages/joblib/parallel.py\u001b[0m in \u001b[0;36m__call__\u001b[0;34m(self, iterable)\u001b[0m\n\u001b[1;32m   1044\u001b[0m                 \u001b[0mself\u001b[0m\u001b[0;34m.\u001b[0m\u001b[0m_iterating\u001b[0m \u001b[0;34m=\u001b[0m \u001b[0mself\u001b[0m\u001b[0;34m.\u001b[0m\u001b[0m_original_iterator\u001b[0m \u001b[0;32mis\u001b[0m \u001b[0;32mnot\u001b[0m \u001b[0;32mNone\u001b[0m\u001b[0;34m\u001b[0m\u001b[0;34m\u001b[0m\u001b[0m\n\u001b[1;32m   1045\u001b[0m \u001b[0;34m\u001b[0m\u001b[0m\n\u001b[0;32m-> 1046\u001b[0;31m             \u001b[0;32mwhile\u001b[0m \u001b[0mself\u001b[0m\u001b[0;34m.\u001b[0m\u001b[0mdispatch_one_batch\u001b[0m\u001b[0;34m(\u001b[0m\u001b[0miterator\u001b[0m\u001b[0;34m)\u001b[0m\u001b[0;34m:\u001b[0m\u001b[0;34m\u001b[0m\u001b[0;34m\u001b[0m\u001b[0m\n\u001b[0m\u001b[1;32m   1047\u001b[0m                 \u001b[0;32mpass\u001b[0m\u001b[0;34m\u001b[0m\u001b[0;34m\u001b[0m\u001b[0m\n\u001b[1;32m   1048\u001b[0m \u001b[0;34m\u001b[0m\u001b[0m\n",
            "\u001b[0;32m/usr/local/lib/python3.7/dist-packages/joblib/parallel.py\u001b[0m in \u001b[0;36mdispatch_one_batch\u001b[0;34m(self, iterator)\u001b[0m\n\u001b[1;32m    859\u001b[0m                 \u001b[0;32mreturn\u001b[0m \u001b[0;32mFalse\u001b[0m\u001b[0;34m\u001b[0m\u001b[0;34m\u001b[0m\u001b[0m\n\u001b[1;32m    860\u001b[0m             \u001b[0;32melse\u001b[0m\u001b[0;34m:\u001b[0m\u001b[0;34m\u001b[0m\u001b[0;34m\u001b[0m\u001b[0m\n\u001b[0;32m--> 861\u001b[0;31m                 \u001b[0mself\u001b[0m\u001b[0;34m.\u001b[0m\u001b[0m_dispatch\u001b[0m\u001b[0;34m(\u001b[0m\u001b[0mtasks\u001b[0m\u001b[0;34m)\u001b[0m\u001b[0;34m\u001b[0m\u001b[0;34m\u001b[0m\u001b[0m\n\u001b[0m\u001b[1;32m    862\u001b[0m                 \u001b[0;32mreturn\u001b[0m \u001b[0;32mTrue\u001b[0m\u001b[0;34m\u001b[0m\u001b[0;34m\u001b[0m\u001b[0m\n\u001b[1;32m    863\u001b[0m \u001b[0;34m\u001b[0m\u001b[0m\n",
            "\u001b[0;32m/usr/local/lib/python3.7/dist-packages/joblib/parallel.py\u001b[0m in \u001b[0;36m_dispatch\u001b[0;34m(self, batch)\u001b[0m\n\u001b[1;32m    777\u001b[0m         \u001b[0;32mwith\u001b[0m \u001b[0mself\u001b[0m\u001b[0;34m.\u001b[0m\u001b[0m_lock\u001b[0m\u001b[0;34m:\u001b[0m\u001b[0;34m\u001b[0m\u001b[0;34m\u001b[0m\u001b[0m\n\u001b[1;32m    778\u001b[0m             \u001b[0mjob_idx\u001b[0m \u001b[0;34m=\u001b[0m \u001b[0mlen\u001b[0m\u001b[0;34m(\u001b[0m\u001b[0mself\u001b[0m\u001b[0;34m.\u001b[0m\u001b[0m_jobs\u001b[0m\u001b[0;34m)\u001b[0m\u001b[0;34m\u001b[0m\u001b[0;34m\u001b[0m\u001b[0m\n\u001b[0;32m--> 779\u001b[0;31m             \u001b[0mjob\u001b[0m \u001b[0;34m=\u001b[0m \u001b[0mself\u001b[0m\u001b[0;34m.\u001b[0m\u001b[0m_backend\u001b[0m\u001b[0;34m.\u001b[0m\u001b[0mapply_async\u001b[0m\u001b[0;34m(\u001b[0m\u001b[0mbatch\u001b[0m\u001b[0;34m,\u001b[0m \u001b[0mcallback\u001b[0m\u001b[0;34m=\u001b[0m\u001b[0mcb\u001b[0m\u001b[0;34m)\u001b[0m\u001b[0;34m\u001b[0m\u001b[0;34m\u001b[0m\u001b[0m\n\u001b[0m\u001b[1;32m    780\u001b[0m             \u001b[0;31m# A job can complete so quickly than its callback is\u001b[0m\u001b[0;34m\u001b[0m\u001b[0;34m\u001b[0m\u001b[0;34m\u001b[0m\u001b[0m\n\u001b[1;32m    781\u001b[0m             \u001b[0;31m# called before we get here, causing self._jobs to\u001b[0m\u001b[0;34m\u001b[0m\u001b[0;34m\u001b[0m\u001b[0;34m\u001b[0m\u001b[0m\n",
            "\u001b[0;32m/usr/local/lib/python3.7/dist-packages/joblib/_parallel_backends.py\u001b[0m in \u001b[0;36mapply_async\u001b[0;34m(self, func, callback)\u001b[0m\n\u001b[1;32m    206\u001b[0m     \u001b[0;32mdef\u001b[0m \u001b[0mapply_async\u001b[0m\u001b[0;34m(\u001b[0m\u001b[0mself\u001b[0m\u001b[0;34m,\u001b[0m \u001b[0mfunc\u001b[0m\u001b[0;34m,\u001b[0m \u001b[0mcallback\u001b[0m\u001b[0;34m=\u001b[0m\u001b[0;32mNone\u001b[0m\u001b[0;34m)\u001b[0m\u001b[0;34m:\u001b[0m\u001b[0;34m\u001b[0m\u001b[0;34m\u001b[0m\u001b[0m\n\u001b[1;32m    207\u001b[0m         \u001b[0;34m\"\"\"Schedule a func to be run\"\"\"\u001b[0m\u001b[0;34m\u001b[0m\u001b[0;34m\u001b[0m\u001b[0m\n\u001b[0;32m--> 208\u001b[0;31m         \u001b[0mresult\u001b[0m \u001b[0;34m=\u001b[0m \u001b[0mImmediateResult\u001b[0m\u001b[0;34m(\u001b[0m\u001b[0mfunc\u001b[0m\u001b[0;34m)\u001b[0m\u001b[0;34m\u001b[0m\u001b[0;34m\u001b[0m\u001b[0m\n\u001b[0m\u001b[1;32m    209\u001b[0m         \u001b[0;32mif\u001b[0m \u001b[0mcallback\u001b[0m\u001b[0;34m:\u001b[0m\u001b[0;34m\u001b[0m\u001b[0;34m\u001b[0m\u001b[0m\n\u001b[1;32m    210\u001b[0m             \u001b[0mcallback\u001b[0m\u001b[0;34m(\u001b[0m\u001b[0mresult\u001b[0m\u001b[0;34m)\u001b[0m\u001b[0;34m\u001b[0m\u001b[0;34m\u001b[0m\u001b[0m\n",
            "\u001b[0;32m/usr/local/lib/python3.7/dist-packages/joblib/_parallel_backends.py\u001b[0m in \u001b[0;36m__init__\u001b[0;34m(self, batch)\u001b[0m\n\u001b[1;32m    570\u001b[0m         \u001b[0;31m# Don't delay the application, to avoid keeping the input\u001b[0m\u001b[0;34m\u001b[0m\u001b[0;34m\u001b[0m\u001b[0;34m\u001b[0m\u001b[0m\n\u001b[1;32m    571\u001b[0m         \u001b[0;31m# arguments in memory\u001b[0m\u001b[0;34m\u001b[0m\u001b[0;34m\u001b[0m\u001b[0;34m\u001b[0m\u001b[0m\n\u001b[0;32m--> 572\u001b[0;31m         \u001b[0mself\u001b[0m\u001b[0;34m.\u001b[0m\u001b[0mresults\u001b[0m \u001b[0;34m=\u001b[0m \u001b[0mbatch\u001b[0m\u001b[0;34m(\u001b[0m\u001b[0;34m)\u001b[0m\u001b[0;34m\u001b[0m\u001b[0;34m\u001b[0m\u001b[0m\n\u001b[0m\u001b[1;32m    573\u001b[0m \u001b[0;34m\u001b[0m\u001b[0m\n\u001b[1;32m    574\u001b[0m     \u001b[0;32mdef\u001b[0m \u001b[0mget\u001b[0m\u001b[0;34m(\u001b[0m\u001b[0mself\u001b[0m\u001b[0;34m)\u001b[0m\u001b[0;34m:\u001b[0m\u001b[0;34m\u001b[0m\u001b[0;34m\u001b[0m\u001b[0m\n",
            "\u001b[0;32m/usr/local/lib/python3.7/dist-packages/joblib/parallel.py\u001b[0m in \u001b[0;36m__call__\u001b[0;34m(self)\u001b[0m\n\u001b[1;32m    261\u001b[0m         \u001b[0;32mwith\u001b[0m \u001b[0mparallel_backend\u001b[0m\u001b[0;34m(\u001b[0m\u001b[0mself\u001b[0m\u001b[0;34m.\u001b[0m\u001b[0m_backend\u001b[0m\u001b[0;34m,\u001b[0m \u001b[0mn_jobs\u001b[0m\u001b[0;34m=\u001b[0m\u001b[0mself\u001b[0m\u001b[0;34m.\u001b[0m\u001b[0m_n_jobs\u001b[0m\u001b[0;34m)\u001b[0m\u001b[0;34m:\u001b[0m\u001b[0;34m\u001b[0m\u001b[0;34m\u001b[0m\u001b[0m\n\u001b[1;32m    262\u001b[0m             return [func(*args, **kwargs)\n\u001b[0;32m--> 263\u001b[0;31m                     for func, args, kwargs in self.items]\n\u001b[0m\u001b[1;32m    264\u001b[0m \u001b[0;34m\u001b[0m\u001b[0m\n\u001b[1;32m    265\u001b[0m     \u001b[0;32mdef\u001b[0m \u001b[0m__reduce__\u001b[0m\u001b[0;34m(\u001b[0m\u001b[0mself\u001b[0m\u001b[0;34m)\u001b[0m\u001b[0;34m:\u001b[0m\u001b[0;34m\u001b[0m\u001b[0;34m\u001b[0m\u001b[0m\n",
            "\u001b[0;32m/usr/local/lib/python3.7/dist-packages/joblib/parallel.py\u001b[0m in \u001b[0;36m<listcomp>\u001b[0;34m(.0)\u001b[0m\n\u001b[1;32m    261\u001b[0m         \u001b[0;32mwith\u001b[0m \u001b[0mparallel_backend\u001b[0m\u001b[0;34m(\u001b[0m\u001b[0mself\u001b[0m\u001b[0;34m.\u001b[0m\u001b[0m_backend\u001b[0m\u001b[0;34m,\u001b[0m \u001b[0mn_jobs\u001b[0m\u001b[0;34m=\u001b[0m\u001b[0mself\u001b[0m\u001b[0;34m.\u001b[0m\u001b[0m_n_jobs\u001b[0m\u001b[0;34m)\u001b[0m\u001b[0;34m:\u001b[0m\u001b[0;34m\u001b[0m\u001b[0;34m\u001b[0m\u001b[0m\n\u001b[1;32m    262\u001b[0m             return [func(*args, **kwargs)\n\u001b[0;32m--> 263\u001b[0;31m                     for func, args, kwargs in self.items]\n\u001b[0m\u001b[1;32m    264\u001b[0m \u001b[0;34m\u001b[0m\u001b[0m\n\u001b[1;32m    265\u001b[0m     \u001b[0;32mdef\u001b[0m \u001b[0m__reduce__\u001b[0m\u001b[0;34m(\u001b[0m\u001b[0mself\u001b[0m\u001b[0;34m)\u001b[0m\u001b[0;34m:\u001b[0m\u001b[0;34m\u001b[0m\u001b[0;34m\u001b[0m\u001b[0m\n",
            "\u001b[0;32m/usr/local/lib/python3.7/dist-packages/sklearn/linear_model/_logistic.py\u001b[0m in \u001b[0;36m_log_reg_scoring_path\u001b[0;34m(X, y, train, test, pos_class, Cs, scoring, fit_intercept, max_iter, tol, class_weight, verbose, solver, penalty, dual, intercept_scaling, multi_class, random_state, max_squared_sum, sample_weight, l1_ratio)\u001b[0m\n\u001b[1;32m   1150\u001b[0m         \u001b[0mpenalty\u001b[0m\u001b[0;34m=\u001b[0m\u001b[0mpenalty\u001b[0m\u001b[0;34m,\u001b[0m \u001b[0mintercept_scaling\u001b[0m\u001b[0;34m=\u001b[0m\u001b[0mintercept_scaling\u001b[0m\u001b[0;34m,\u001b[0m\u001b[0;34m\u001b[0m\u001b[0;34m\u001b[0m\u001b[0m\n\u001b[1;32m   1151\u001b[0m         \u001b[0mrandom_state\u001b[0m\u001b[0;34m=\u001b[0m\u001b[0mrandom_state\u001b[0m\u001b[0;34m,\u001b[0m \u001b[0mcheck_input\u001b[0m\u001b[0;34m=\u001b[0m\u001b[0;32mFalse\u001b[0m\u001b[0;34m,\u001b[0m\u001b[0;34m\u001b[0m\u001b[0;34m\u001b[0m\u001b[0m\n\u001b[0;32m-> 1152\u001b[0;31m         max_squared_sum=max_squared_sum, sample_weight=sample_weight)\n\u001b[0m\u001b[1;32m   1153\u001b[0m \u001b[0;34m\u001b[0m\u001b[0m\n\u001b[1;32m   1154\u001b[0m     \u001b[0mlog_reg\u001b[0m \u001b[0;34m=\u001b[0m \u001b[0mLogisticRegression\u001b[0m\u001b[0;34m(\u001b[0m\u001b[0msolver\u001b[0m\u001b[0;34m=\u001b[0m\u001b[0msolver\u001b[0m\u001b[0;34m,\u001b[0m \u001b[0mmulti_class\u001b[0m\u001b[0;34m=\u001b[0m\u001b[0mmulti_class\u001b[0m\u001b[0;34m)\u001b[0m\u001b[0;34m\u001b[0m\u001b[0;34m\u001b[0m\u001b[0m\n",
            "\u001b[0;32m/usr/local/lib/python3.7/dist-packages/sklearn/linear_model/_logistic.py\u001b[0m in \u001b[0;36m_logistic_regression_path\u001b[0;34m(X, y, pos_class, Cs, fit_intercept, max_iter, tol, verbose, solver, coef, class_weight, dual, penalty, intercept_scaling, multi_class, random_state, check_input, max_squared_sum, sample_weight, l1_ratio)\u001b[0m\n\u001b[1;32m    934\u001b[0m                 \u001b[0mfunc\u001b[0m\u001b[0;34m,\u001b[0m \u001b[0mw0\u001b[0m\u001b[0;34m,\u001b[0m \u001b[0mmethod\u001b[0m\u001b[0;34m=\u001b[0m\u001b[0;34m\"L-BFGS-B\"\u001b[0m\u001b[0;34m,\u001b[0m \u001b[0mjac\u001b[0m\u001b[0;34m=\u001b[0m\u001b[0;32mTrue\u001b[0m\u001b[0;34m,\u001b[0m\u001b[0;34m\u001b[0m\u001b[0;34m\u001b[0m\u001b[0m\n\u001b[1;32m    935\u001b[0m                 \u001b[0margs\u001b[0m\u001b[0;34m=\u001b[0m\u001b[0;34m(\u001b[0m\u001b[0mX\u001b[0m\u001b[0;34m,\u001b[0m \u001b[0mtarget\u001b[0m\u001b[0;34m,\u001b[0m \u001b[0;36m1.\u001b[0m \u001b[0;34m/\u001b[0m \u001b[0mC\u001b[0m\u001b[0;34m,\u001b[0m \u001b[0msample_weight\u001b[0m\u001b[0;34m)\u001b[0m\u001b[0;34m,\u001b[0m\u001b[0;34m\u001b[0m\u001b[0;34m\u001b[0m\u001b[0m\n\u001b[0;32m--> 936\u001b[0;31m                 \u001b[0moptions\u001b[0m\u001b[0;34m=\u001b[0m\u001b[0;34m{\u001b[0m\u001b[0;34m\"iprint\"\u001b[0m\u001b[0;34m:\u001b[0m \u001b[0miprint\u001b[0m\u001b[0;34m,\u001b[0m \u001b[0;34m\"gtol\"\u001b[0m\u001b[0;34m:\u001b[0m \u001b[0mtol\u001b[0m\u001b[0;34m,\u001b[0m \u001b[0;34m\"maxiter\"\u001b[0m\u001b[0;34m:\u001b[0m \u001b[0mmax_iter\u001b[0m\u001b[0;34m}\u001b[0m\u001b[0;34m\u001b[0m\u001b[0;34m\u001b[0m\u001b[0m\n\u001b[0m\u001b[1;32m    937\u001b[0m             )\n\u001b[1;32m    938\u001b[0m             n_iter_i = _check_optimize_result(\n",
            "\u001b[0;32m/usr/local/lib/python3.7/dist-packages/scipy/optimize/_minimize.py\u001b[0m in \u001b[0;36mminimize\u001b[0;34m(fun, x0, args, method, jac, hess, hessp, bounds, constraints, tol, callback, options)\u001b[0m\n\u001b[1;32m    608\u001b[0m     \u001b[0;32melif\u001b[0m \u001b[0mmeth\u001b[0m \u001b[0;34m==\u001b[0m \u001b[0;34m'l-bfgs-b'\u001b[0m\u001b[0;34m:\u001b[0m\u001b[0;34m\u001b[0m\u001b[0;34m\u001b[0m\u001b[0m\n\u001b[1;32m    609\u001b[0m         return _minimize_lbfgsb(fun, x0, args, jac, bounds,\n\u001b[0;32m--> 610\u001b[0;31m                                 callback=callback, **options)\n\u001b[0m\u001b[1;32m    611\u001b[0m     \u001b[0;32melif\u001b[0m \u001b[0mmeth\u001b[0m \u001b[0;34m==\u001b[0m \u001b[0;34m'tnc'\u001b[0m\u001b[0;34m:\u001b[0m\u001b[0;34m\u001b[0m\u001b[0;34m\u001b[0m\u001b[0m\n\u001b[1;32m    612\u001b[0m         return _minimize_tnc(fun, x0, args, jac, bounds, callback=callback,\n",
            "\u001b[0;32m/usr/local/lib/python3.7/dist-packages/scipy/optimize/lbfgsb.py\u001b[0m in \u001b[0;36m_minimize_lbfgsb\u001b[0;34m(fun, x0, args, jac, bounds, disp, maxcor, ftol, gtol, eps, maxfun, maxiter, iprint, callback, maxls, **unknown_options)\u001b[0m\n\u001b[1;32m    343\u001b[0m             \u001b[0;31m# until the completion of the current minimization iteration.\u001b[0m\u001b[0;34m\u001b[0m\u001b[0;34m\u001b[0m\u001b[0;34m\u001b[0m\u001b[0m\n\u001b[1;32m    344\u001b[0m             \u001b[0;31m# Overwrite f and g:\u001b[0m\u001b[0;34m\u001b[0m\u001b[0;34m\u001b[0m\u001b[0;34m\u001b[0m\u001b[0m\n\u001b[0;32m--> 345\u001b[0;31m             \u001b[0mf\u001b[0m\u001b[0;34m,\u001b[0m \u001b[0mg\u001b[0m \u001b[0;34m=\u001b[0m \u001b[0mfunc_and_grad\u001b[0m\u001b[0;34m(\u001b[0m\u001b[0mx\u001b[0m\u001b[0;34m)\u001b[0m\u001b[0;34m\u001b[0m\u001b[0;34m\u001b[0m\u001b[0m\n\u001b[0m\u001b[1;32m    346\u001b[0m         \u001b[0;32melif\u001b[0m \u001b[0mtask_str\u001b[0m\u001b[0;34m.\u001b[0m\u001b[0mstartswith\u001b[0m\u001b[0;34m(\u001b[0m\u001b[0;34mb'NEW_X'\u001b[0m\u001b[0;34m)\u001b[0m\u001b[0;34m:\u001b[0m\u001b[0;34m\u001b[0m\u001b[0;34m\u001b[0m\u001b[0m\n\u001b[1;32m    347\u001b[0m             \u001b[0;31m# new iteration\u001b[0m\u001b[0;34m\u001b[0m\u001b[0;34m\u001b[0m\u001b[0;34m\u001b[0m\u001b[0m\n",
            "\u001b[0;32m/usr/local/lib/python3.7/dist-packages/scipy/optimize/lbfgsb.py\u001b[0m in \u001b[0;36mfunc_and_grad\u001b[0;34m(x)\u001b[0m\n\u001b[1;32m    293\u001b[0m     \u001b[0;32melse\u001b[0m\u001b[0;34m:\u001b[0m\u001b[0;34m\u001b[0m\u001b[0;34m\u001b[0m\u001b[0m\n\u001b[1;32m    294\u001b[0m         \u001b[0;32mdef\u001b[0m \u001b[0mfunc_and_grad\u001b[0m\u001b[0;34m(\u001b[0m\u001b[0mx\u001b[0m\u001b[0;34m)\u001b[0m\u001b[0;34m:\u001b[0m\u001b[0;34m\u001b[0m\u001b[0;34m\u001b[0m\u001b[0m\n\u001b[0;32m--> 295\u001b[0;31m             \u001b[0mf\u001b[0m \u001b[0;34m=\u001b[0m \u001b[0mfun\u001b[0m\u001b[0;34m(\u001b[0m\u001b[0mx\u001b[0m\u001b[0;34m,\u001b[0m \u001b[0;34m*\u001b[0m\u001b[0margs\u001b[0m\u001b[0;34m)\u001b[0m\u001b[0;34m\u001b[0m\u001b[0;34m\u001b[0m\u001b[0m\n\u001b[0m\u001b[1;32m    296\u001b[0m             \u001b[0mg\u001b[0m \u001b[0;34m=\u001b[0m \u001b[0mjac\u001b[0m\u001b[0;34m(\u001b[0m\u001b[0mx\u001b[0m\u001b[0;34m,\u001b[0m \u001b[0;34m*\u001b[0m\u001b[0margs\u001b[0m\u001b[0;34m)\u001b[0m\u001b[0;34m\u001b[0m\u001b[0;34m\u001b[0m\u001b[0m\n\u001b[1;32m    297\u001b[0m             \u001b[0;32mreturn\u001b[0m \u001b[0mf\u001b[0m\u001b[0;34m,\u001b[0m \u001b[0mg\u001b[0m\u001b[0;34m\u001b[0m\u001b[0;34m\u001b[0m\u001b[0m\n",
            "\u001b[0;32m/usr/local/lib/python3.7/dist-packages/scipy/optimize/optimize.py\u001b[0m in \u001b[0;36mfunction_wrapper\u001b[0;34m(*wrapper_args)\u001b[0m\n\u001b[1;32m    325\u001b[0m     \u001b[0;32mdef\u001b[0m \u001b[0mfunction_wrapper\u001b[0m\u001b[0;34m(\u001b[0m\u001b[0;34m*\u001b[0m\u001b[0mwrapper_args\u001b[0m\u001b[0;34m)\u001b[0m\u001b[0;34m:\u001b[0m\u001b[0;34m\u001b[0m\u001b[0;34m\u001b[0m\u001b[0m\n\u001b[1;32m    326\u001b[0m         \u001b[0mncalls\u001b[0m\u001b[0;34m[\u001b[0m\u001b[0;36m0\u001b[0m\u001b[0;34m]\u001b[0m \u001b[0;34m+=\u001b[0m \u001b[0;36m1\u001b[0m\u001b[0;34m\u001b[0m\u001b[0;34m\u001b[0m\u001b[0m\n\u001b[0;32m--> 327\u001b[0;31m         \u001b[0;32mreturn\u001b[0m \u001b[0mfunction\u001b[0m\u001b[0;34m(\u001b[0m\u001b[0;34m*\u001b[0m\u001b[0;34m(\u001b[0m\u001b[0mwrapper_args\u001b[0m \u001b[0;34m+\u001b[0m \u001b[0margs\u001b[0m\u001b[0;34m)\u001b[0m\u001b[0;34m)\u001b[0m\u001b[0;34m\u001b[0m\u001b[0;34m\u001b[0m\u001b[0m\n\u001b[0m\u001b[1;32m    328\u001b[0m \u001b[0;34m\u001b[0m\u001b[0m\n\u001b[1;32m    329\u001b[0m     \u001b[0;32mreturn\u001b[0m \u001b[0mncalls\u001b[0m\u001b[0;34m,\u001b[0m \u001b[0mfunction_wrapper\u001b[0m\u001b[0;34m\u001b[0m\u001b[0;34m\u001b[0m\u001b[0m\n",
            "\u001b[0;32m/usr/local/lib/python3.7/dist-packages/scipy/optimize/optimize.py\u001b[0m in \u001b[0;36m__call__\u001b[0;34m(self, x, *args)\u001b[0m\n\u001b[1;32m     63\u001b[0m     \u001b[0;32mdef\u001b[0m \u001b[0m__call__\u001b[0m\u001b[0;34m(\u001b[0m\u001b[0mself\u001b[0m\u001b[0;34m,\u001b[0m \u001b[0mx\u001b[0m\u001b[0;34m,\u001b[0m \u001b[0;34m*\u001b[0m\u001b[0margs\u001b[0m\u001b[0;34m)\u001b[0m\u001b[0;34m:\u001b[0m\u001b[0;34m\u001b[0m\u001b[0;34m\u001b[0m\u001b[0m\n\u001b[1;32m     64\u001b[0m         \u001b[0mself\u001b[0m\u001b[0;34m.\u001b[0m\u001b[0mx\u001b[0m \u001b[0;34m=\u001b[0m \u001b[0mnumpy\u001b[0m\u001b[0;34m.\u001b[0m\u001b[0masarray\u001b[0m\u001b[0;34m(\u001b[0m\u001b[0mx\u001b[0m\u001b[0;34m)\u001b[0m\u001b[0;34m.\u001b[0m\u001b[0mcopy\u001b[0m\u001b[0;34m(\u001b[0m\u001b[0;34m)\u001b[0m\u001b[0;34m\u001b[0m\u001b[0;34m\u001b[0m\u001b[0m\n\u001b[0;32m---> 65\u001b[0;31m         \u001b[0mfg\u001b[0m \u001b[0;34m=\u001b[0m \u001b[0mself\u001b[0m\u001b[0;34m.\u001b[0m\u001b[0mfun\u001b[0m\u001b[0;34m(\u001b[0m\u001b[0mx\u001b[0m\u001b[0;34m,\u001b[0m \u001b[0;34m*\u001b[0m\u001b[0margs\u001b[0m\u001b[0;34m)\u001b[0m\u001b[0;34m\u001b[0m\u001b[0;34m\u001b[0m\u001b[0m\n\u001b[0m\u001b[1;32m     66\u001b[0m         \u001b[0mself\u001b[0m\u001b[0;34m.\u001b[0m\u001b[0mjac\u001b[0m \u001b[0;34m=\u001b[0m \u001b[0mfg\u001b[0m\u001b[0;34m[\u001b[0m\u001b[0;36m1\u001b[0m\u001b[0;34m]\u001b[0m\u001b[0;34m\u001b[0m\u001b[0;34m\u001b[0m\u001b[0m\n\u001b[1;32m     67\u001b[0m         \u001b[0;32mreturn\u001b[0m \u001b[0mfg\u001b[0m\u001b[0;34m[\u001b[0m\u001b[0;36m0\u001b[0m\u001b[0;34m]\u001b[0m\u001b[0;34m\u001b[0m\u001b[0;34m\u001b[0m\u001b[0m\n",
            "\u001b[0;32m/usr/local/lib/python3.7/dist-packages/sklearn/linear_model/_logistic.py\u001b[0m in \u001b[0;36m_logistic_loss_and_grad\u001b[0;34m(w, X, y, alpha, sample_weight)\u001b[0m\n\u001b[1;32m    116\u001b[0m     \u001b[0mgrad\u001b[0m \u001b[0;34m=\u001b[0m \u001b[0mnp\u001b[0m\u001b[0;34m.\u001b[0m\u001b[0mempty_like\u001b[0m\u001b[0;34m(\u001b[0m\u001b[0mw\u001b[0m\u001b[0;34m)\u001b[0m\u001b[0;34m\u001b[0m\u001b[0;34m\u001b[0m\u001b[0m\n\u001b[1;32m    117\u001b[0m \u001b[0;34m\u001b[0m\u001b[0m\n\u001b[0;32m--> 118\u001b[0;31m     \u001b[0mw\u001b[0m\u001b[0;34m,\u001b[0m \u001b[0mc\u001b[0m\u001b[0;34m,\u001b[0m \u001b[0myz\u001b[0m \u001b[0;34m=\u001b[0m \u001b[0m_intercept_dot\u001b[0m\u001b[0;34m(\u001b[0m\u001b[0mw\u001b[0m\u001b[0;34m,\u001b[0m \u001b[0mX\u001b[0m\u001b[0;34m,\u001b[0m \u001b[0my\u001b[0m\u001b[0;34m)\u001b[0m\u001b[0;34m\u001b[0m\u001b[0;34m\u001b[0m\u001b[0m\n\u001b[0m\u001b[1;32m    119\u001b[0m \u001b[0;34m\u001b[0m\u001b[0m\n\u001b[1;32m    120\u001b[0m     \u001b[0;32mif\u001b[0m \u001b[0msample_weight\u001b[0m \u001b[0;32mis\u001b[0m \u001b[0;32mNone\u001b[0m\u001b[0;34m:\u001b[0m\u001b[0;34m\u001b[0m\u001b[0;34m\u001b[0m\u001b[0m\n",
            "\u001b[0;32m/usr/local/lib/python3.7/dist-packages/sklearn/linear_model/_logistic.py\u001b[0m in \u001b[0;36m_intercept_dot\u001b[0;34m(w, X, y)\u001b[0m\n\u001b[1;32m     79\u001b[0m         \u001b[0mw\u001b[0m \u001b[0;34m=\u001b[0m \u001b[0mw\u001b[0m\u001b[0;34m[\u001b[0m\u001b[0;34m:\u001b[0m\u001b[0;34m-\u001b[0m\u001b[0;36m1\u001b[0m\u001b[0;34m]\u001b[0m\u001b[0;34m\u001b[0m\u001b[0;34m\u001b[0m\u001b[0m\n\u001b[1;32m     80\u001b[0m \u001b[0;34m\u001b[0m\u001b[0m\n\u001b[0;32m---> 81\u001b[0;31m     \u001b[0mz\u001b[0m \u001b[0;34m=\u001b[0m \u001b[0msafe_sparse_dot\u001b[0m\u001b[0;34m(\u001b[0m\u001b[0mX\u001b[0m\u001b[0;34m,\u001b[0m \u001b[0mw\u001b[0m\u001b[0;34m)\u001b[0m \u001b[0;34m+\u001b[0m \u001b[0mc\u001b[0m\u001b[0;34m\u001b[0m\u001b[0;34m\u001b[0m\u001b[0m\n\u001b[0m\u001b[1;32m     82\u001b[0m     \u001b[0myz\u001b[0m \u001b[0;34m=\u001b[0m \u001b[0my\u001b[0m \u001b[0;34m*\u001b[0m \u001b[0mz\u001b[0m\u001b[0;34m\u001b[0m\u001b[0;34m\u001b[0m\u001b[0m\n\u001b[1;32m     83\u001b[0m     \u001b[0;32mreturn\u001b[0m \u001b[0mw\u001b[0m\u001b[0;34m,\u001b[0m \u001b[0mc\u001b[0m\u001b[0;34m,\u001b[0m \u001b[0myz\u001b[0m\u001b[0;34m\u001b[0m\u001b[0;34m\u001b[0m\u001b[0m\n",
            "\u001b[0;32m/usr/local/lib/python3.7/dist-packages/sklearn/utils/extmath.py\u001b[0m in \u001b[0;36msafe_sparse_dot\u001b[0;34m(a, b, dense_output)\u001b[0m\n\u001b[1;32m    149\u001b[0m             \u001b[0mret\u001b[0m \u001b[0;34m=\u001b[0m \u001b[0mnp\u001b[0m\u001b[0;34m.\u001b[0m\u001b[0mdot\u001b[0m\u001b[0;34m(\u001b[0m\u001b[0ma\u001b[0m\u001b[0;34m,\u001b[0m \u001b[0mb\u001b[0m\u001b[0;34m)\u001b[0m\u001b[0;34m\u001b[0m\u001b[0;34m\u001b[0m\u001b[0m\n\u001b[1;32m    150\u001b[0m     \u001b[0;32melse\u001b[0m\u001b[0;34m:\u001b[0m\u001b[0;34m\u001b[0m\u001b[0;34m\u001b[0m\u001b[0m\n\u001b[0;32m--> 151\u001b[0;31m         \u001b[0mret\u001b[0m \u001b[0;34m=\u001b[0m \u001b[0ma\u001b[0m \u001b[0;34m@\u001b[0m \u001b[0mb\u001b[0m\u001b[0;34m\u001b[0m\u001b[0;34m\u001b[0m\u001b[0m\n\u001b[0m\u001b[1;32m    152\u001b[0m \u001b[0;34m\u001b[0m\u001b[0m\n\u001b[1;32m    153\u001b[0m     if (sparse.issparse(a) and sparse.issparse(b)\n",
            "\u001b[0;31mKeyboardInterrupt\u001b[0m: "
          ]
        }
      ]
    },
    {
      "cell_type": "code",
      "metadata": {
        "colab": {
          "base_uri": "https://localhost:8080/"
        },
        "id": "kaoCDc1iC9aC",
        "outputId": "2e1d82a2-e8ae-4f46-8601-971d5b673de7"
      },
      "source": [
        "print(clf.best_params_)\n",
        "print(clf.best_score_)"
      ],
      "execution_count": null,
      "outputs": [
        {
          "output_type": "stream",
          "name": "stdout",
          "text": [
            "{'logistic__cv': 10}\n",
            "0.8446984774516559\n"
          ]
        }
      ]
    },
    {
      "cell_type": "markdown",
      "metadata": {
        "id": "uVahy6JKEEZQ"
      },
      "source": [
        "Выпишите какое лучшее качество и с какими параметрами вам удалось получить"
      ]
    },
    {
      "cell_type": "markdown",
      "metadata": {
        "id": "36729TOQEEZR"
      },
      "source": [
        ""
      ]
    },
    {
      "cell_type": "markdown",
      "metadata": {
        "id": "BlTeVy7fEEZR"
      },
      "source": [
        "## Применение градиентного бустинга (2 балла)\n",
        "\n",
        "Если вы хотите получить баллы за точный ответ, то стоит попробовать градиентный бустинг. Часто градиентный бустинг с дефолтными параметрами даст вам 80% результата за 0% усилий.\n",
        "\n",
        "Мы будем использовать catboost, поэтому нам не надо кодировать категориальные признаки. catboost сделает это сам (в .fit() надо передать cat_features=cat_cols). А численные признаки нормировать для моделей, основанных на деревьях не нужно.\n",
        "\n",
        "1) Разделите выборку на train/valid. Протестируйте catboost cо стандартными параметрами.\n",
        "\n",
        "2) Протестируйте разные занчения параметроа количества деревьев и learning_rate'а и выберите лучшую по метрике ROC-AUC комбинацию. \n",
        "\n",
        "(Дополнительно) Есть некоторые сложности с тем, чтобы использовать CatBoostClassifier вместе с GridSearchCV, поэтому мы не просим использовать кроссвалидацию. Но можете попробовать)"
      ]
    },
    {
      "cell_type": "code",
      "metadata": {
        "colab": {
          "base_uri": "https://localhost:8080/"
        },
        "id": "ERncZrZRBw06",
        "outputId": "b97e7d84-b300-4673-8753-9d8dc2271e75"
      },
      "source": [
        "pip install catboost"
      ],
      "execution_count": 14,
      "outputs": [
        {
          "output_type": "stream",
          "name": "stdout",
          "text": [
            "Requirement already satisfied: catboost in /usr/local/lib/python3.7/dist-packages (1.0.3)\n",
            "Requirement already satisfied: scipy in /usr/local/lib/python3.7/dist-packages (from catboost) (1.4.1)\n",
            "Requirement already satisfied: matplotlib in /usr/local/lib/python3.7/dist-packages (from catboost) (3.2.2)\n",
            "Requirement already satisfied: six in /usr/local/lib/python3.7/dist-packages (from catboost) (1.15.0)\n",
            "Requirement already satisfied: plotly in /usr/local/lib/python3.7/dist-packages (from catboost) (4.4.1)\n",
            "Requirement already satisfied: graphviz in /usr/local/lib/python3.7/dist-packages (from catboost) (0.10.1)\n",
            "Requirement already satisfied: numpy>=1.16.0 in /usr/local/lib/python3.7/dist-packages (from catboost) (1.19.5)\n",
            "Requirement already satisfied: pandas>=0.24.0 in /usr/local/lib/python3.7/dist-packages (from catboost) (1.1.5)\n",
            "Requirement already satisfied: python-dateutil>=2.7.3 in /usr/local/lib/python3.7/dist-packages (from pandas>=0.24.0->catboost) (2.8.2)\n",
            "Requirement already satisfied: pytz>=2017.2 in /usr/local/lib/python3.7/dist-packages (from pandas>=0.24.0->catboost) (2018.9)\n",
            "Requirement already satisfied: kiwisolver>=1.0.1 in /usr/local/lib/python3.7/dist-packages (from matplotlib->catboost) (1.3.2)\n",
            "Requirement already satisfied: cycler>=0.10 in /usr/local/lib/python3.7/dist-packages (from matplotlib->catboost) (0.11.0)\n",
            "Requirement already satisfied: pyparsing!=2.0.4,!=2.1.2,!=2.1.6,>=2.0.1 in /usr/local/lib/python3.7/dist-packages (from matplotlib->catboost) (2.4.7)\n",
            "Requirement already satisfied: retrying>=1.3.3 in /usr/local/lib/python3.7/dist-packages (from plotly->catboost) (1.3.3)\n"
          ]
        }
      ]
    },
    {
      "cell_type": "code",
      "metadata": {
        "id": "Fioxxlp-EEZS",
        "colab": {
          "base_uri": "https://localhost:8080/",
          "height": 35,
          "referenced_widgets": [
            "d8931b5456854a8aaef6a9b94c72d566"
          ]
        },
        "outputId": "6523c17f-124d-4561-dc93-3508f514db67"
      },
      "source": [
        "# YOUR CODE\n",
        "from catboost import CatBoostClassifier\n",
        "X_train, X_valid, Y_train, Y_valid = train_test_split(x_train,y_train,test_size=0.3)\n",
        "model = CatBoostClassifier(loss_function='Logloss', \n",
        "                                    random_state=42,\n",
        "                                    verbose=False,\n",
        "                                    eval_metric='AUC',\n",
        "                                                                \n",
        ")\n",
        "model.fit(X_train, Y_train, cat_features=cat_cols,\n",
        "   eval_set=(X_valid, Y_valid),\n",
        "   logging_level='Silent',\n",
        "   plot=True)\n"
      ],
      "execution_count": 15,
      "outputs": [
        {
          "output_type": "display_data",
          "data": {
            "application/vnd.jupyter.widget-view+json": {
              "model_id": "d8931b5456854a8aaef6a9b94c72d566",
              "version_minor": 0,
              "version_major": 2
            },
            "text/plain": [
              "MetricVisualizer(layout=Layout(align_self='stretch', height='500px'))"
            ]
          },
          "metadata": {}
        },
        {
          "output_type": "execute_result",
          "data": {
            "text/plain": [
              "<catboost.core.CatBoostClassifier at 0x7f7fece48b10>"
            ]
          },
          "metadata": {},
          "execution_count": 15
        }
      ]
    },
    {
      "cell_type": "code",
      "metadata": {
        "colab": {
          "base_uri": "https://localhost:8080/"
        },
        "id": "Hej7cDYHD5q7",
        "outputId": "c25714b4-7777-480c-9661-b9b096db0aa0"
      },
      "source": [
        "from sklearn.metrics import roc_auc_score\n",
        "y_pred_train = model.predict_proba(X_train)[:, 1]\n",
        "y_pred_test = model.predict_proba(X_valid)[:, 1]\n",
        "train_auc = roc_auc_score(Y_train, y_pred_train)\n",
        "test_auc = roc_auc_score(Y_valid, y_pred_test)\n",
        "print(train_auc)\n",
        "print(test_auc)"
      ],
      "execution_count": 16,
      "outputs": [
        {
          "output_type": "stream",
          "name": "stdout",
          "text": [
            "0.8617759788133212\n",
            "0.8516359444633134\n"
          ]
        }
      ]
    },
    {
      "cell_type": "code",
      "metadata": {
        "colab": {
          "base_uri": "https://localhost:8080/",
          "height": 1000,
          "referenced_widgets": [
            "6f02f3e24e5c4df4b80daf7f2c9626ba"
          ]
        },
        "id": "SxbzO7vcGV3e",
        "outputId": "49c64b48-0cab-40d9-c1eb-d8fd0872e65b"
      },
      "source": [
        "from catboost import Pool\n",
        "pool = Pool(data=X_train,\n",
        "                  label=Y_train,\n",
        "                  cat_features=cat_cols,\n",
        ")\n",
        "best_model = CatBoostClassifier(loss_function='Logloss', \n",
        "                                    random_state=42,\n",
        "                                    verbose=False,\n",
        "                                    eval_metric='AUC',\n",
        "                                                                \n",
        ")\n",
        "param_grid = {\n",
        "    'learning_rate': [100, 10, 1, 0.1, 0.01, 0.001],\n",
        "    'iterations':[100,200,300,400,500],\n",
        "}\n",
        "grid_search_result = best_model.grid_search(param_grid, X=pool, \n",
        "                                                 verbose=False, plot=True)"
      ],
      "execution_count": 17,
      "outputs": [
        {
          "output_type": "display_data",
          "data": {
            "application/vnd.jupyter.widget-view+json": {
              "model_id": "6f02f3e24e5c4df4b80daf7f2c9626ba",
              "version_minor": 0,
              "version_major": 2
            },
            "text/plain": [
              "MetricVisualizer(layout=Layout(align_self='stretch', height='500px'))"
            ]
          },
          "metadata": {}
        },
        {
          "output_type": "stream",
          "name": "stderr",
          "text": [
            "learning rate is greater than 1. You probably need to decrease learning rate.\n",
            "Training has stopped (degenerate solution on iteration 3, probably too small l2-regularization, try to increase it)\n",
            "learning rate is greater than 1. You probably need to decrease learning rate.\n",
            "Training has stopped (degenerate solution on iteration 5, probably too small l2-regularization, try to increase it)\n"
          ]
        },
        {
          "output_type": "stream",
          "name": "stdout",
          "text": [
            "\n",
            "bestTest = 0.7836161442\n",
            "bestIteration = 0\n",
            "\n",
            "Metric AUC is not calculated on train by default. To calculate this metric on train, add hints=skip_train~false to metric parameters.\n",
            "\n",
            "bestTest = 0.7836161442\n",
            "bestIteration = 0\n",
            "\n",
            "Metric AUC is not calculated on train by default. To calculate this metric on train, add hints=skip_train~false to metric parameters.\n",
            "\n",
            "bestTest = 0.8233726392\n",
            "bestIteration = 7\n",
            "\n",
            "Metric AUC is not calculated on train by default. To calculate this metric on train, add hints=skip_train~false to metric parameters.\n",
            "\n",
            "bestTest = 0.8323698591\n",
            "bestIteration = 57\n",
            "\n",
            "Metric AUC is not calculated on train by default. To calculate this metric on train, add hints=skip_train~false to metric parameters.\n",
            "\n",
            "bestTest = 0.8319144857\n",
            "bestIteration = 99\n",
            "\n",
            "Metric AUC is not calculated on train by default. To calculate this metric on train, add hints=skip_train~false to metric parameters.\n",
            "\n",
            "bestTest = 0.8195331224\n",
            "bestIteration = 8\n",
            "\n",
            "Metric AUC is not calculated on train by default. To calculate this metric on train, add hints=skip_train~false to metric parameters.\n"
          ]
        },
        {
          "output_type": "stream",
          "name": "stderr",
          "text": [
            "learning rate is greater than 1. You probably need to decrease learning rate.\n"
          ]
        },
        {
          "output_type": "stream",
          "name": "stdout",
          "text": [
            "\n",
            "bestTest = 0.7879925223\n",
            "bestIteration = 0\n",
            "\n",
            "Metric AUC is not calculated on train by default. To calculate this metric on train, add hints=skip_train~false to metric parameters.\n",
            "\n",
            "bestTest = 0.7879925223\n",
            "bestIteration = 0\n",
            "\n",
            "Metric AUC is not calculated on train by default. To calculate this metric on train, add hints=skip_train~false to metric parameters.\n"
          ]
        },
        {
          "output_type": "stream",
          "name": "stderr",
          "text": [
            "learning rate is greater than 1. You probably need to decrease learning rate.\n",
            "Training has stopped (degenerate solution on iteration 6, probably too small l2-regularization, try to increase it)\n"
          ]
        },
        {
          "output_type": "stream",
          "name": "stdout",
          "text": [
            "\n",
            "bestTest = 0.8126785543\n",
            "bestIteration = 2\n",
            "\n",
            "Metric AUC is not calculated on train by default. To calculate this metric on train, add hints=skip_train~false to metric parameters.\n",
            "\n",
            "bestTest = 0.8381650848\n",
            "bestIteration = 59\n",
            "\n",
            "Metric AUC is not calculated on train by default. To calculate this metric on train, add hints=skip_train~false to metric parameters.\n",
            "\n",
            "bestTest = 0.8347617678\n",
            "bestIteration = 199\n",
            "\n",
            "Metric AUC is not calculated on train by default. To calculate this metric on train, add hints=skip_train~false to metric parameters.\n",
            "\n",
            "bestTest = 0.8215990797\n",
            "bestIteration = 199\n",
            "\n",
            "Metric AUC is not calculated on train by default. To calculate this metric on train, add hints=skip_train~false to metric parameters.\n"
          ]
        },
        {
          "output_type": "stream",
          "name": "stderr",
          "text": [
            "learning rate is greater than 1. You probably need to decrease learning rate.\n"
          ]
        },
        {
          "output_type": "stream",
          "name": "stdout",
          "text": [
            "\n",
            "bestTest = 0.7879925223\n",
            "bestIteration = 0\n",
            "\n",
            "Metric AUC is not calculated on train by default. To calculate this metric on train, add hints=skip_train~false to metric parameters.\n",
            "\n",
            "bestTest = 0.7879925223\n",
            "bestIteration = 0\n",
            "\n",
            "Metric AUC is not calculated on train by default. To calculate this metric on train, add hints=skip_train~false to metric parameters.\n"
          ]
        },
        {
          "output_type": "stream",
          "name": "stderr",
          "text": [
            "learning rate is greater than 1. You probably need to decrease learning rate.\n",
            "Training has stopped (degenerate solution on iteration 6, probably too small l2-regularization, try to increase it)\n"
          ]
        },
        {
          "output_type": "stream",
          "name": "stdout",
          "text": [
            "\n",
            "bestTest = 0.8126785543\n",
            "bestIteration = 2\n",
            "\n",
            "Metric AUC is not calculated on train by default. To calculate this metric on train, add hints=skip_train~false to metric parameters.\n",
            "\n",
            "bestTest = 0.8381650848\n",
            "bestIteration = 59\n",
            "\n",
            "Metric AUC is not calculated on train by default. To calculate this metric on train, add hints=skip_train~false to metric parameters.\n",
            "\n",
            "bestTest = 0.8364106989\n",
            "bestIteration = 284\n",
            "\n",
            "Metric AUC is not calculated on train by default. To calculate this metric on train, add hints=skip_train~false to metric parameters.\n",
            "\n",
            "bestTest = 0.8231809031\n",
            "bestIteration = 299\n",
            "\n",
            "Metric AUC is not calculated on train by default. To calculate this metric on train, add hints=skip_train~false to metric parameters.\n"
          ]
        },
        {
          "output_type": "stream",
          "name": "stderr",
          "text": [
            "learning rate is greater than 1. You probably need to decrease learning rate.\n"
          ]
        },
        {
          "output_type": "stream",
          "name": "stdout",
          "text": [
            "\n",
            "bestTest = 0.7879925223\n",
            "bestIteration = 0\n",
            "\n",
            "Metric AUC is not calculated on train by default. To calculate this metric on train, add hints=skip_train~false to metric parameters.\n",
            "\n",
            "bestTest = 0.7879925223\n",
            "bestIteration = 0\n",
            "\n",
            "Metric AUC is not calculated on train by default. To calculate this metric on train, add hints=skip_train~false to metric parameters.\n"
          ]
        },
        {
          "output_type": "stream",
          "name": "stderr",
          "text": [
            "learning rate is greater than 1. You probably need to decrease learning rate.\n",
            "Training has stopped (degenerate solution on iteration 6, probably too small l2-regularization, try to increase it)\n"
          ]
        },
        {
          "output_type": "stream",
          "name": "stdout",
          "text": [
            "\n",
            "bestTest = 0.8126785543\n",
            "bestIteration = 2\n",
            "\n",
            "Metric AUC is not calculated on train by default. To calculate this metric on train, add hints=skip_train~false to metric parameters.\n",
            "\n",
            "bestTest = 0.8381650848\n",
            "bestIteration = 59\n",
            "\n",
            "Metric AUC is not calculated on train by default. To calculate this metric on train, add hints=skip_train~false to metric parameters.\n",
            "\n",
            "bestTest = 0.8368900393\n",
            "bestIteration = 327\n",
            "\n",
            "Metric AUC is not calculated on train by default. To calculate this metric on train, add hints=skip_train~false to metric parameters.\n",
            "\n",
            "bestTest = 0.8266225673\n",
            "bestIteration = 394\n",
            "\n",
            "Metric AUC is not calculated on train by default. To calculate this metric on train, add hints=skip_train~false to metric parameters.\n"
          ]
        },
        {
          "output_type": "stream",
          "name": "stderr",
          "text": [
            "learning rate is greater than 1. You probably need to decrease learning rate.\n"
          ]
        },
        {
          "output_type": "stream",
          "name": "stdout",
          "text": [
            "\n",
            "bestTest = 0.7879925223\n",
            "bestIteration = 0\n",
            "\n",
            "Metric AUC is not calculated on train by default. To calculate this metric on train, add hints=skip_train~false to metric parameters.\n",
            "\n",
            "bestTest = 0.7879925223\n",
            "bestIteration = 0\n",
            "\n",
            "Metric AUC is not calculated on train by default. To calculate this metric on train, add hints=skip_train~false to metric parameters.\n"
          ]
        },
        {
          "output_type": "stream",
          "name": "stderr",
          "text": [
            "learning rate is greater than 1. You probably need to decrease learning rate.\n",
            "Training has stopped (degenerate solution on iteration 6, probably too small l2-regularization, try to increase it)\n"
          ]
        },
        {
          "output_type": "stream",
          "name": "stdout",
          "text": [
            "\n",
            "bestTest = 0.8126785543\n",
            "bestIteration = 2\n",
            "\n",
            "Metric AUC is not calculated on train by default. To calculate this metric on train, add hints=skip_train~false to metric parameters.\n",
            "\n",
            "bestTest = 0.8381650848\n",
            "bestIteration = 59\n",
            "\n",
            "Metric AUC is not calculated on train by default. To calculate this metric on train, add hints=skip_train~false to metric parameters.\n",
            "\n",
            "bestTest = 0.8368900393\n",
            "bestIteration = 327\n",
            "\n",
            "Metric AUC is not calculated on train by default. To calculate this metric on train, add hints=skip_train~false to metric parameters.\n",
            "\n",
            "bestTest = 0.827389512\n",
            "bestIteration = 496\n",
            "\n",
            "Metric AUC is not calculated on train by default. To calculate this metric on train, add hints=skip_train~false to metric parameters.\n",
            "Training on fold [0/3]\n",
            "\n",
            "bestTest = 0.8246818783\n",
            "bestIteration = 44\n",
            "\n",
            "Training on fold [1/3]\n",
            "\n",
            "bestTest = 0.8596191206\n",
            "bestIteration = 38\n",
            "\n",
            "Training on fold [2/3]\n",
            "\n",
            "bestTest = 0.8463741894\n",
            "bestIteration = 83\n",
            "\n"
          ]
        }
      ]
    },
    {
      "cell_type": "code",
      "metadata": {
        "colab": {
          "base_uri": "https://localhost:8080/"
        },
        "id": "vFE9B8zOLSup",
        "outputId": "a3971ea7-ea1f-46e1-c304-64c7249b4fb1"
      },
      "source": [
        "grid_search_result['params']"
      ],
      "execution_count": 18,
      "outputs": [
        {
          "output_type": "execute_result",
          "data": {
            "text/plain": [
              "{'iterations': 200, 'learning_rate': 0.1}"
            ]
          },
          "metadata": {},
          "execution_count": 18
        }
      ]
    },
    {
      "cell_type": "code",
      "metadata": {
        "colab": {
          "base_uri": "https://localhost:8080/"
        },
        "id": "2N-cb6MKQufi",
        "outputId": "394d45cf-817d-412e-fbab-c91b3294a3db"
      },
      "source": [
        "y_pred_train = best_model.predict_proba(X_train)[:, 1]\n",
        "y_pred_test = best_model.predict_proba(X_valid)[:, 1]\n",
        "train_auc = roc_auc_score(Y_train, y_pred_train)\n",
        "test_auc = roc_auc_score(Y_valid, y_pred_test)\n",
        "print(train_auc)\n",
        "print(test_auc)"
      ],
      "execution_count": 19,
      "outputs": [
        {
          "output_type": "stream",
          "name": "stdout",
          "text": [
            "0.8890654825086898\n",
            "0.8385329504636635\n"
          ]
        }
      ]
    },
    {
      "cell_type": "markdown",
      "metadata": {
        "id": "rf4Kjt96EEZU"
      },
      "source": [
        "Выпишите какое лучшее качество и с какими параметрами вам удалось получить"
      ]
    },
    {
      "cell_type": "markdown",
      "metadata": {
        "id": "d2d9GolXEEZV"
      },
      "source": [
        ""
      ]
    },
    {
      "cell_type": "markdown",
      "metadata": {
        "id": "dDMXbvNZEEZV"
      },
      "source": [
        "# Предсказания"
      ]
    },
    {
      "cell_type": "code",
      "metadata": {
        "id": "G_P4wFNaEEZW"
      },
      "source": [
        "best_model = best_model"
      ],
      "execution_count": 20,
      "outputs": []
    },
    {
      "cell_type": "code",
      "metadata": {
        "id": "FfSufx0CEEZZ",
        "colab": {
          "base_uri": "https://localhost:8080/",
          "height": 424
        },
        "outputId": "1cb7b675-d0ea-4dcd-fe4e-b6d8e71f9cbd"
      },
      "source": [
        "X_test = pd.read_csv('test.csv')\n",
        "submission = pd.read_csv('submission.csv')\n",
        "submission\n"
      ],
      "execution_count": 23,
      "outputs": [
        {
          "output_type": "execute_result",
          "data": {
            "text/html": [
              "<div>\n",
              "<style scoped>\n",
              "    .dataframe tbody tr th:only-of-type {\n",
              "        vertical-align: middle;\n",
              "    }\n",
              "\n",
              "    .dataframe tbody tr th {\n",
              "        vertical-align: top;\n",
              "    }\n",
              "\n",
              "    .dataframe thead th {\n",
              "        text-align: right;\n",
              "    }\n",
              "</style>\n",
              "<table border=\"1\" class=\"dataframe\">\n",
              "  <thead>\n",
              "    <tr style=\"text-align: right;\">\n",
              "      <th></th>\n",
              "      <th>Id</th>\n",
              "      <th>Churn</th>\n",
              "    </tr>\n",
              "  </thead>\n",
              "  <tbody>\n",
              "    <tr>\n",
              "      <th>0</th>\n",
              "      <td>0</td>\n",
              "      <td>0.5</td>\n",
              "    </tr>\n",
              "    <tr>\n",
              "      <th>1</th>\n",
              "      <td>1</td>\n",
              "      <td>0.5</td>\n",
              "    </tr>\n",
              "    <tr>\n",
              "      <th>2</th>\n",
              "      <td>2</td>\n",
              "      <td>0.5</td>\n",
              "    </tr>\n",
              "    <tr>\n",
              "      <th>3</th>\n",
              "      <td>3</td>\n",
              "      <td>0.5</td>\n",
              "    </tr>\n",
              "    <tr>\n",
              "      <th>4</th>\n",
              "      <td>4</td>\n",
              "      <td>0.5</td>\n",
              "    </tr>\n",
              "    <tr>\n",
              "      <th>...</th>\n",
              "      <td>...</td>\n",
              "      <td>...</td>\n",
              "    </tr>\n",
              "    <tr>\n",
              "      <th>1756</th>\n",
              "      <td>1756</td>\n",
              "      <td>0.5</td>\n",
              "    </tr>\n",
              "    <tr>\n",
              "      <th>1757</th>\n",
              "      <td>1757</td>\n",
              "      <td>0.5</td>\n",
              "    </tr>\n",
              "    <tr>\n",
              "      <th>1758</th>\n",
              "      <td>1758</td>\n",
              "      <td>0.5</td>\n",
              "    </tr>\n",
              "    <tr>\n",
              "      <th>1759</th>\n",
              "      <td>1759</td>\n",
              "      <td>0.5</td>\n",
              "    </tr>\n",
              "    <tr>\n",
              "      <th>1760</th>\n",
              "      <td>1760</td>\n",
              "      <td>0.5</td>\n",
              "    </tr>\n",
              "  </tbody>\n",
              "</table>\n",
              "<p>1761 rows × 2 columns</p>\n",
              "</div>"
            ],
            "text/plain": [
              "        Id  Churn\n",
              "0        0    0.5\n",
              "1        1    0.5\n",
              "2        2    0.5\n",
              "3        3    0.5\n",
              "4        4    0.5\n",
              "...    ...    ...\n",
              "1756  1756    0.5\n",
              "1757  1757    0.5\n",
              "1758  1758    0.5\n",
              "1759  1759    0.5\n",
              "1760  1760    0.5\n",
              "\n",
              "[1761 rows x 2 columns]"
            ]
          },
          "metadata": {},
          "execution_count": 23
        }
      ]
    },
    {
      "cell_type": "code",
      "metadata": {
        "id": "HqrwT6SBVvzw"
      },
      "source": [
        "submission['Churn'] =  best_model.predict_proba(X_test)[:, 1]\n",
        "submission.to_csv('./my_submission.csv')"
      ],
      "execution_count": 24,
      "outputs": []
    },
    {
      "cell_type": "markdown",
      "metadata": {
        "id": "mkxjbGkVEEZc"
      },
      "source": [
        "# Kaggle (5 баллов)\n",
        "\n",
        "Как выставить баллы:\n",
        "\n",
        "1) 1 >= roc auc > 0.84 это 5 баллов\n",
        "\n",
        "2) 0.84 >= roc auc > 0.7 это 3 балла\n",
        "\n",
        "3) 0.7 >= roc auc > 0.6 это 1 балл\n",
        "\n",
        "4) 0.6 >= roc auc это 0 баллов\n",
        "\n",
        "\n",
        "Для выполнения задания необходимо выполнить следующие шаги.\n",
        "* Зарегистрироваться на платформе [kaggle.com](kaggle.com). Процесс выставления оценок будет проходить при подведении итогового рейтинга. Пожалуйста, укажите во вкладке Team -> Team name свои имя и фамилию в формате Имя_Фамилия (важно, чтобы имя и фамилия совпадали с данными на Stepik).\n",
        "* Обучить модель, получить файл с ответами в формате .csv и сдать его в конкурс. Пробуйте и экспериментируйте. Обратите внимание, что вы можете выполнять до 20 попыток сдачи на kaggle в день.\n",
        "* После окончания соревнования отправить в итоговый ноутбук с решением на степик. \n",
        "* После дедлайна проверьте посылки других участников по критериям. Для этого надо зайти на степик, скачать их ноутбук и проверить скор в соревновании."
      ]
    }
  ]
}